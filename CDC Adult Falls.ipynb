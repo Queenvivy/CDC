{
 "cells": [
  {
   "cell_type": "code",
   "execution_count": 1,
   "id": "a519ed2f",
   "metadata": {},
   "outputs": [],
   "source": [
    "import pandas as pd\n",
    "import numpy as np\n",
    "import plotly.express as px \n",
    "import matplotlib.pyplot as plt\n",
    "import seaborn as sns\n",
    "import warnings \n",
    "warnings.filterwarnings('ignore') "
   ]
  },
  {
   "cell_type": "code",
   "execution_count": 2,
   "id": "5c7bf6a0",
   "metadata": {},
   "outputs": [
    {
     "data": {
      "text/html": [
       "<div>\n",
       "<style scoped>\n",
       "    .dataframe tbody tr th:only-of-type {\n",
       "        vertical-align: middle;\n",
       "    }\n",
       "\n",
       "    .dataframe tbody tr th {\n",
       "        vertical-align: top;\n",
       "    }\n",
       "\n",
       "    .dataframe thead th {\n",
       "        text-align: right;\n",
       "    }\n",
       "</style>\n",
       "<table border=\"1\" class=\"dataframe\">\n",
       "  <thead>\n",
       "    <tr style=\"text-align: right;\">\n",
       "      <th></th>\n",
       "      <th>cpsc_case_number</th>\n",
       "      <th>narrative</th>\n",
       "      <th>treatment_date</th>\n",
       "      <th>age</th>\n",
       "      <th>sex</th>\n",
       "      <th>race</th>\n",
       "      <th>other_race</th>\n",
       "      <th>hispanic</th>\n",
       "      <th>diagnosis</th>\n",
       "      <th>other_diagnosis</th>\n",
       "      <th>diagnosis_2</th>\n",
       "      <th>other_diagnosis_2</th>\n",
       "      <th>body_part</th>\n",
       "      <th>body_part_2</th>\n",
       "      <th>disposition</th>\n",
       "      <th>location</th>\n",
       "      <th>fire_involvement</th>\n",
       "      <th>alcohol</th>\n",
       "      <th>drug</th>\n",
       "      <th>product_1</th>\n",
       "      <th>product_2</th>\n",
       "      <th>product_3</th>\n",
       "    </tr>\n",
       "  </thead>\n",
       "  <tbody>\n",
       "    <tr>\n",
       "      <th>0</th>\n",
       "      <td>190103269</td>\n",
       "      <td>94YOM FELL TO THE FLOOR AT THE NURSING HOME ON...</td>\n",
       "      <td>2019-01-01</td>\n",
       "      <td>94</td>\n",
       "      <td>1</td>\n",
       "      <td>0</td>\n",
       "      <td>NaN</td>\n",
       "      <td>0</td>\n",
       "      <td>62</td>\n",
       "      <td>NaN</td>\n",
       "      <td>NaN</td>\n",
       "      <td>NaN</td>\n",
       "      <td>75</td>\n",
       "      <td>NaN</td>\n",
       "      <td>4</td>\n",
       "      <td>5</td>\n",
       "      <td>0</td>\n",
       "      <td>0</td>\n",
       "      <td>0</td>\n",
       "      <td>1807</td>\n",
       "      <td>0</td>\n",
       "      <td>0</td>\n",
       "    </tr>\n",
       "    <tr>\n",
       "      <th>1</th>\n",
       "      <td>190103270</td>\n",
       "      <td>86YOM FELL IN THE SHOWER AT HOME AND SUSTAINED...</td>\n",
       "      <td>2019-01-01</td>\n",
       "      <td>86</td>\n",
       "      <td>1</td>\n",
       "      <td>0</td>\n",
       "      <td>NaN</td>\n",
       "      <td>0</td>\n",
       "      <td>62</td>\n",
       "      <td>NaN</td>\n",
       "      <td>NaN</td>\n",
       "      <td>NaN</td>\n",
       "      <td>75</td>\n",
       "      <td>NaN</td>\n",
       "      <td>4</td>\n",
       "      <td>1</td>\n",
       "      <td>0</td>\n",
       "      <td>0</td>\n",
       "      <td>0</td>\n",
       "      <td>611</td>\n",
       "      <td>0</td>\n",
       "      <td>0</td>\n",
       "    </tr>\n",
       "    <tr>\n",
       "      <th>2</th>\n",
       "      <td>190103273</td>\n",
       "      <td>87YOF WAS GETTING UP FROM THE COUCH AND FELL T...</td>\n",
       "      <td>2019-01-01</td>\n",
       "      <td>87</td>\n",
       "      <td>2</td>\n",
       "      <td>0</td>\n",
       "      <td>NaN</td>\n",
       "      <td>0</td>\n",
       "      <td>53</td>\n",
       "      <td>NaN</td>\n",
       "      <td>NaN</td>\n",
       "      <td>NaN</td>\n",
       "      <td>32</td>\n",
       "      <td>NaN</td>\n",
       "      <td>4</td>\n",
       "      <td>1</td>\n",
       "      <td>0</td>\n",
       "      <td>0</td>\n",
       "      <td>0</td>\n",
       "      <td>679</td>\n",
       "      <td>1807</td>\n",
       "      <td>0</td>\n",
       "    </tr>\n",
       "    <tr>\n",
       "      <th>3</th>\n",
       "      <td>190103291</td>\n",
       "      <td>67YOF WAS AT A FRIENDS HOUSE AND SLIPPED ON WA...</td>\n",
       "      <td>2019-01-01</td>\n",
       "      <td>67</td>\n",
       "      <td>2</td>\n",
       "      <td>0</td>\n",
       "      <td>NaN</td>\n",
       "      <td>0</td>\n",
       "      <td>57</td>\n",
       "      <td>NaN</td>\n",
       "      <td>NaN</td>\n",
       "      <td>NaN</td>\n",
       "      <td>33</td>\n",
       "      <td>NaN</td>\n",
       "      <td>1</td>\n",
       "      <td>1</td>\n",
       "      <td>0</td>\n",
       "      <td>0</td>\n",
       "      <td>0</td>\n",
       "      <td>1807</td>\n",
       "      <td>0</td>\n",
       "      <td>0</td>\n",
       "    </tr>\n",
       "    <tr>\n",
       "      <th>4</th>\n",
       "      <td>190103294</td>\n",
       "      <td>70YOF WAS STANDING ON A STEP STOOL AND FELL OF...</td>\n",
       "      <td>2019-01-01</td>\n",
       "      <td>70</td>\n",
       "      <td>2</td>\n",
       "      <td>0</td>\n",
       "      <td>NaN</td>\n",
       "      <td>0</td>\n",
       "      <td>57</td>\n",
       "      <td>NaN</td>\n",
       "      <td>NaN</td>\n",
       "      <td>NaN</td>\n",
       "      <td>33</td>\n",
       "      <td>NaN</td>\n",
       "      <td>1</td>\n",
       "      <td>1</td>\n",
       "      <td>0</td>\n",
       "      <td>0</td>\n",
       "      <td>0</td>\n",
       "      <td>620</td>\n",
       "      <td>0</td>\n",
       "      <td>0</td>\n",
       "    </tr>\n",
       "  </tbody>\n",
       "</table>\n",
       "</div>"
      ],
      "text/plain": [
       "   cpsc_case_number                                          narrative  \\\n",
       "0         190103269  94YOM FELL TO THE FLOOR AT THE NURSING HOME ON...   \n",
       "1         190103270  86YOM FELL IN THE SHOWER AT HOME AND SUSTAINED...   \n",
       "2         190103273  87YOF WAS GETTING UP FROM THE COUCH AND FELL T...   \n",
       "3         190103291  67YOF WAS AT A FRIENDS HOUSE AND SLIPPED ON WA...   \n",
       "4         190103294  70YOF WAS STANDING ON A STEP STOOL AND FELL OF...   \n",
       "\n",
       "  treatment_date  age  sex  race other_race  hispanic  diagnosis  \\\n",
       "0     2019-01-01   94    1     0        NaN         0         62   \n",
       "1     2019-01-01   86    1     0        NaN         0         62   \n",
       "2     2019-01-01   87    2     0        NaN         0         53   \n",
       "3     2019-01-01   67    2     0        NaN         0         57   \n",
       "4     2019-01-01   70    2     0        NaN         0         57   \n",
       "\n",
       "  other_diagnosis  diagnosis_2 other_diagnosis_2  body_part  body_part_2  \\\n",
       "0             NaN          NaN               NaN         75          NaN   \n",
       "1             NaN          NaN               NaN         75          NaN   \n",
       "2             NaN          NaN               NaN         32          NaN   \n",
       "3             NaN          NaN               NaN         33          NaN   \n",
       "4             NaN          NaN               NaN         33          NaN   \n",
       "\n",
       "   disposition  location  fire_involvement  alcohol  drug  product_1  \\\n",
       "0            4         5                 0        0     0       1807   \n",
       "1            4         1                 0        0     0        611   \n",
       "2            4         1                 0        0     0        679   \n",
       "3            1         1                 0        0     0       1807   \n",
       "4            1         1                 0        0     0        620   \n",
       "\n",
       "   product_2  product_3  \n",
       "0          0          0  \n",
       "1          0          0  \n",
       "2       1807          0  \n",
       "3          0          0  \n",
       "4          0          0  "
      ]
     },
     "execution_count": 2,
     "metadata": {},
     "output_type": "execute_result"
    }
   ],
   "source": [
    "df = pd.read_csv(\"CDC.csv\")\n",
    "pd.set_option('display.max_columns', 25)\n",
    "df.head()"
   ]
  },
  {
   "cell_type": "code",
   "execution_count": 3,
   "id": "3c291d8f",
   "metadata": {},
   "outputs": [
    {
     "data": {
      "text/plain": [
       "(115128, 22)"
      ]
     },
     "execution_count": 3,
     "metadata": {},
     "output_type": "execute_result"
    }
   ],
   "source": [
    "df.shape"
   ]
  },
  {
   "cell_type": "code",
   "execution_count": 4,
   "id": "415dc6f5",
   "metadata": {},
   "outputs": [
    {
     "name": "stdout",
     "output_type": "stream",
     "text": [
      "<class 'pandas.core.frame.DataFrame'>\n",
      "RangeIndex: 115128 entries, 0 to 115127\n",
      "Data columns (total 22 columns):\n",
      " #   Column             Non-Null Count   Dtype  \n",
      "---  ------             --------------   -----  \n",
      " 0   cpsc_case_number   115128 non-null  int64  \n",
      " 1   narrative          115128 non-null  object \n",
      " 2   treatment_date     115128 non-null  object \n",
      " 3   age                115128 non-null  int64  \n",
      " 4   sex                115128 non-null  int64  \n",
      " 5   race               115128 non-null  int64  \n",
      " 6   other_race         1022 non-null    object \n",
      " 7   hispanic           115128 non-null  int64  \n",
      " 8   diagnosis          115128 non-null  int64  \n",
      " 9   other_diagnosis    2522 non-null    object \n",
      " 10  diagnosis_2        43145 non-null   float64\n",
      " 11  other_diagnosis_2  4978 non-null    object \n",
      " 12  body_part          115128 non-null  int64  \n",
      " 13  body_part_2        43145 non-null   float64\n",
      " 14  disposition        115128 non-null  int64  \n",
      " 15  location           115128 non-null  int64  \n",
      " 16  fire_involvement   115128 non-null  int64  \n",
      " 17  alcohol            115128 non-null  int64  \n",
      " 18  drug               115128 non-null  int64  \n",
      " 19  product_1          115128 non-null  int64  \n",
      " 20  product_2          115128 non-null  int64  \n",
      " 21  product_3          115128 non-null  int64  \n",
      "dtypes: float64(2), int64(15), object(5)\n",
      "memory usage: 19.3+ MB\n"
     ]
    }
   ],
   "source": [
    "df.info()"
   ]
  },
  {
   "cell_type": "code",
   "execution_count": 5,
   "id": "2fcac76a",
   "metadata": {},
   "outputs": [
    {
     "data": {
      "text/html": [
       "<div>\n",
       "<style scoped>\n",
       "    .dataframe tbody tr th:only-of-type {\n",
       "        vertical-align: middle;\n",
       "    }\n",
       "\n",
       "    .dataframe tbody tr th {\n",
       "        vertical-align: top;\n",
       "    }\n",
       "\n",
       "    .dataframe thead th {\n",
       "        text-align: right;\n",
       "    }\n",
       "</style>\n",
       "<table border=\"1\" class=\"dataframe\">\n",
       "  <thead>\n",
       "    <tr style=\"text-align: right;\">\n",
       "      <th></th>\n",
       "      <th>cpsc_case_number</th>\n",
       "      <th>age</th>\n",
       "      <th>sex</th>\n",
       "      <th>race</th>\n",
       "      <th>hispanic</th>\n",
       "      <th>diagnosis</th>\n",
       "      <th>diagnosis_2</th>\n",
       "      <th>body_part</th>\n",
       "      <th>body_part_2</th>\n",
       "      <th>disposition</th>\n",
       "      <th>location</th>\n",
       "      <th>fire_involvement</th>\n",
       "      <th>alcohol</th>\n",
       "      <th>drug</th>\n",
       "      <th>product_1</th>\n",
       "      <th>product_2</th>\n",
       "      <th>product_3</th>\n",
       "    </tr>\n",
       "  </thead>\n",
       "  <tbody>\n",
       "    <tr>\n",
       "      <th>count</th>\n",
       "      <td>1.151280e+05</td>\n",
       "      <td>115128.000000</td>\n",
       "      <td>115128.000000</td>\n",
       "      <td>115128.000000</td>\n",
       "      <td>115128.000000</td>\n",
       "      <td>115128.000000</td>\n",
       "      <td>43145.000000</td>\n",
       "      <td>115128.000000</td>\n",
       "      <td>43145.000000</td>\n",
       "      <td>115128.000000</td>\n",
       "      <td>115128.000000</td>\n",
       "      <td>115128.000000</td>\n",
       "      <td>115128.000000</td>\n",
       "      <td>115128.000000</td>\n",
       "      <td>115128.000000</td>\n",
       "      <td>115128.000000</td>\n",
       "      <td>115128.000000</td>\n",
       "    </tr>\n",
       "    <tr>\n",
       "      <th>mean</th>\n",
       "      <td>2.081887e+08</td>\n",
       "      <td>79.354814</td>\n",
       "      <td>1.631158</td>\n",
       "      <td>0.795688</td>\n",
       "      <td>1.258634</td>\n",
       "      <td>58.685871</td>\n",
       "      <td>59.799815</td>\n",
       "      <td>65.514983</td>\n",
       "      <td>63.976799</td>\n",
       "      <td>2.122099</td>\n",
       "      <td>1.714691</td>\n",
       "      <td>0.000599</td>\n",
       "      <td>0.022479</td>\n",
       "      <td>0.040346</td>\n",
       "      <td>2167.772167</td>\n",
       "      <td>504.121899</td>\n",
       "      <td>56.160908</td>\n",
       "    </tr>\n",
       "    <tr>\n",
       "      <th>std</th>\n",
       "      <td>1.179966e+07</td>\n",
       "      <td>8.877289</td>\n",
       "      <td>0.482493</td>\n",
       "      <td>0.757864</td>\n",
       "      <td>0.949793</td>\n",
       "      <td>4.179401</td>\n",
       "      <td>6.198700</td>\n",
       "      <td>20.067912</td>\n",
       "      <td>21.981593</td>\n",
       "      <td>1.481016</td>\n",
       "      <td>1.950247</td>\n",
       "      <td>0.038535</td>\n",
       "      <td>0.148237</td>\n",
       "      <td>0.196771</td>\n",
       "      <td>1208.341005</td>\n",
       "      <td>1020.819964</td>\n",
       "      <td>373.597546</td>\n",
       "    </tr>\n",
       "    <tr>\n",
       "      <th>min</th>\n",
       "      <td>1.901033e+08</td>\n",
       "      <td>65.000000</td>\n",
       "      <td>1.000000</td>\n",
       "      <td>0.000000</td>\n",
       "      <td>0.000000</td>\n",
       "      <td>42.000000</td>\n",
       "      <td>41.000000</td>\n",
       "      <td>0.000000</td>\n",
       "      <td>0.000000</td>\n",
       "      <td>1.000000</td>\n",
       "      <td>0.000000</td>\n",
       "      <td>0.000000</td>\n",
       "      <td>0.000000</td>\n",
       "      <td>0.000000</td>\n",
       "      <td>110.000000</td>\n",
       "      <td>0.000000</td>\n",
       "      <td>0.000000</td>\n",
       "    </tr>\n",
       "    <tr>\n",
       "      <th>25%</th>\n",
       "      <td>2.002557e+08</td>\n",
       "      <td>72.000000</td>\n",
       "      <td>1.000000</td>\n",
       "      <td>0.000000</td>\n",
       "      <td>0.000000</td>\n",
       "      <td>57.000000</td>\n",
       "      <td>53.000000</td>\n",
       "      <td>37.000000</td>\n",
       "      <td>35.000000</td>\n",
       "      <td>1.000000</td>\n",
       "      <td>1.000000</td>\n",
       "      <td>0.000000</td>\n",
       "      <td>0.000000</td>\n",
       "      <td>0.000000</td>\n",
       "      <td>1715.000000</td>\n",
       "      <td>0.000000</td>\n",
       "      <td>0.000000</td>\n",
       "    </tr>\n",
       "    <tr>\n",
       "      <th>50%</th>\n",
       "      <td>2.105278e+08</td>\n",
       "      <td>79.000000</td>\n",
       "      <td>2.000000</td>\n",
       "      <td>1.000000</td>\n",
       "      <td>2.000000</td>\n",
       "      <td>57.000000</td>\n",
       "      <td>59.000000</td>\n",
       "      <td>75.000000</td>\n",
       "      <td>75.000000</td>\n",
       "      <td>1.000000</td>\n",
       "      <td>1.000000</td>\n",
       "      <td>0.000000</td>\n",
       "      <td>0.000000</td>\n",
       "      <td>0.000000</td>\n",
       "      <td>1807.000000</td>\n",
       "      <td>0.000000</td>\n",
       "      <td>0.000000</td>\n",
       "    </tr>\n",
       "    <tr>\n",
       "      <th>75%</th>\n",
       "      <td>2.204607e+08</td>\n",
       "      <td>86.000000</td>\n",
       "      <td>2.000000</td>\n",
       "      <td>1.000000</td>\n",
       "      <td>2.000000</td>\n",
       "      <td>62.000000</td>\n",
       "      <td>63.000000</td>\n",
       "      <td>79.000000</td>\n",
       "      <td>79.000000</td>\n",
       "      <td>4.000000</td>\n",
       "      <td>1.000000</td>\n",
       "      <td>0.000000</td>\n",
       "      <td>0.000000</td>\n",
       "      <td>0.000000</td>\n",
       "      <td>3299.000000</td>\n",
       "      <td>474.750000</td>\n",
       "      <td>0.000000</td>\n",
       "    </tr>\n",
       "    <tr>\n",
       "      <th>max</th>\n",
       "      <td>2.302226e+08</td>\n",
       "      <td>112.000000</td>\n",
       "      <td>2.000000</td>\n",
       "      <td>6.000000</td>\n",
       "      <td>2.000000</td>\n",
       "      <td>74.000000</td>\n",
       "      <td>74.000000</td>\n",
       "      <td>94.000000</td>\n",
       "      <td>94.000000</td>\n",
       "      <td>6.000000</td>\n",
       "      <td>9.000000</td>\n",
       "      <td>3.000000</td>\n",
       "      <td>1.000000</td>\n",
       "      <td>1.000000</td>\n",
       "      <td>5043.000000</td>\n",
       "      <td>5040.000000</td>\n",
       "      <td>5040.000000</td>\n",
       "    </tr>\n",
       "  </tbody>\n",
       "</table>\n",
       "</div>"
      ],
      "text/plain": [
       "       cpsc_case_number            age            sex           race  \\\n",
       "count      1.151280e+05  115128.000000  115128.000000  115128.000000   \n",
       "mean       2.081887e+08      79.354814       1.631158       0.795688   \n",
       "std        1.179966e+07       8.877289       0.482493       0.757864   \n",
       "min        1.901033e+08      65.000000       1.000000       0.000000   \n",
       "25%        2.002557e+08      72.000000       1.000000       0.000000   \n",
       "50%        2.105278e+08      79.000000       2.000000       1.000000   \n",
       "75%        2.204607e+08      86.000000       2.000000       1.000000   \n",
       "max        2.302226e+08     112.000000       2.000000       6.000000   \n",
       "\n",
       "            hispanic      diagnosis   diagnosis_2      body_part  \\\n",
       "count  115128.000000  115128.000000  43145.000000  115128.000000   \n",
       "mean        1.258634      58.685871     59.799815      65.514983   \n",
       "std         0.949793       4.179401      6.198700      20.067912   \n",
       "min         0.000000      42.000000     41.000000       0.000000   \n",
       "25%         0.000000      57.000000     53.000000      37.000000   \n",
       "50%         2.000000      57.000000     59.000000      75.000000   \n",
       "75%         2.000000      62.000000     63.000000      79.000000   \n",
       "max         2.000000      74.000000     74.000000      94.000000   \n",
       "\n",
       "        body_part_2    disposition       location  fire_involvement  \\\n",
       "count  43145.000000  115128.000000  115128.000000     115128.000000   \n",
       "mean      63.976799       2.122099       1.714691          0.000599   \n",
       "std       21.981593       1.481016       1.950247          0.038535   \n",
       "min        0.000000       1.000000       0.000000          0.000000   \n",
       "25%       35.000000       1.000000       1.000000          0.000000   \n",
       "50%       75.000000       1.000000       1.000000          0.000000   \n",
       "75%       79.000000       4.000000       1.000000          0.000000   \n",
       "max       94.000000       6.000000       9.000000          3.000000   \n",
       "\n",
       "             alcohol           drug      product_1      product_2  \\\n",
       "count  115128.000000  115128.000000  115128.000000  115128.000000   \n",
       "mean        0.022479       0.040346    2167.772167     504.121899   \n",
       "std         0.148237       0.196771    1208.341005    1020.819964   \n",
       "min         0.000000       0.000000     110.000000       0.000000   \n",
       "25%         0.000000       0.000000    1715.000000       0.000000   \n",
       "50%         0.000000       0.000000    1807.000000       0.000000   \n",
       "75%         0.000000       0.000000    3299.000000     474.750000   \n",
       "max         1.000000       1.000000    5043.000000    5040.000000   \n",
       "\n",
       "           product_3  \n",
       "count  115128.000000  \n",
       "mean       56.160908  \n",
       "std       373.597546  \n",
       "min         0.000000  \n",
       "25%         0.000000  \n",
       "50%         0.000000  \n",
       "75%         0.000000  \n",
       "max      5040.000000  "
      ]
     },
     "execution_count": 5,
     "metadata": {},
     "output_type": "execute_result"
    }
   ],
   "source": [
    "df.describe()"
   ]
  },
  {
   "cell_type": "code",
   "execution_count": 6,
   "id": "761eb90b",
   "metadata": {},
   "outputs": [],
   "source": [
    "import json\n",
    "with open('variable_mapping.json', 'r') as file:\n",
    "    obj = file.read()\n",
    "    data =  json.loads(obj)"
   ]
  },
  {
   "cell_type": "code",
   "execution_count": 7,
   "id": "7731bb4d",
   "metadata": {
    "scrolled": true
   },
   "outputs": [
    {
     "data": {
      "text/plain": [
       "cpsc_case_number          0\n",
       "narrative                 0\n",
       "treatment_date            0\n",
       "age                       0\n",
       "sex                       0\n",
       "race                      0\n",
       "other_race           114106\n",
       "hispanic                  0\n",
       "diagnosis                 0\n",
       "other_diagnosis      112606\n",
       "diagnosis_2           71983\n",
       "other_diagnosis_2    110150\n",
       "body_part                 0\n",
       "body_part_2           71983\n",
       "disposition               0\n",
       "location                  0\n",
       "fire_involvement          0\n",
       "alcohol                   0\n",
       "drug                      0\n",
       "product_1                 0\n",
       "product_2                 0\n",
       "product_3                 0\n",
       "dtype: int64"
      ]
     },
     "execution_count": 7,
     "metadata": {},
     "output_type": "execute_result"
    }
   ],
   "source": [
    "df.isnull().sum()"
   ]
  },
  {
   "cell_type": "code",
   "execution_count": null,
   "id": "c2e1a402",
   "metadata": {},
   "outputs": [],
   "source": []
  },
  {
   "cell_type": "code",
   "execution_count": 8,
   "id": "54a9cfd1",
   "metadata": {},
   "outputs": [
    {
     "data": {
      "text/plain": [
       "0         False\n",
       "1         False\n",
       "2         False\n",
       "3         False\n",
       "4         False\n",
       "          ...  \n",
       "115123    False\n",
       "115124    False\n",
       "115125    False\n",
       "115126    False\n",
       "115127    False\n",
       "Length: 115128, dtype: bool"
      ]
     },
     "execution_count": 8,
     "metadata": {},
     "output_type": "execute_result"
    }
   ],
   "source": [
    "df.duplicated()"
   ]
  },
  {
   "cell_type": "markdown",
   "id": "fc1cd0eb",
   "metadata": {},
   "source": [
    "no duplicated values"
   ]
  },
  {
   "cell_type": "markdown",
   "id": "0815b7f8",
   "metadata": {},
   "source": [
    "## AGE GROUPING"
   ]
  },
  {
   "cell_type": "code",
   "execution_count": 9,
   "id": "88b9f007",
   "metadata": {},
   "outputs": [
    {
     "data": {
      "text/html": [
       "<div>\n",
       "<style scoped>\n",
       "    .dataframe tbody tr th:only-of-type {\n",
       "        vertical-align: middle;\n",
       "    }\n",
       "\n",
       "    .dataframe tbody tr th {\n",
       "        vertical-align: top;\n",
       "    }\n",
       "\n",
       "    .dataframe thead th {\n",
       "        text-align: right;\n",
       "    }\n",
       "</style>\n",
       "<table border=\"1\" class=\"dataframe\">\n",
       "  <thead>\n",
       "    <tr style=\"text-align: right;\">\n",
       "      <th></th>\n",
       "      <th>age</th>\n",
       "      <th>age_group</th>\n",
       "    </tr>\n",
       "  </thead>\n",
       "  <tbody>\n",
       "    <tr>\n",
       "      <th>0</th>\n",
       "      <td>94</td>\n",
       "      <td>89-94</td>\n",
       "    </tr>\n",
       "    <tr>\n",
       "      <th>1</th>\n",
       "      <td>86</td>\n",
       "      <td>83-88</td>\n",
       "    </tr>\n",
       "    <tr>\n",
       "      <th>2</th>\n",
       "      <td>87</td>\n",
       "      <td>83-88</td>\n",
       "    </tr>\n",
       "    <tr>\n",
       "      <th>3</th>\n",
       "      <td>67</td>\n",
       "      <td>65-70</td>\n",
       "    </tr>\n",
       "    <tr>\n",
       "      <th>4</th>\n",
       "      <td>70</td>\n",
       "      <td>65-70</td>\n",
       "    </tr>\n",
       "    <tr>\n",
       "      <th>...</th>\n",
       "      <td>...</td>\n",
       "      <td>...</td>\n",
       "    </tr>\n",
       "    <tr>\n",
       "      <th>115123</th>\n",
       "      <td>81</td>\n",
       "      <td>77-82</td>\n",
       "    </tr>\n",
       "    <tr>\n",
       "      <th>115124</th>\n",
       "      <td>72</td>\n",
       "      <td>71-76</td>\n",
       "    </tr>\n",
       "    <tr>\n",
       "      <th>115125</th>\n",
       "      <td>90</td>\n",
       "      <td>89-94</td>\n",
       "    </tr>\n",
       "    <tr>\n",
       "      <th>115126</th>\n",
       "      <td>77</td>\n",
       "      <td>71-76</td>\n",
       "    </tr>\n",
       "    <tr>\n",
       "      <th>115127</th>\n",
       "      <td>71</td>\n",
       "      <td>65-70</td>\n",
       "    </tr>\n",
       "  </tbody>\n",
       "</table>\n",
       "<p>115128 rows × 2 columns</p>\n",
       "</div>"
      ],
      "text/plain": [
       "        age age_group\n",
       "0        94     89-94\n",
       "1        86     83-88\n",
       "2        87     83-88\n",
       "3        67     65-70\n",
       "4        70     65-70\n",
       "...     ...       ...\n",
       "115123   81     77-82\n",
       "115124   72     71-76\n",
       "115125   90     89-94\n",
       "115126   77     71-76\n",
       "115127   71     65-70\n",
       "\n",
       "[115128 rows x 2 columns]"
      ]
     },
     "execution_count": 9,
     "metadata": {},
     "output_type": "execute_result"
    }
   ],
   "source": [
    "\n",
    "# Defining custom age bins\n",
    "age_bins = [65, 71, 77, 83, 89, 95, 101, 107, 113,]  \n",
    "\n",
    "# Define labels for the age groups\n",
    "age_labels = ['65-70', '71-76', '77-82', '83-88', '89-94', '95-100', '101-106', '107-112']\n",
    "\n",
    "# Create a new column 'age_group' based on the custom age bins\n",
    "df['age_group'] = pd.cut(df['age'], bins=age_bins, labels=age_labels)\n",
    "\n",
    "# Display the first few rows of the DataFrame with the age groups\n",
    "df[['age', 'age_group']]\n"
   ]
  },
  {
   "cell_type": "markdown",
   "id": "1d1f40aa",
   "metadata": {},
   "source": [
    "## ASSIGNING VARIABLES"
   ]
  },
  {
   "cell_type": "code",
   "execution_count": 10,
   "id": "c461b18d",
   "metadata": {},
   "outputs": [
    {
     "name": "stdout",
     "output_type": "stream",
     "text": [
      "0           Male\n",
      "1           Male\n",
      "2         Female\n",
      "3         Female\n",
      "4         Female\n",
      "           ...  \n",
      "115123      Male\n",
      "115124    Female\n",
      "115125    Female\n",
      "115126      Male\n",
      "115127    Female\n",
      "Name: sex, Length: 115128, dtype: object\n"
     ]
    }
   ],
   "source": [
    "# SEX\n",
    "\n",
    "df['sex'] = df['sex'].replace({1: 'Male', 2: 'Female'})\n",
    "\n",
    "# Display the updated 'sex' column\n",
    "print(df['sex'])\n"
   ]
  },
  {
   "cell_type": "code",
   "execution_count": 11,
   "id": "a4cf9dc0",
   "metadata": {},
   "outputs": [
    {
     "name": "stdout",
     "output_type": "stream",
     "text": [
      "0         Nova Scotia\n",
      "1         Nova Scotia\n",
      "2         Nova Scotia\n",
      "3         Nova Scotia\n",
      "4         Nova Scotia\n",
      "             ...     \n",
      "115123          White\n",
      "115124          White\n",
      "115125          White\n",
      "115126          White\n",
      "115127          White\n",
      "Name: race, Length: 115128, dtype: object\n"
     ]
    }
   ],
   "source": [
    "# RACE\n",
    "\n",
    "df['race'] = df['race'].replace({0: 'Nova Scotia', 1: 'White', 2: 'Black/African American', 3: 'Other', 4: 'Asian', 5: 'American Indian/Alaska Native', 6: 'Native Hawaiian/ Pacific Islander'})\n",
    "\n",
    "# Display the updated 'race' column\n",
    "print(df['race'])"
   ]
  },
  {
   "cell_type": "code",
   "execution_count": 12,
   "id": "e5452c3d",
   "metadata": {},
   "outputs": [
    {
     "name": "stdout",
     "output_type": "stream",
     "text": [
      "0         Unknown\n",
      "1         Unknown\n",
      "2         Unknown\n",
      "3         Unknown\n",
      "4         Unknown\n",
      "           ...   \n",
      "115123         No\n",
      "115124         No\n",
      "115125         No\n",
      "115126         No\n",
      "115127         No\n",
      "Name: hispanic, Length: 115128, dtype: object\n"
     ]
    }
   ],
   "source": [
    "# HISPANIC\n",
    "\n",
    "df['hispanic'] = df['hispanic'].replace({0: 'Unknown', 1: 'yes', 2: 'No'})\n",
    "\n",
    "# Display the updated 'hispanic' column\n",
    "print(df['hispanic'])"
   ]
  },
  {
   "cell_type": "code",
   "execution_count": 13,
   "id": "38ab1be5",
   "metadata": {},
   "outputs": [
    {
     "name": "stdout",
     "output_type": "stream",
     "text": [
      "0         No / Unknown\n",
      "1         No / Unknown\n",
      "2         No / Unknown\n",
      "3         No / Unknown\n",
      "4         No / Unknown\n",
      "              ...     \n",
      "115123    No / Unknown\n",
      "115124    No / Unknown\n",
      "115125    No / Unknown\n",
      "115126    No / Unknown\n",
      "115127    No / Unknown\n",
      "Name: alcohol, Length: 115128, dtype: object\n"
     ]
    }
   ],
   "source": [
    "# ALCOHOL\n",
    "\n",
    "df['alcohol'] = df['alcohol'].replace({0: 'No / Unknown', 1: 'yes'})\n",
    "\n",
    "# Display the updated 'alcohol' column\n",
    "print(df['alcohol'])"
   ]
  },
  {
   "cell_type": "code",
   "execution_count": 14,
   "id": "ce8aa922",
   "metadata": {},
   "outputs": [
    {
     "name": "stdout",
     "output_type": "stream",
     "text": [
      "0         No / Unknown\n",
      "1         No / Unknown\n",
      "2         No / Unknown\n",
      "3         No / Unknown\n",
      "4         No / Unknown\n",
      "              ...     \n",
      "115123    No / Unknown\n",
      "115124    No / Unknown\n",
      "115125    No / Unknown\n",
      "115126    No / Unknown\n",
      "115127    No / Unknown\n",
      "Name: drug, Length: 115128, dtype: object\n"
     ]
    }
   ],
   "source": [
    "# DRUG\n",
    "\n",
    "df['drug'] = df['drug'].replace({0: 'No / Unknown', 1: 'yes'})\n",
    "\n",
    "# Display the updated 'drug' column\n",
    "print(df['drug'])"
   ]
  },
  {
   "cell_type": "code",
   "execution_count": 15,
   "id": "8ffda61b",
   "metadata": {},
   "outputs": [
    {
     "name": "stdout",
     "output_type": "stream",
     "text": [
      "0          PUBLIC\n",
      "1            HOME\n",
      "2            HOME\n",
      "3            HOME\n",
      "4            HOME\n",
      "           ...   \n",
      "115123       HOME\n",
      "115124    UNKNOWN\n",
      "115125       HOME\n",
      "115126     PUBLIC\n",
      "115127    UNKNOWN\n",
      "Name: location, Length: 115128, dtype: object\n"
     ]
    }
   ],
   "source": [
    "# LOCATION\n",
    "\n",
    "df['location'] = df['location'].replace({0: 'UNKNOWN', 1: 'HOME', 2: 'FARM',3: 'APARTMENT',4: 'STREET',5: 'PUBLIC',\n",
    "                                         6: 'MOBILE',7: 'INDUSTRY',8: 'SCHOOL', 9: 'SPORTS'})\n",
    "\n",
    "# Display the updated 'location' column\n",
    "print(df['location'])"
   ]
  },
  {
   "cell_type": "code",
   "execution_count": 16,
   "id": "5f59304f",
   "metadata": {},
   "outputs": [
    {
     "name": "stdout",
     "output_type": "stream",
     "text": [
      "0         TREATED AND ADMITTED/HOSPITALIZED\n",
      "1         TREATED AND ADMITTED/HOSPITALIZED\n",
      "2         TREATED AND ADMITTED/HOSPITALIZED\n",
      "3             TREATED/EXAMINED AND RELEASED\n",
      "4             TREATED/EXAMINED AND RELEASED\n",
      "                        ...                \n",
      "115123    TREATED AND ADMITTED/HOSPITALIZED\n",
      "115124    TREATED AND ADMITTED/HOSPITALIZED\n",
      "115125        TREATED/EXAMINED AND RELEASED\n",
      "115126        TREATED/EXAMINED AND RELEASED\n",
      "115127        TREATED/EXAMINED AND RELEASED\n",
      "Name: disposition, Length: 115128, dtype: object\n"
     ]
    }
   ],
   "source": [
    "# DISPOSITION\n",
    "\n",
    "df['disposition'] = df['disposition'].replace({0:'NO INJURY',1: 'TREATED/EXAMINED AND RELEASED',2: 'TREATED AND TRANSFERRED',\n",
    "4 :'TREATED AND ADMITTED/HOSPITALIZED',5 :'HELD FOR OBSERVATION',6 :'LEFT WITHOUT BEING SEEN',\n",
    "8 :'FATALITY INCL. DOA, DIED IN ER', 9: 'UNKNOWN, NOT STATED'})\n",
    "\n",
    "# Display the updated 'disposition' column\n",
    "print(df['disposition'])\n"
   ]
  },
  {
   "cell_type": "code",
   "execution_count": 17,
   "id": "1e19f713",
   "metadata": {},
   "outputs": [
    {
     "name": "stdout",
     "output_type": "stream",
     "text": [
      "0         NO/?\n",
      "1         NO/?\n",
      "2         NO/?\n",
      "3         NO/?\n",
      "4         NO/?\n",
      "          ... \n",
      "115123    NO/?\n",
      "115124    NO/?\n",
      "115125    NO/?\n",
      "115126    NO/?\n",
      "115127    NO/?\n",
      "Name: fire_involvement, Length: 115128, dtype: object\n"
     ]
    }
   ],
   "source": [
    "# FIRE- INVOLVEMENT\n",
    "\n",
    "df['fire_involvement'] = df['fire_involvement'].replace({0: 'NO/?', 1: 'Functional dyspepsia',2: 'NO Functional dyspepsia',\n",
    "  3: '? Functional dyspepsia', 4: 'Minute ventilation'})\n",
    "\n",
    "# Display the updated 'fire_involvement' column\n",
    "print(df['fire_involvement'])"
   ]
  },
  {
   "cell_type": "code",
   "execution_count": 18,
   "id": "321430e0",
   "metadata": {},
   "outputs": [
    {
     "name": "stdout",
     "output_type": "stream",
     "text": [
      "0                 HEAD\n",
      "1                 HEAD\n",
      "2                ELBOW\n",
      "3            LOWER ARM\n",
      "4            LOWER ARM\n",
      "              ...     \n",
      "115123       UPPER LEG\n",
      "115124     LOWER TRUNK\n",
      "115125        SHOULDER\n",
      "115126            HEAD\n",
      "115127              37\n",
      "Name: body_part, Length: 115128, dtype: object\n"
     ]
    }
   ],
   "source": [
    "# BODY PARTS\n",
    "\n",
    "df['body_part'] = df['body_part'].replace({0: 'INTERNAL',30: 'SHOULDER',31:  'UPPER TRUNK',32: 'ELBOW', 33: ' LOWER ARM',\n",
    "  34: ' WRIST',35: 'KNEE',36: ' LOWER LEG',38: ' ANKLE', 38: 'PUBIC REGION', 75: ' HEAD', 76: 'FACE', 77: ' EYEBALL',\n",
    "  78: ' UPPER TRUNK(OLD)', 79: ' LOWER TRUNK', 80: 'UPPER ARM', 81: ' UPPER LEG', 82: ' HAND', 83: ' FOOT', 84: ' 25-50% OF BODY',\n",
    "  85: ' ALL PARTS BODY',86: ' OTHER(OLD)',87: ' NOT STATED/UNK',88: ' MOUTH',89: ' NECK',90: ' LOWER ARM(OLD)',91: ' LOWER LEG(OLD)',\n",
    "  92: ' FINGER', 93: ' TOE', 94: 'EAR'})\n",
    "                                          \n",
    "# Display the updated 'body_part' column\n",
    "print(df['body_part'])\n"
   ]
  },
  {
   "cell_type": "code",
   "execution_count": 19,
   "id": "00cc80b0",
   "metadata": {},
   "outputs": [
    {
     "name": "stdout",
     "output_type": "stream",
     "text": [
      "0                 NaN\n",
      "1                 NaN\n",
      "2                 NaN\n",
      "3                 NaN\n",
      "4                 NaN\n",
      "             ...     \n",
      "115123            NaN\n",
      "115124    UPPER TRUNK\n",
      "115125            NaN\n",
      "115126           HEAD\n",
      "115127            NaN\n",
      "Name: body_part_2, Length: 115128, dtype: object\n"
     ]
    }
   ],
   "source": [
    "# BODY PART 2\n",
    "\n",
    "df['body_part_2'] = df['body_part_2'].replace({0: 'INTERNAL',30: 'SHOULDER',31:  'UPPER TRUNK',32: 'ELBOW', 33: ' LOWER ARM',\n",
    "  34: ' WRIST',35: 'KNEE',36: ' LOWER LEG',38: ' ANKLE', 38: 'PUBIC REGION', 75: ' HEAD', 76: 'FACE', 77: ' EYEBALL',\n",
    "  78: ' UPPER TRUNK(OLD)', 79: ' LOWER TRUNK', 80: 'UPPER ARM', 81: ' UPPER LEG', 82: ' HAND', 83: ' FOOT', 84: ' 25-50% OF BODY',\n",
    "  85: ' ALL PARTS BODY',86: ' OTHER(OLD)',87: ' NOT STATED/UNK',88: ' MOUTH',89: ' NECK',90: ' LOWER ARM(OLD)',91: ' LOWER LEG(OLD)',\n",
    "  92: ' FINGER', 93: ' TOE', 94: 'EAR'})\n",
    "                                          \n",
    "# Display the updated 'body_part_2' column\n",
    "print(df['body_part_2'])"
   ]
  },
  {
   "cell_type": "code",
   "execution_count": 20,
   "id": "7d844b56",
   "metadata": {},
   "outputs": [
    {
     "name": "stdout",
     "output_type": "stream",
     "text": [
      "0           INTERNAL INJURY\n",
      "1           INTERNAL INJURY\n",
      "2          CONTUSIONS, ABR.\n",
      "3                  FRACTURE\n",
      "4                  FRACTURE\n",
      "                ...        \n",
      "115123             FRACTURE\n",
      "115124             FRACTURE\n",
      "115125       STRAIN, SPRAIN\n",
      "115126      INTERNAL INJURY\n",
      "115127       STRAIN, SPRAIN\n",
      "Name: diagnosis, Length: 115128, dtype: object\n"
     ]
    }
   ],
   "source": [
    "# DIAGNOSIS\n",
    "\n",
    "df['diagnosis'] = df['diagnosis'].replace( {41: ' INGESTION', 42: ' ASPIRATION', 46: ' BURN, ELECTRICAL', 47: 'BURN, NOT SPEC.',\n",
    "  48: ' BURN, SCALD',49: ' BURN, CHEMICAL',50: ' AMPUTATION',51: 'BURNS, THERMAL',52: ' CONCUSSION',53: ' CONTUSIONS, ABR.',\n",
    "  54: 'CRUSHING',55: 'DISLOCATION',56: ' FOREIGN BODY',57: 'FRACTURE',58: ' HEMATOMA',59: ' LACERATION',60: ' DENTAL INJURY',\n",
    "  61: 'NERVE DAMAGE',62: 'INTERNAL INJURY',63: 'PUNCTURE',64: 'STRAIN, SPRAIN',65: 'ANOXIA',66: ' HEMORRHAGE',67: 'ELECTRIC SHOCK',\n",
    "  68: ' POISONING',69: 'SUBMERSION',70: ' OTHER',71: 'OTHER',72: ' AVULSION',73: 'RADIATION',74: 'DERMA/CONJUNCT'})\n",
    "\n",
    "# Display the updated 'diagnosis' column\n",
    "print(df['diagnosis'])"
   ]
  },
  {
   "cell_type": "code",
   "execution_count": 21,
   "id": "06358cff",
   "metadata": {},
   "outputs": [
    {
     "name": "stdout",
     "output_type": "stream",
     "text": [
      "0                 NaN\n",
      "1                 NaN\n",
      "2                 NaN\n",
      "3                 NaN\n",
      "4                 NaN\n",
      "             ...     \n",
      "115123            NaN\n",
      "115124       FRACTURE\n",
      "115125            NaN\n",
      "115126     LACERATION\n",
      "115127            NaN\n",
      "Name: diagnosis_2, Length: 115128, dtype: object\n"
     ]
    }
   ],
   "source": [
    "# DIAGNOSIS_2\n",
    "\n",
    "df['diagnosis_2'] = df['diagnosis_2'].replace( {41: ' INGESTION', 42: ' ASPIRATION', 46: ' BURN, ELECTRICAL', 47: 'BURN, NOT SPEC.',\n",
    "  48: ' BURN, SCALD',49: ' BURN, CHEMICAL',50: ' AMPUTATION',51: 'BURNS, THERMAL',52: ' CONCUSSION',53: ' CONTUSIONS, ABR.',\n",
    "  54: 'CRUSHING',55: 'DISLOCATION',56: ' FOREIGN BODY',57: 'FRACTURE',58: ' HEMATOMA',59: ' LACERATION',60: ' DENTAL INJURY',\n",
    "  61: 'NERVE DAMAGE',62: 'INTERNAL INJURY',63: 'PUNCTURE',64: 'STRAIN, SPRAIN',65: 'ANOXIA',66: ' HEMORRHAGE',67: 'ELECTRIC SHOCK',\n",
    "  68: ' POISONING',69: 'SUBMERSION',70: ' OTHER',71: 'OTHER',72: ' AVULSION',73: 'RADIATION',74: 'DERMA/CONJUNCT'})\n",
    "\n",
    "# Display the updated 'diagnosis_2' column\n",
    "print(df['diagnosis_2'])"
   ]
  },
  {
   "cell_type": "code",
   "execution_count": 22,
   "id": "acab618f",
   "metadata": {},
   "outputs": [],
   "source": [
    "# PRODUCT 1\n",
    "\n",
    "product1 = data['product_1']\n",
    "df['product_1'] = df['product_1'].astype(str).replace(product1).str.split('-')[0][1]"
   ]
  },
  {
   "cell_type": "code",
   "execution_count": 23,
   "id": "af9882d0",
   "metadata": {},
   "outputs": [
    {
     "name": "stdout",
     "output_type": "stream",
     "text": [
      "0          FLOORS OR FLOORING MATERIALS\n",
      "1          FLOORS OR FLOORING MATERIALS\n",
      "2          FLOORS OR FLOORING MATERIALS\n",
      "3          FLOORS OR FLOORING MATERIALS\n",
      "4          FLOORS OR FLOORING MATERIALS\n",
      "                      ...              \n",
      "115123     FLOORS OR FLOORING MATERIALS\n",
      "115124     FLOORS OR FLOORING MATERIALS\n",
      "115125     FLOORS OR FLOORING MATERIALS\n",
      "115126     FLOORS OR FLOORING MATERIALS\n",
      "115127     FLOORS OR FLOORING MATERIALS\n",
      "Name: product_1, Length: 115128, dtype: object\n"
     ]
    }
   ],
   "source": [
    "print(df['product_1'])"
   ]
  },
  {
   "cell_type": "code",
   "execution_count": 24,
   "id": "4cdd58b9",
   "metadata": {},
   "outputs": [
    {
     "data": {
      "text/html": [
       "<div>\n",
       "<style scoped>\n",
       "    .dataframe tbody tr th:only-of-type {\n",
       "        vertical-align: middle;\n",
       "    }\n",
       "\n",
       "    .dataframe tbody tr th {\n",
       "        vertical-align: top;\n",
       "    }\n",
       "\n",
       "    .dataframe thead th {\n",
       "        text-align: right;\n",
       "    }\n",
       "</style>\n",
       "<table border=\"1\" class=\"dataframe\">\n",
       "  <thead>\n",
       "    <tr style=\"text-align: right;\">\n",
       "      <th></th>\n",
       "      <th>cpsc_case_number</th>\n",
       "      <th>narrative</th>\n",
       "      <th>treatment_date</th>\n",
       "      <th>age</th>\n",
       "      <th>sex</th>\n",
       "      <th>race</th>\n",
       "      <th>other_race</th>\n",
       "      <th>hispanic</th>\n",
       "      <th>diagnosis</th>\n",
       "      <th>other_diagnosis</th>\n",
       "      <th>diagnosis_2</th>\n",
       "      <th>other_diagnosis_2</th>\n",
       "      <th>body_part</th>\n",
       "      <th>body_part_2</th>\n",
       "      <th>disposition</th>\n",
       "      <th>location</th>\n",
       "      <th>fire_involvement</th>\n",
       "      <th>alcohol</th>\n",
       "      <th>drug</th>\n",
       "      <th>product_1</th>\n",
       "      <th>product_2</th>\n",
       "      <th>product_3</th>\n",
       "      <th>age_group</th>\n",
       "    </tr>\n",
       "  </thead>\n",
       "  <tbody>\n",
       "    <tr>\n",
       "      <th>0</th>\n",
       "      <td>190103269</td>\n",
       "      <td>94YOM FELL TO THE FLOOR AT THE NURSING HOME ON...</td>\n",
       "      <td>2019-01-01</td>\n",
       "      <td>94</td>\n",
       "      <td>Male</td>\n",
       "      <td>Nova Scotia</td>\n",
       "      <td>NaN</td>\n",
       "      <td>Unknown</td>\n",
       "      <td>INTERNAL INJURY</td>\n",
       "      <td>NaN</td>\n",
       "      <td>NaN</td>\n",
       "      <td>NaN</td>\n",
       "      <td>HEAD</td>\n",
       "      <td>NaN</td>\n",
       "      <td>TREATED AND ADMITTED/HOSPITALIZED</td>\n",
       "      <td>PUBLIC</td>\n",
       "      <td>NO/?</td>\n",
       "      <td>No / Unknown</td>\n",
       "      <td>No / Unknown</td>\n",
       "      <td>FLOORS OR FLOORING MATERIALS</td>\n",
       "      <td>0</td>\n",
       "      <td>0</td>\n",
       "      <td>89-94</td>\n",
       "    </tr>\n",
       "    <tr>\n",
       "      <th>1</th>\n",
       "      <td>190103270</td>\n",
       "      <td>86YOM FELL IN THE SHOWER AT HOME AND SUSTAINED...</td>\n",
       "      <td>2019-01-01</td>\n",
       "      <td>86</td>\n",
       "      <td>Male</td>\n",
       "      <td>Nova Scotia</td>\n",
       "      <td>NaN</td>\n",
       "      <td>Unknown</td>\n",
       "      <td>INTERNAL INJURY</td>\n",
       "      <td>NaN</td>\n",
       "      <td>NaN</td>\n",
       "      <td>NaN</td>\n",
       "      <td>HEAD</td>\n",
       "      <td>NaN</td>\n",
       "      <td>TREATED AND ADMITTED/HOSPITALIZED</td>\n",
       "      <td>HOME</td>\n",
       "      <td>NO/?</td>\n",
       "      <td>No / Unknown</td>\n",
       "      <td>No / Unknown</td>\n",
       "      <td>FLOORS OR FLOORING MATERIALS</td>\n",
       "      <td>0</td>\n",
       "      <td>0</td>\n",
       "      <td>83-88</td>\n",
       "    </tr>\n",
       "    <tr>\n",
       "      <th>2</th>\n",
       "      <td>190103273</td>\n",
       "      <td>87YOF WAS GETTING UP FROM THE COUCH AND FELL T...</td>\n",
       "      <td>2019-01-01</td>\n",
       "      <td>87</td>\n",
       "      <td>Female</td>\n",
       "      <td>Nova Scotia</td>\n",
       "      <td>NaN</td>\n",
       "      <td>Unknown</td>\n",
       "      <td>CONTUSIONS, ABR.</td>\n",
       "      <td>NaN</td>\n",
       "      <td>NaN</td>\n",
       "      <td>NaN</td>\n",
       "      <td>ELBOW</td>\n",
       "      <td>NaN</td>\n",
       "      <td>TREATED AND ADMITTED/HOSPITALIZED</td>\n",
       "      <td>HOME</td>\n",
       "      <td>NO/?</td>\n",
       "      <td>No / Unknown</td>\n",
       "      <td>No / Unknown</td>\n",
       "      <td>FLOORS OR FLOORING MATERIALS</td>\n",
       "      <td>1807</td>\n",
       "      <td>0</td>\n",
       "      <td>83-88</td>\n",
       "    </tr>\n",
       "    <tr>\n",
       "      <th>3</th>\n",
       "      <td>190103291</td>\n",
       "      <td>67YOF WAS AT A FRIENDS HOUSE AND SLIPPED ON WA...</td>\n",
       "      <td>2019-01-01</td>\n",
       "      <td>67</td>\n",
       "      <td>Female</td>\n",
       "      <td>Nova Scotia</td>\n",
       "      <td>NaN</td>\n",
       "      <td>Unknown</td>\n",
       "      <td>FRACTURE</td>\n",
       "      <td>NaN</td>\n",
       "      <td>NaN</td>\n",
       "      <td>NaN</td>\n",
       "      <td>LOWER ARM</td>\n",
       "      <td>NaN</td>\n",
       "      <td>TREATED/EXAMINED AND RELEASED</td>\n",
       "      <td>HOME</td>\n",
       "      <td>NO/?</td>\n",
       "      <td>No / Unknown</td>\n",
       "      <td>No / Unknown</td>\n",
       "      <td>FLOORS OR FLOORING MATERIALS</td>\n",
       "      <td>0</td>\n",
       "      <td>0</td>\n",
       "      <td>65-70</td>\n",
       "    </tr>\n",
       "    <tr>\n",
       "      <th>4</th>\n",
       "      <td>190103294</td>\n",
       "      <td>70YOF WAS STANDING ON A STEP STOOL AND FELL OF...</td>\n",
       "      <td>2019-01-01</td>\n",
       "      <td>70</td>\n",
       "      <td>Female</td>\n",
       "      <td>Nova Scotia</td>\n",
       "      <td>NaN</td>\n",
       "      <td>Unknown</td>\n",
       "      <td>FRACTURE</td>\n",
       "      <td>NaN</td>\n",
       "      <td>NaN</td>\n",
       "      <td>NaN</td>\n",
       "      <td>LOWER ARM</td>\n",
       "      <td>NaN</td>\n",
       "      <td>TREATED/EXAMINED AND RELEASED</td>\n",
       "      <td>HOME</td>\n",
       "      <td>NO/?</td>\n",
       "      <td>No / Unknown</td>\n",
       "      <td>No / Unknown</td>\n",
       "      <td>FLOORS OR FLOORING MATERIALS</td>\n",
       "      <td>0</td>\n",
       "      <td>0</td>\n",
       "      <td>65-70</td>\n",
       "    </tr>\n",
       "    <tr>\n",
       "      <th>...</th>\n",
       "      <td>...</td>\n",
       "      <td>...</td>\n",
       "      <td>...</td>\n",
       "      <td>...</td>\n",
       "      <td>...</td>\n",
       "      <td>...</td>\n",
       "      <td>...</td>\n",
       "      <td>...</td>\n",
       "      <td>...</td>\n",
       "      <td>...</td>\n",
       "      <td>...</td>\n",
       "      <td>...</td>\n",
       "      <td>...</td>\n",
       "      <td>...</td>\n",
       "      <td>...</td>\n",
       "      <td>...</td>\n",
       "      <td>...</td>\n",
       "      <td>...</td>\n",
       "      <td>...</td>\n",
       "      <td>...</td>\n",
       "      <td>...</td>\n",
       "      <td>...</td>\n",
       "      <td>...</td>\n",
       "    </tr>\n",
       "    <tr>\n",
       "      <th>115123</th>\n",
       "      <td>230217170</td>\n",
       "      <td>81 YOM FELL OUT OF BED. DX: LEFT FEMUR FRACTURE.</td>\n",
       "      <td>2022-10-22</td>\n",
       "      <td>81</td>\n",
       "      <td>Male</td>\n",
       "      <td>White</td>\n",
       "      <td>NaN</td>\n",
       "      <td>No</td>\n",
       "      <td>FRACTURE</td>\n",
       "      <td>NaN</td>\n",
       "      <td>NaN</td>\n",
       "      <td>NaN</td>\n",
       "      <td>UPPER LEG</td>\n",
       "      <td>NaN</td>\n",
       "      <td>TREATED AND ADMITTED/HOSPITALIZED</td>\n",
       "      <td>HOME</td>\n",
       "      <td>NO/?</td>\n",
       "      <td>No / Unknown</td>\n",
       "      <td>No / Unknown</td>\n",
       "      <td>FLOORS OR FLOORING MATERIALS</td>\n",
       "      <td>0</td>\n",
       "      <td>0</td>\n",
       "      <td>77-82</td>\n",
       "    </tr>\n",
       "    <tr>\n",
       "      <th>115124</th>\n",
       "      <td>230217171</td>\n",
       "      <td>72 YOF SLIPPED AND FELL ON THE FLOOR. DX: L-3,...</td>\n",
       "      <td>2022-10-22</td>\n",
       "      <td>72</td>\n",
       "      <td>Female</td>\n",
       "      <td>White</td>\n",
       "      <td>NaN</td>\n",
       "      <td>No</td>\n",
       "      <td>FRACTURE</td>\n",
       "      <td>NaN</td>\n",
       "      <td>FRACTURE</td>\n",
       "      <td>NaN</td>\n",
       "      <td>LOWER TRUNK</td>\n",
       "      <td>UPPER TRUNK</td>\n",
       "      <td>TREATED AND ADMITTED/HOSPITALIZED</td>\n",
       "      <td>UNKNOWN</td>\n",
       "      <td>NO/?</td>\n",
       "      <td>No / Unknown</td>\n",
       "      <td>No / Unknown</td>\n",
       "      <td>FLOORS OR FLOORING MATERIALS</td>\n",
       "      <td>0</td>\n",
       "      <td>0</td>\n",
       "      <td>71-76</td>\n",
       "    </tr>\n",
       "    <tr>\n",
       "      <th>115125</th>\n",
       "      <td>230217174</td>\n",
       "      <td>90 YOF TRIPPED AND FELL ON A GARAGE FLOOR. DX:...</td>\n",
       "      <td>2022-10-22</td>\n",
       "      <td>90</td>\n",
       "      <td>Female</td>\n",
       "      <td>White</td>\n",
       "      <td>NaN</td>\n",
       "      <td>No</td>\n",
       "      <td>STRAIN, SPRAIN</td>\n",
       "      <td>NaN</td>\n",
       "      <td>NaN</td>\n",
       "      <td>NaN</td>\n",
       "      <td>SHOULDER</td>\n",
       "      <td>NaN</td>\n",
       "      <td>TREATED/EXAMINED AND RELEASED</td>\n",
       "      <td>HOME</td>\n",
       "      <td>NO/?</td>\n",
       "      <td>No / Unknown</td>\n",
       "      <td>No / Unknown</td>\n",
       "      <td>FLOORS OR FLOORING MATERIALS</td>\n",
       "      <td>0</td>\n",
       "      <td>0</td>\n",
       "      <td>89-94</td>\n",
       "    </tr>\n",
       "    <tr>\n",
       "      <th>115126</th>\n",
       "      <td>230218390</td>\n",
       "      <td>77 YOM PRESENTS FROM NURSING HOME FOLLOWING UN...</td>\n",
       "      <td>2022-10-24</td>\n",
       "      <td>77</td>\n",
       "      <td>Male</td>\n",
       "      <td>White</td>\n",
       "      <td>NaN</td>\n",
       "      <td>No</td>\n",
       "      <td>INTERNAL INJURY</td>\n",
       "      <td>NaN</td>\n",
       "      <td>LACERATION</td>\n",
       "      <td>NaN</td>\n",
       "      <td>HEAD</td>\n",
       "      <td>HEAD</td>\n",
       "      <td>TREATED/EXAMINED AND RELEASED</td>\n",
       "      <td>PUBLIC</td>\n",
       "      <td>NO/?</td>\n",
       "      <td>No / Unknown</td>\n",
       "      <td>No / Unknown</td>\n",
       "      <td>FLOORS OR FLOORING MATERIALS</td>\n",
       "      <td>0</td>\n",
       "      <td>0</td>\n",
       "      <td>71-76</td>\n",
       "    </tr>\n",
       "    <tr>\n",
       "      <th>115127</th>\n",
       "      <td>230222638</td>\n",
       "      <td>71 YOF PRESENTS WITH ANKLE INJURY.  PT STATES ...</td>\n",
       "      <td>2022-10-24</td>\n",
       "      <td>71</td>\n",
       "      <td>Female</td>\n",
       "      <td>White</td>\n",
       "      <td>NaN</td>\n",
       "      <td>No</td>\n",
       "      <td>STRAIN, SPRAIN</td>\n",
       "      <td>NaN</td>\n",
       "      <td>NaN</td>\n",
       "      <td>NaN</td>\n",
       "      <td>37</td>\n",
       "      <td>NaN</td>\n",
       "      <td>TREATED/EXAMINED AND RELEASED</td>\n",
       "      <td>UNKNOWN</td>\n",
       "      <td>NO/?</td>\n",
       "      <td>No / Unknown</td>\n",
       "      <td>No / Unknown</td>\n",
       "      <td>FLOORS OR FLOORING MATERIALS</td>\n",
       "      <td>0</td>\n",
       "      <td>0</td>\n",
       "      <td>65-70</td>\n",
       "    </tr>\n",
       "  </tbody>\n",
       "</table>\n",
       "<p>115128 rows × 23 columns</p>\n",
       "</div>"
      ],
      "text/plain": [
       "        cpsc_case_number                                          narrative  \\\n",
       "0              190103269  94YOM FELL TO THE FLOOR AT THE NURSING HOME ON...   \n",
       "1              190103270  86YOM FELL IN THE SHOWER AT HOME AND SUSTAINED...   \n",
       "2              190103273  87YOF WAS GETTING UP FROM THE COUCH AND FELL T...   \n",
       "3              190103291  67YOF WAS AT A FRIENDS HOUSE AND SLIPPED ON WA...   \n",
       "4              190103294  70YOF WAS STANDING ON A STEP STOOL AND FELL OF...   \n",
       "...                  ...                                                ...   \n",
       "115123         230217170   81 YOM FELL OUT OF BED. DX: LEFT FEMUR FRACTURE.   \n",
       "115124         230217171  72 YOF SLIPPED AND FELL ON THE FLOOR. DX: L-3,...   \n",
       "115125         230217174  90 YOF TRIPPED AND FELL ON A GARAGE FLOOR. DX:...   \n",
       "115126         230218390  77 YOM PRESENTS FROM NURSING HOME FOLLOWING UN...   \n",
       "115127         230222638  71 YOF PRESENTS WITH ANKLE INJURY.  PT STATES ...   \n",
       "\n",
       "       treatment_date  age     sex         race other_race hispanic  \\\n",
       "0          2019-01-01   94    Male  Nova Scotia        NaN  Unknown   \n",
       "1          2019-01-01   86    Male  Nova Scotia        NaN  Unknown   \n",
       "2          2019-01-01   87  Female  Nova Scotia        NaN  Unknown   \n",
       "3          2019-01-01   67  Female  Nova Scotia        NaN  Unknown   \n",
       "4          2019-01-01   70  Female  Nova Scotia        NaN  Unknown   \n",
       "...               ...  ...     ...          ...        ...      ...   \n",
       "115123     2022-10-22   81    Male        White        NaN       No   \n",
       "115124     2022-10-22   72  Female        White        NaN       No   \n",
       "115125     2022-10-22   90  Female        White        NaN       No   \n",
       "115126     2022-10-24   77    Male        White        NaN       No   \n",
       "115127     2022-10-24   71  Female        White        NaN       No   \n",
       "\n",
       "                diagnosis other_diagnosis  diagnosis_2 other_diagnosis_2  \\\n",
       "0         INTERNAL INJURY             NaN          NaN               NaN   \n",
       "1         INTERNAL INJURY             NaN          NaN               NaN   \n",
       "2        CONTUSIONS, ABR.             NaN          NaN               NaN   \n",
       "3                FRACTURE             NaN          NaN               NaN   \n",
       "4                FRACTURE             NaN          NaN               NaN   \n",
       "...                   ...             ...          ...               ...   \n",
       "115123           FRACTURE             NaN          NaN               NaN   \n",
       "115124           FRACTURE             NaN     FRACTURE               NaN   \n",
       "115125     STRAIN, SPRAIN             NaN          NaN               NaN   \n",
       "115126    INTERNAL INJURY             NaN   LACERATION               NaN   \n",
       "115127     STRAIN, SPRAIN             NaN          NaN               NaN   \n",
       "\n",
       "           body_part  body_part_2                        disposition location  \\\n",
       "0               HEAD          NaN  TREATED AND ADMITTED/HOSPITALIZED   PUBLIC   \n",
       "1               HEAD          NaN  TREATED AND ADMITTED/HOSPITALIZED     HOME   \n",
       "2              ELBOW          NaN  TREATED AND ADMITTED/HOSPITALIZED     HOME   \n",
       "3          LOWER ARM          NaN      TREATED/EXAMINED AND RELEASED     HOME   \n",
       "4          LOWER ARM          NaN      TREATED/EXAMINED AND RELEASED     HOME   \n",
       "...              ...          ...                                ...      ...   \n",
       "115123     UPPER LEG          NaN  TREATED AND ADMITTED/HOSPITALIZED     HOME   \n",
       "115124   LOWER TRUNK  UPPER TRUNK  TREATED AND ADMITTED/HOSPITALIZED  UNKNOWN   \n",
       "115125      SHOULDER          NaN      TREATED/EXAMINED AND RELEASED     HOME   \n",
       "115126          HEAD         HEAD      TREATED/EXAMINED AND RELEASED   PUBLIC   \n",
       "115127            37          NaN      TREATED/EXAMINED AND RELEASED  UNKNOWN   \n",
       "\n",
       "       fire_involvement       alcohol          drug  \\\n",
       "0                  NO/?  No / Unknown  No / Unknown   \n",
       "1                  NO/?  No / Unknown  No / Unknown   \n",
       "2                  NO/?  No / Unknown  No / Unknown   \n",
       "3                  NO/?  No / Unknown  No / Unknown   \n",
       "4                  NO/?  No / Unknown  No / Unknown   \n",
       "...                 ...           ...           ...   \n",
       "115123             NO/?  No / Unknown  No / Unknown   \n",
       "115124             NO/?  No / Unknown  No / Unknown   \n",
       "115125             NO/?  No / Unknown  No / Unknown   \n",
       "115126             NO/?  No / Unknown  No / Unknown   \n",
       "115127             NO/?  No / Unknown  No / Unknown   \n",
       "\n",
       "                            product_1  product_2  product_3 age_group  \n",
       "0        FLOORS OR FLOORING MATERIALS          0          0     89-94  \n",
       "1        FLOORS OR FLOORING MATERIALS          0          0     83-88  \n",
       "2        FLOORS OR FLOORING MATERIALS       1807          0     83-88  \n",
       "3        FLOORS OR FLOORING MATERIALS          0          0     65-70  \n",
       "4        FLOORS OR FLOORING MATERIALS          0          0     65-70  \n",
       "...                               ...        ...        ...       ...  \n",
       "115123   FLOORS OR FLOORING MATERIALS          0          0     77-82  \n",
       "115124   FLOORS OR FLOORING MATERIALS          0          0     71-76  \n",
       "115125   FLOORS OR FLOORING MATERIALS          0          0     89-94  \n",
       "115126   FLOORS OR FLOORING MATERIALS          0          0     71-76  \n",
       "115127   FLOORS OR FLOORING MATERIALS          0          0     65-70  \n",
       "\n",
       "[115128 rows x 23 columns]"
      ]
     },
     "execution_count": 24,
     "metadata": {},
     "output_type": "execute_result"
    }
   ],
   "source": [
    "df"
   ]
  },
  {
   "cell_type": "code",
   "execution_count": 25,
   "id": "50c3a2d3",
   "metadata": {},
   "outputs": [
    {
     "name": "stdout",
     "output_type": "stream",
     "text": [
      "<class 'pandas.core.frame.DataFrame'>\n",
      "RangeIndex: 115128 entries, 0 to 115127\n",
      "Data columns (total 23 columns):\n",
      " #   Column             Non-Null Count   Dtype   \n",
      "---  ------             --------------   -----   \n",
      " 0   cpsc_case_number   115128 non-null  int64   \n",
      " 1   narrative          115128 non-null  object  \n",
      " 2   treatment_date     115128 non-null  object  \n",
      " 3   age                115128 non-null  int64   \n",
      " 4   sex                115128 non-null  object  \n",
      " 5   race               115128 non-null  object  \n",
      " 6   other_race         1022 non-null    object  \n",
      " 7   hispanic           115128 non-null  object  \n",
      " 8   diagnosis          115128 non-null  object  \n",
      " 9   other_diagnosis    2522 non-null    object  \n",
      " 10  diagnosis_2        43145 non-null   object  \n",
      " 11  other_diagnosis_2  4978 non-null    object  \n",
      " 12  body_part          115128 non-null  object  \n",
      " 13  body_part_2        43145 non-null   object  \n",
      " 14  disposition        115128 non-null  object  \n",
      " 15  location           115128 non-null  object  \n",
      " 16  fire_involvement   115128 non-null  object  \n",
      " 17  alcohol            115128 non-null  object  \n",
      " 18  drug               115128 non-null  object  \n",
      " 19  product_1          115128 non-null  object  \n",
      " 20  product_2          115128 non-null  int64   \n",
      " 21  product_3          115128 non-null  int64   \n",
      " 22  age_group          111398 non-null  category\n",
      "dtypes: category(1), int64(4), object(18)\n",
      "memory usage: 19.4+ MB\n"
     ]
    }
   ],
   "source": [
    "df.info()"
   ]
  },
  {
   "cell_type": "code",
   "execution_count": 26,
   "id": "c382f925",
   "metadata": {},
   "outputs": [],
   "source": [
    "# PRODUCT 2\n",
    "\n",
    "product2 = data['product_2']\n",
    "df['product_2'] = df['product_2'].astype('str').replace(product2)"
   ]
  },
  {
   "cell_type": "code",
   "execution_count": 27,
   "id": "482a0a7c",
   "metadata": {},
   "outputs": [
    {
     "name": "stdout",
     "output_type": "stream",
     "text": [
      "0                                    0 - None\n",
      "1                                    0 - None\n",
      "2         1807 - FLOORS OR FLOORING MATERIALS\n",
      "3                                    0 - None\n",
      "4                                    0 - None\n",
      "                         ...                 \n",
      "115123                               0 - None\n",
      "115124                               0 - None\n",
      "115125                               0 - None\n",
      "115126                               0 - None\n",
      "115127                               0 - None\n",
      "Name: product_2, Length: 115128, dtype: object\n"
     ]
    }
   ],
   "source": [
    "print(df['product_2'])"
   ]
  },
  {
   "cell_type": "code",
   "execution_count": 28,
   "id": "3c1ba209",
   "metadata": {},
   "outputs": [
    {
     "data": {
      "text/plain": [
       "product_2\n",
       "0 - None                                                               85501\n",
       "1807 - FLOORS OR FLOORING MATERIALS                                    12030\n",
       "4057 - TABLES (EXCL.  BABY CHANGING TABLES, BILLIARD OR POOL TABLES     1515\n",
       "4076 - BEDS OR BEDFRAMES, OTHER OR NOT SPECIFIED                        1466\n",
       "1884 - CEILINGS AND WALLS (INTERIOR PART OF COMPLETED STRUCTURE)        1145\n",
       "                                                                       ...  \n",
       "1719 - LUNCH BOXES OR PAILS                                                1\n",
       "930 - AMMONIA, HOUSEHOLD                                                   1\n",
       "306 - DEHUMIDIFIERS                                                        1\n",
       "1140 - GLASS BOTTLES OR JARS, NOT SPECIFIED                                1\n",
       "836 - KNIVES WITH REPLACEABLE BLADES                                       1\n",
       "Name: count, Length: 394, dtype: int64"
      ]
     },
     "execution_count": 28,
     "metadata": {},
     "output_type": "execute_result"
    }
   ],
   "source": [
    "df.product_2.value_counts()"
   ]
  },
  {
   "cell_type": "code",
   "execution_count": 29,
   "id": "9b755aff",
   "metadata": {},
   "outputs": [],
   "source": [
    "# PRODUCT 3\n",
    "\n",
    "product3 = data['product_3']\n",
    "df['product_3'] = df['product_3'].astype('str').replace(product3)\n",
    "df['product_3'] = df['product_3'].str.split('-')\n",
    "df['product_3'] = df['product_3'][0][1]"
   ]
  },
  {
   "cell_type": "code",
   "execution_count": 30,
   "id": "25670631",
   "metadata": {},
   "outputs": [
    {
     "name": "stdout",
     "output_type": "stream",
     "text": [
      "0          None\n",
      "1          None\n",
      "2          None\n",
      "3          None\n",
      "4          None\n",
      "          ...  \n",
      "115123     None\n",
      "115124     None\n",
      "115125     None\n",
      "115126     None\n",
      "115127     None\n",
      "Name: product_3, Length: 115128, dtype: object\n"
     ]
    }
   ],
   "source": [
    "print(df['product_3'])"
   ]
  },
  {
   "cell_type": "code",
   "execution_count": 31,
   "id": "c9f329dc",
   "metadata": {},
   "outputs": [
    {
     "data": {
      "text/html": [
       "<div>\n",
       "<style scoped>\n",
       "    .dataframe tbody tr th:only-of-type {\n",
       "        vertical-align: middle;\n",
       "    }\n",
       "\n",
       "    .dataframe tbody tr th {\n",
       "        vertical-align: top;\n",
       "    }\n",
       "\n",
       "    .dataframe thead th {\n",
       "        text-align: right;\n",
       "    }\n",
       "</style>\n",
       "<table border=\"1\" class=\"dataframe\">\n",
       "  <thead>\n",
       "    <tr style=\"text-align: right;\">\n",
       "      <th></th>\n",
       "      <th>cpsc_case_number</th>\n",
       "      <th>narrative</th>\n",
       "      <th>treatment_date</th>\n",
       "      <th>age</th>\n",
       "      <th>sex</th>\n",
       "      <th>race</th>\n",
       "      <th>other_race</th>\n",
       "      <th>hispanic</th>\n",
       "      <th>diagnosis</th>\n",
       "      <th>other_diagnosis</th>\n",
       "      <th>diagnosis_2</th>\n",
       "      <th>other_diagnosis_2</th>\n",
       "      <th>body_part</th>\n",
       "      <th>body_part_2</th>\n",
       "      <th>disposition</th>\n",
       "      <th>location</th>\n",
       "      <th>fire_involvement</th>\n",
       "      <th>alcohol</th>\n",
       "      <th>drug</th>\n",
       "      <th>product_1</th>\n",
       "      <th>product_2</th>\n",
       "      <th>product_3</th>\n",
       "      <th>age_group</th>\n",
       "    </tr>\n",
       "  </thead>\n",
       "  <tbody>\n",
       "    <tr>\n",
       "      <th>0</th>\n",
       "      <td>190103269</td>\n",
       "      <td>94YOM FELL TO THE FLOOR AT THE NURSING HOME ON...</td>\n",
       "      <td>2019-01-01</td>\n",
       "      <td>94</td>\n",
       "      <td>Male</td>\n",
       "      <td>Nova Scotia</td>\n",
       "      <td>NaN</td>\n",
       "      <td>Unknown</td>\n",
       "      <td>INTERNAL INJURY</td>\n",
       "      <td>NaN</td>\n",
       "      <td>NaN</td>\n",
       "      <td>NaN</td>\n",
       "      <td>HEAD</td>\n",
       "      <td>NaN</td>\n",
       "      <td>TREATED AND ADMITTED/HOSPITALIZED</td>\n",
       "      <td>PUBLIC</td>\n",
       "      <td>NO/?</td>\n",
       "      <td>No / Unknown</td>\n",
       "      <td>No / Unknown</td>\n",
       "      <td>FLOORS OR FLOORING MATERIALS</td>\n",
       "      <td>0 - None</td>\n",
       "      <td>None</td>\n",
       "      <td>89-94</td>\n",
       "    </tr>\n",
       "    <tr>\n",
       "      <th>1</th>\n",
       "      <td>190103270</td>\n",
       "      <td>86YOM FELL IN THE SHOWER AT HOME AND SUSTAINED...</td>\n",
       "      <td>2019-01-01</td>\n",
       "      <td>86</td>\n",
       "      <td>Male</td>\n",
       "      <td>Nova Scotia</td>\n",
       "      <td>NaN</td>\n",
       "      <td>Unknown</td>\n",
       "      <td>INTERNAL INJURY</td>\n",
       "      <td>NaN</td>\n",
       "      <td>NaN</td>\n",
       "      <td>NaN</td>\n",
       "      <td>HEAD</td>\n",
       "      <td>NaN</td>\n",
       "      <td>TREATED AND ADMITTED/HOSPITALIZED</td>\n",
       "      <td>HOME</td>\n",
       "      <td>NO/?</td>\n",
       "      <td>No / Unknown</td>\n",
       "      <td>No / Unknown</td>\n",
       "      <td>FLOORS OR FLOORING MATERIALS</td>\n",
       "      <td>0 - None</td>\n",
       "      <td>None</td>\n",
       "      <td>83-88</td>\n",
       "    </tr>\n",
       "    <tr>\n",
       "      <th>2</th>\n",
       "      <td>190103273</td>\n",
       "      <td>87YOF WAS GETTING UP FROM THE COUCH AND FELL T...</td>\n",
       "      <td>2019-01-01</td>\n",
       "      <td>87</td>\n",
       "      <td>Female</td>\n",
       "      <td>Nova Scotia</td>\n",
       "      <td>NaN</td>\n",
       "      <td>Unknown</td>\n",
       "      <td>CONTUSIONS, ABR.</td>\n",
       "      <td>NaN</td>\n",
       "      <td>NaN</td>\n",
       "      <td>NaN</td>\n",
       "      <td>ELBOW</td>\n",
       "      <td>NaN</td>\n",
       "      <td>TREATED AND ADMITTED/HOSPITALIZED</td>\n",
       "      <td>HOME</td>\n",
       "      <td>NO/?</td>\n",
       "      <td>No / Unknown</td>\n",
       "      <td>No / Unknown</td>\n",
       "      <td>FLOORS OR FLOORING MATERIALS</td>\n",
       "      <td>1807 - FLOORS OR FLOORING MATERIALS</td>\n",
       "      <td>None</td>\n",
       "      <td>83-88</td>\n",
       "    </tr>\n",
       "    <tr>\n",
       "      <th>3</th>\n",
       "      <td>190103291</td>\n",
       "      <td>67YOF WAS AT A FRIENDS HOUSE AND SLIPPED ON WA...</td>\n",
       "      <td>2019-01-01</td>\n",
       "      <td>67</td>\n",
       "      <td>Female</td>\n",
       "      <td>Nova Scotia</td>\n",
       "      <td>NaN</td>\n",
       "      <td>Unknown</td>\n",
       "      <td>FRACTURE</td>\n",
       "      <td>NaN</td>\n",
       "      <td>NaN</td>\n",
       "      <td>NaN</td>\n",
       "      <td>LOWER ARM</td>\n",
       "      <td>NaN</td>\n",
       "      <td>TREATED/EXAMINED AND RELEASED</td>\n",
       "      <td>HOME</td>\n",
       "      <td>NO/?</td>\n",
       "      <td>No / Unknown</td>\n",
       "      <td>No / Unknown</td>\n",
       "      <td>FLOORS OR FLOORING MATERIALS</td>\n",
       "      <td>0 - None</td>\n",
       "      <td>None</td>\n",
       "      <td>65-70</td>\n",
       "    </tr>\n",
       "    <tr>\n",
       "      <th>4</th>\n",
       "      <td>190103294</td>\n",
       "      <td>70YOF WAS STANDING ON A STEP STOOL AND FELL OF...</td>\n",
       "      <td>2019-01-01</td>\n",
       "      <td>70</td>\n",
       "      <td>Female</td>\n",
       "      <td>Nova Scotia</td>\n",
       "      <td>NaN</td>\n",
       "      <td>Unknown</td>\n",
       "      <td>FRACTURE</td>\n",
       "      <td>NaN</td>\n",
       "      <td>NaN</td>\n",
       "      <td>NaN</td>\n",
       "      <td>LOWER ARM</td>\n",
       "      <td>NaN</td>\n",
       "      <td>TREATED/EXAMINED AND RELEASED</td>\n",
       "      <td>HOME</td>\n",
       "      <td>NO/?</td>\n",
       "      <td>No / Unknown</td>\n",
       "      <td>No / Unknown</td>\n",
       "      <td>FLOORS OR FLOORING MATERIALS</td>\n",
       "      <td>0 - None</td>\n",
       "      <td>None</td>\n",
       "      <td>65-70</td>\n",
       "    </tr>\n",
       "    <tr>\n",
       "      <th>...</th>\n",
       "      <td>...</td>\n",
       "      <td>...</td>\n",
       "      <td>...</td>\n",
       "      <td>...</td>\n",
       "      <td>...</td>\n",
       "      <td>...</td>\n",
       "      <td>...</td>\n",
       "      <td>...</td>\n",
       "      <td>...</td>\n",
       "      <td>...</td>\n",
       "      <td>...</td>\n",
       "      <td>...</td>\n",
       "      <td>...</td>\n",
       "      <td>...</td>\n",
       "      <td>...</td>\n",
       "      <td>...</td>\n",
       "      <td>...</td>\n",
       "      <td>...</td>\n",
       "      <td>...</td>\n",
       "      <td>...</td>\n",
       "      <td>...</td>\n",
       "      <td>...</td>\n",
       "      <td>...</td>\n",
       "    </tr>\n",
       "    <tr>\n",
       "      <th>115123</th>\n",
       "      <td>230217170</td>\n",
       "      <td>81 YOM FELL OUT OF BED. DX: LEFT FEMUR FRACTURE.</td>\n",
       "      <td>2022-10-22</td>\n",
       "      <td>81</td>\n",
       "      <td>Male</td>\n",
       "      <td>White</td>\n",
       "      <td>NaN</td>\n",
       "      <td>No</td>\n",
       "      <td>FRACTURE</td>\n",
       "      <td>NaN</td>\n",
       "      <td>NaN</td>\n",
       "      <td>NaN</td>\n",
       "      <td>UPPER LEG</td>\n",
       "      <td>NaN</td>\n",
       "      <td>TREATED AND ADMITTED/HOSPITALIZED</td>\n",
       "      <td>HOME</td>\n",
       "      <td>NO/?</td>\n",
       "      <td>No / Unknown</td>\n",
       "      <td>No / Unknown</td>\n",
       "      <td>FLOORS OR FLOORING MATERIALS</td>\n",
       "      <td>0 - None</td>\n",
       "      <td>None</td>\n",
       "      <td>77-82</td>\n",
       "    </tr>\n",
       "    <tr>\n",
       "      <th>115124</th>\n",
       "      <td>230217171</td>\n",
       "      <td>72 YOF SLIPPED AND FELL ON THE FLOOR. DX: L-3,...</td>\n",
       "      <td>2022-10-22</td>\n",
       "      <td>72</td>\n",
       "      <td>Female</td>\n",
       "      <td>White</td>\n",
       "      <td>NaN</td>\n",
       "      <td>No</td>\n",
       "      <td>FRACTURE</td>\n",
       "      <td>NaN</td>\n",
       "      <td>FRACTURE</td>\n",
       "      <td>NaN</td>\n",
       "      <td>LOWER TRUNK</td>\n",
       "      <td>UPPER TRUNK</td>\n",
       "      <td>TREATED AND ADMITTED/HOSPITALIZED</td>\n",
       "      <td>UNKNOWN</td>\n",
       "      <td>NO/?</td>\n",
       "      <td>No / Unknown</td>\n",
       "      <td>No / Unknown</td>\n",
       "      <td>FLOORS OR FLOORING MATERIALS</td>\n",
       "      <td>0 - None</td>\n",
       "      <td>None</td>\n",
       "      <td>71-76</td>\n",
       "    </tr>\n",
       "    <tr>\n",
       "      <th>115125</th>\n",
       "      <td>230217174</td>\n",
       "      <td>90 YOF TRIPPED AND FELL ON A GARAGE FLOOR. DX:...</td>\n",
       "      <td>2022-10-22</td>\n",
       "      <td>90</td>\n",
       "      <td>Female</td>\n",
       "      <td>White</td>\n",
       "      <td>NaN</td>\n",
       "      <td>No</td>\n",
       "      <td>STRAIN, SPRAIN</td>\n",
       "      <td>NaN</td>\n",
       "      <td>NaN</td>\n",
       "      <td>NaN</td>\n",
       "      <td>SHOULDER</td>\n",
       "      <td>NaN</td>\n",
       "      <td>TREATED/EXAMINED AND RELEASED</td>\n",
       "      <td>HOME</td>\n",
       "      <td>NO/?</td>\n",
       "      <td>No / Unknown</td>\n",
       "      <td>No / Unknown</td>\n",
       "      <td>FLOORS OR FLOORING MATERIALS</td>\n",
       "      <td>0 - None</td>\n",
       "      <td>None</td>\n",
       "      <td>89-94</td>\n",
       "    </tr>\n",
       "    <tr>\n",
       "      <th>115126</th>\n",
       "      <td>230218390</td>\n",
       "      <td>77 YOM PRESENTS FROM NURSING HOME FOLLOWING UN...</td>\n",
       "      <td>2022-10-24</td>\n",
       "      <td>77</td>\n",
       "      <td>Male</td>\n",
       "      <td>White</td>\n",
       "      <td>NaN</td>\n",
       "      <td>No</td>\n",
       "      <td>INTERNAL INJURY</td>\n",
       "      <td>NaN</td>\n",
       "      <td>LACERATION</td>\n",
       "      <td>NaN</td>\n",
       "      <td>HEAD</td>\n",
       "      <td>HEAD</td>\n",
       "      <td>TREATED/EXAMINED AND RELEASED</td>\n",
       "      <td>PUBLIC</td>\n",
       "      <td>NO/?</td>\n",
       "      <td>No / Unknown</td>\n",
       "      <td>No / Unknown</td>\n",
       "      <td>FLOORS OR FLOORING MATERIALS</td>\n",
       "      <td>0 - None</td>\n",
       "      <td>None</td>\n",
       "      <td>71-76</td>\n",
       "    </tr>\n",
       "    <tr>\n",
       "      <th>115127</th>\n",
       "      <td>230222638</td>\n",
       "      <td>71 YOF PRESENTS WITH ANKLE INJURY.  PT STATES ...</td>\n",
       "      <td>2022-10-24</td>\n",
       "      <td>71</td>\n",
       "      <td>Female</td>\n",
       "      <td>White</td>\n",
       "      <td>NaN</td>\n",
       "      <td>No</td>\n",
       "      <td>STRAIN, SPRAIN</td>\n",
       "      <td>NaN</td>\n",
       "      <td>NaN</td>\n",
       "      <td>NaN</td>\n",
       "      <td>37</td>\n",
       "      <td>NaN</td>\n",
       "      <td>TREATED/EXAMINED AND RELEASED</td>\n",
       "      <td>UNKNOWN</td>\n",
       "      <td>NO/?</td>\n",
       "      <td>No / Unknown</td>\n",
       "      <td>No / Unknown</td>\n",
       "      <td>FLOORS OR FLOORING MATERIALS</td>\n",
       "      <td>0 - None</td>\n",
       "      <td>None</td>\n",
       "      <td>65-70</td>\n",
       "    </tr>\n",
       "  </tbody>\n",
       "</table>\n",
       "<p>115128 rows × 23 columns</p>\n",
       "</div>"
      ],
      "text/plain": [
       "        cpsc_case_number                                          narrative  \\\n",
       "0              190103269  94YOM FELL TO THE FLOOR AT THE NURSING HOME ON...   \n",
       "1              190103270  86YOM FELL IN THE SHOWER AT HOME AND SUSTAINED...   \n",
       "2              190103273  87YOF WAS GETTING UP FROM THE COUCH AND FELL T...   \n",
       "3              190103291  67YOF WAS AT A FRIENDS HOUSE AND SLIPPED ON WA...   \n",
       "4              190103294  70YOF WAS STANDING ON A STEP STOOL AND FELL OF...   \n",
       "...                  ...                                                ...   \n",
       "115123         230217170   81 YOM FELL OUT OF BED. DX: LEFT FEMUR FRACTURE.   \n",
       "115124         230217171  72 YOF SLIPPED AND FELL ON THE FLOOR. DX: L-3,...   \n",
       "115125         230217174  90 YOF TRIPPED AND FELL ON A GARAGE FLOOR. DX:...   \n",
       "115126         230218390  77 YOM PRESENTS FROM NURSING HOME FOLLOWING UN...   \n",
       "115127         230222638  71 YOF PRESENTS WITH ANKLE INJURY.  PT STATES ...   \n",
       "\n",
       "       treatment_date  age     sex         race other_race hispanic  \\\n",
       "0          2019-01-01   94    Male  Nova Scotia        NaN  Unknown   \n",
       "1          2019-01-01   86    Male  Nova Scotia        NaN  Unknown   \n",
       "2          2019-01-01   87  Female  Nova Scotia        NaN  Unknown   \n",
       "3          2019-01-01   67  Female  Nova Scotia        NaN  Unknown   \n",
       "4          2019-01-01   70  Female  Nova Scotia        NaN  Unknown   \n",
       "...               ...  ...     ...          ...        ...      ...   \n",
       "115123     2022-10-22   81    Male        White        NaN       No   \n",
       "115124     2022-10-22   72  Female        White        NaN       No   \n",
       "115125     2022-10-22   90  Female        White        NaN       No   \n",
       "115126     2022-10-24   77    Male        White        NaN       No   \n",
       "115127     2022-10-24   71  Female        White        NaN       No   \n",
       "\n",
       "                diagnosis other_diagnosis  diagnosis_2 other_diagnosis_2  \\\n",
       "0         INTERNAL INJURY             NaN          NaN               NaN   \n",
       "1         INTERNAL INJURY             NaN          NaN               NaN   \n",
       "2        CONTUSIONS, ABR.             NaN          NaN               NaN   \n",
       "3                FRACTURE             NaN          NaN               NaN   \n",
       "4                FRACTURE             NaN          NaN               NaN   \n",
       "...                   ...             ...          ...               ...   \n",
       "115123           FRACTURE             NaN          NaN               NaN   \n",
       "115124           FRACTURE             NaN     FRACTURE               NaN   \n",
       "115125     STRAIN, SPRAIN             NaN          NaN               NaN   \n",
       "115126    INTERNAL INJURY             NaN   LACERATION               NaN   \n",
       "115127     STRAIN, SPRAIN             NaN          NaN               NaN   \n",
       "\n",
       "           body_part  body_part_2                        disposition location  \\\n",
       "0               HEAD          NaN  TREATED AND ADMITTED/HOSPITALIZED   PUBLIC   \n",
       "1               HEAD          NaN  TREATED AND ADMITTED/HOSPITALIZED     HOME   \n",
       "2              ELBOW          NaN  TREATED AND ADMITTED/HOSPITALIZED     HOME   \n",
       "3          LOWER ARM          NaN      TREATED/EXAMINED AND RELEASED     HOME   \n",
       "4          LOWER ARM          NaN      TREATED/EXAMINED AND RELEASED     HOME   \n",
       "...              ...          ...                                ...      ...   \n",
       "115123     UPPER LEG          NaN  TREATED AND ADMITTED/HOSPITALIZED     HOME   \n",
       "115124   LOWER TRUNK  UPPER TRUNK  TREATED AND ADMITTED/HOSPITALIZED  UNKNOWN   \n",
       "115125      SHOULDER          NaN      TREATED/EXAMINED AND RELEASED     HOME   \n",
       "115126          HEAD         HEAD      TREATED/EXAMINED AND RELEASED   PUBLIC   \n",
       "115127            37          NaN      TREATED/EXAMINED AND RELEASED  UNKNOWN   \n",
       "\n",
       "       fire_involvement       alcohol          drug  \\\n",
       "0                  NO/?  No / Unknown  No / Unknown   \n",
       "1                  NO/?  No / Unknown  No / Unknown   \n",
       "2                  NO/?  No / Unknown  No / Unknown   \n",
       "3                  NO/?  No / Unknown  No / Unknown   \n",
       "4                  NO/?  No / Unknown  No / Unknown   \n",
       "...                 ...           ...           ...   \n",
       "115123             NO/?  No / Unknown  No / Unknown   \n",
       "115124             NO/?  No / Unknown  No / Unknown   \n",
       "115125             NO/?  No / Unknown  No / Unknown   \n",
       "115126             NO/?  No / Unknown  No / Unknown   \n",
       "115127             NO/?  No / Unknown  No / Unknown   \n",
       "\n",
       "                            product_1                            product_2  \\\n",
       "0        FLOORS OR FLOORING MATERIALS                             0 - None   \n",
       "1        FLOORS OR FLOORING MATERIALS                             0 - None   \n",
       "2        FLOORS OR FLOORING MATERIALS  1807 - FLOORS OR FLOORING MATERIALS   \n",
       "3        FLOORS OR FLOORING MATERIALS                             0 - None   \n",
       "4        FLOORS OR FLOORING MATERIALS                             0 - None   \n",
       "...                               ...                                  ...   \n",
       "115123   FLOORS OR FLOORING MATERIALS                             0 - None   \n",
       "115124   FLOORS OR FLOORING MATERIALS                             0 - None   \n",
       "115125   FLOORS OR FLOORING MATERIALS                             0 - None   \n",
       "115126   FLOORS OR FLOORING MATERIALS                             0 - None   \n",
       "115127   FLOORS OR FLOORING MATERIALS                             0 - None   \n",
       "\n",
       "       product_3 age_group  \n",
       "0           None     89-94  \n",
       "1           None     83-88  \n",
       "2           None     83-88  \n",
       "3           None     65-70  \n",
       "4           None     65-70  \n",
       "...          ...       ...  \n",
       "115123      None     77-82  \n",
       "115124      None     71-76  \n",
       "115125      None     89-94  \n",
       "115126      None     71-76  \n",
       "115127      None     65-70  \n",
       "\n",
       "[115128 rows x 23 columns]"
      ]
     },
     "execution_count": 31,
     "metadata": {},
     "output_type": "execute_result"
    }
   ],
   "source": [
    "df"
   ]
  },
  {
   "cell_type": "markdown",
   "id": "dc6c697e",
   "metadata": {},
   "source": [
    "# EDA"
   ]
  },
  {
   "cell_type": "markdown",
   "id": "b286d1ad",
   "metadata": {},
   "source": [
    "#### AGE DISTRIBUTION"
   ]
  },
  {
   "cell_type": "code",
   "execution_count": 32,
   "id": "394153f3",
   "metadata": {},
   "outputs": [
    {
     "data": {
      "image/png": "[encoded data removed]",
      "text/plain": [
       "<Figure size 576x288 with 1 Axes>"
      ]
     },
     "metadata": {
      "needs_background": "light"
     },
     "output_type": "display_data"
    }
   ],
   "source": [
    "plt.figure(figsize=(8, 4))\n",
    "sns.histplot(df['age_group'], bins=20, kde=True)\n",
    "plt.title('Age Distribution')\n",
    "plt.xlabel('Age')\n",
    "plt.ylabel('Frequency')\n",
    "plt.show()\n"
   ]
  },
  {
   "cell_type": "markdown",
   "id": "c8d4baaf",
   "metadata": {},
   "source": [
    "In this analysis, it becomes evident that the age distribution within the elderly population skewed toward individuals aged between 71 and 82, indicating that a significant proportion of the elderly population falls within this specific range."
   ]
  },
  {
   "cell_type": "markdown",
   "id": "d8b8ac0c",
   "metadata": {},
   "source": [
    "#### GENDER DISTRIBUTION"
   ]
  },
  {
   "cell_type": "code",
   "execution_count": 33,
   "id": "c455f922",
   "metadata": {},
   "outputs": [
    {
     "data": {
      "image/png": "[encoded data removed]",
      "text/plain": [
       "<Figure size 576x432 with 1 Axes>"
      ]
     },
     "metadata": {
      "needs_background": "light"
     },
     "output_type": "display_data"
    }
   ],
   "source": [
    "plt.figure(figsize=(8, 6))\n",
    "sns.countplot(df, x='sex')\n",
    "plt.title('Gender Distribution')\n",
    "plt.xlabel('Sex')\n",
    "plt.ylabel('Count')\n",
    "plt.show()\n"
   ]
  },
  {
   "cell_type": "markdown",
   "id": "e559984c",
   "metadata": {},
   "source": [
    "There is a higher proportion of females in this dataset."
   ]
  },
  {
   "cell_type": "markdown",
   "id": "61e43e22",
   "metadata": {},
   "source": [
    "#### RACE DISTRIBUTION"
   ]
  },
  {
   "cell_type": "code",
   "execution_count": 34,
   "id": "4e56181d",
   "metadata": {},
   "outputs": [
    {
     "data": {
      "image/png": "[encoded data removed]",
      "text/plain": [
       "<Figure size 1080x432 with 1 Axes>"
      ]
     },
     "metadata": {
      "needs_background": "light"
     },
     "output_type": "display_data"
    }
   ],
   "source": [
    "plt.figure(figsize=(15, 6))\n",
    "sns.countplot(df, x='race')\n",
    "plt.title('Race Distribution')\n",
    "plt.xlabel('Race')\n",
    "plt.ylabel('Count')\n",
    "plt.show()\n"
   ]
  },
  {
   "cell_type": "markdown",
   "id": "5552d71e",
   "metadata": {},
   "source": [
    "There are higher proportion of whites followed by Nova Scotia in this dataset."
   ]
  },
  {
   "cell_type": "markdown",
   "id": "52969eb3",
   "metadata": {},
   "source": [
    "#### DIAGNOSIS DISTRIBUTION"
   ]
  },
  {
   "cell_type": "code",
   "execution_count": 35,
   "id": "92629ab3",
   "metadata": {},
   "outputs": [
    {
     "data": {
      "image/png": "[encoded data removed]",
      "text/plain": [
       "<Figure size 720x432 with 1 Axes>"
      ]
     },
     "metadata": {
      "needs_background": "light"
     },
     "output_type": "display_data"
    }
   ],
   "source": [
    "# Get the top 10 diagnosis \n",
    "top_10_diagnosis = df['diagnosis'].value_counts().head(10)\n",
    "\n",
    "# Create a bar chart\n",
    "plt.figure(figsize=(10, 6))\n",
    "top_10_diagnosis.plot(kind='bar')\n",
    "plt.title('Top 10 Diagnosis by Distribution')\n",
    "plt.xlabel('Diagnosis')\n",
    "plt.ylabel('Count')\n",
    "plt.xticks(rotation=45) \n",
    "plt.show()\n"
   ]
  },
  {
   "cell_type": "markdown",
   "id": "c09d740e",
   "metadata": {},
   "source": [
    "These are the top 10 most frequently occurring diagnosis in this dataset, revealing the primary health conditions experienced by older individuals when they fall."
   ]
  },
  {
   "cell_type": "markdown",
   "id": "927847a1",
   "metadata": {},
   "source": [
    "#### BODY PARTS DISTRIBUTION"
   ]
  },
  {
   "cell_type": "code",
   "execution_count": 36,
   "id": "f4195579",
   "metadata": {},
   "outputs": [
    {
     "data": {
      "image/png": "[encoded data removed]",
      "text/plain": [
       "<Figure size 720x432 with 1 Axes>"
      ]
     },
     "metadata": {
      "needs_background": "light"
     },
     "output_type": "display_data"
    }
   ],
   "source": [
    "# Get the top 10 body parts affected by fall\n",
    "top_10_body_part = df['body_part'].value_counts().head(10)\n",
    "\n",
    "# Create a bar chart\n",
    "plt.figure(figsize=(10, 6))\n",
    "top_10_body_part.plot(kind='bar')\n",
    "plt.title('Top 10 body_part by Distribution')\n",
    "plt.xlabel('body_part')\n",
    "plt.ylabel('Count')\n",
    "plt.xticks(rotation=45) \n",
    "plt.show()"
   ]
  },
  {
   "cell_type": "markdown",
   "id": "fe28f017",
   "metadata": {},
   "source": [
    "When older individuals fall, these body parts are more susceptible to being affected."
   ]
  },
  {
   "cell_type": "markdown",
   "id": "2ffb16c2",
   "metadata": {},
   "source": [
    "### BIVARIATE ANALYSIS\n",
    "\n",
    "Bivariate analysis refers to the statistical analysis or examination of the relationship or interactions between two variables or factors to understand their correlation, association, or dependencies."
   ]
  },
  {
   "cell_type": "markdown",
   "id": "c2ae89fe",
   "metadata": {},
   "source": [
    "### Demographic Factors:"
   ]
  },
  {
   "cell_type": "markdown",
   "id": "e224e8cf",
   "metadata": {},
   "source": [
    "##### AGE vs DIAGNOSIS"
   ]
  },
  {
   "cell_type": "code",
   "execution_count": 37,
   "id": "fa9fe667",
   "metadata": {},
   "outputs": [
    {
     "data": {
      "image/png": "[encoded data removed]",
      "text/plain": [
       "<Figure size 1008x432 with 1 Axes>"
      ]
     },
     "metadata": {
      "needs_background": "light"
     },
     "output_type": "display_data"
    }
   ],
   "source": [
    "top_10_diagnosis = df['diagnosis'].value_counts().head(10).index\n",
    "df_filtered = df[df['diagnosis'].isin(top_10_diagnosis)]\n",
    "plt.figure(figsize=(14, 6))\n",
    "sns.countplot(data=df_filtered, x='diagnosis', hue='age_group')\n",
    "plt.title('Top 10 Diagnosis Count by Age Group')\n",
    "plt.xlabel('Diagnosis')\n",
    "plt.ylabel('Count')\n",
    "plt.xticks(rotation=90)\n",
    "plt.show()"
   ]
  },
  {
   "cell_type": "markdown",
   "id": "dd22c258",
   "metadata": {},
   "source": [
    "## HYPOTHESIS\n",
    "\n",
    "### Age-Related Injury Trends: \n",
    "\n",
    "The data reveals clear age-related patterns in the types of injuries diagnosed after falls. As individuals advance in age, they exhibit distinct injury patterns, highlighting the importance of age as a risk factor for certain types of injuries.\n",
    "\n",
    "Increased Risk of Internal Injuries (Ages 71-82): The finding that people between the ages of 71 and 82 are more frequently diagnosed with internal injuries following falls suggests that this age group may be particularly susceptible to injuries affecting internal organs. This vulnerability might be linked to age-related physiological changes or underlying health conditions.\n",
    "\n",
    "Contusions and Auditory Brainstem Response (ABR) in Older Age Groups (Ages 65-82): The higher incidence of contusions (bruises) and the presence of auditory brainstem response (ABR) diagnoses within the age range of 65 to 82 indicate that falls in this age group not only result in physical injuries but may also have neurological or auditory implications. This finding underscores the need for a holistic assessment of falls in older adults.\n",
    "\n",
    "Elevated Fracture Rates (Ages 65-88): The significant prevalence of fractures among individuals aged 65 to 88, with a notably higher rate, underscores the heightened risk of bone fractures in older age. This increased susceptibility might be attributed to factors such as reduced bone density and diminished musculoskeletal strength, which amplify the risk of fractures during falls."
   ]
  },
  {
   "cell_type": "markdown",
   "id": "74a8a8d7",
   "metadata": {},
   "source": [
    "#### SEX VS DIAGNOSIS"
   ]
  },
  {
   "cell_type": "code",
   "execution_count": 38,
   "id": "0b121169",
   "metadata": {},
   "outputs": [],
   "source": [
    "dsg = df[['sex','diagnosis']]\n"
   ]
  },
  {
   "cell_type": "code",
   "execution_count": 39,
   "id": "7db53345",
   "metadata": {},
   "outputs": [
    {
     "data": {
      "image/png": "[encoded data removed]",
      "text/plain": [
       "<Figure size 1080x576 with 1 Axes>"
      ]
     },
     "metadata": {
      "needs_background": "light"
     },
     "output_type": "display_data"
    }
   ],
   "source": [
    "# Sample data\n",
    "q = {\n",
    "    'sex': ['Female', 'Male', 'Female', 'Male','Female', 'Male'],\n",
    "    'diagnosis': ['Internal Injury', 'Internal Injury', 'Contusion', 'Contusion','Fracture','Fracture']\n",
    "}\n",
    "\n",
    "it = df[(df['diagnosis'] == 'INTERNAL INJURY') | (df['diagnosis'] == ' CONTUSIONS, ABR.') | (df['diagnosis'] == 'FRACTURE')]\n",
    "\n",
    "# Calculate the proportions of each diagnosis by gender\n",
    "diagnosis_proportions = it.groupby(['sex', 'diagnosis']).size() / it.groupby('sex').size()\n",
    "\n",
    "# Reset the index for the proportions\n",
    "diagnosis_proportions = diagnosis_proportions.reset_index(name='Proportion')\n",
    "\n",
    "# Pivot the data to create a percentage stacked bar chart\n",
    "pivot_table = diagnosis_proportions.pivot(index='sex', columns='diagnosis', values='Proportion')\n",
    "\n",
    "# Normalize the data to percentages (multiply by 100)\n",
    "pivot_table *= 100\n",
    "\n",
    "# Create the percentage stacked bar chart\n",
    "ax = pivot_table.plot(kind='bar', stacked=True, figsize=(15, 8))\n",
    "\n",
    "\n",
    "plt.xlabel('sex')\n",
    "plt.ylabel('Percentage')\n",
    "plt.title('Percentage Stacked Bar Chart: Gender vs. Diagnosis')\n",
    "\n",
    "# Add data labels to each bar segment\n",
    "for p in ax.patches:\n",
    "    width, height = p.get_width(), p.get_height()\n",
    "    x, y = p.get_xy()\n",
    "    ax.annotate(f'{height:.1f}%', (x + width / 2, y + height / 2), ha='center', va='center')\n",
    "\n",
    "\n",
    "plt.show()\n"
   ]
  },
  {
   "cell_type": "markdown",
   "id": "ff980c83",
   "metadata": {},
   "source": [
    "## HYPOTHESIS\n",
    "\n",
    "### Gender-Specific Injury Patterns:\n",
    "\n",
    "The data reveals gender-specific patterns in the types of injuries diagnosed after falls. These differences highlight the importance of considering gender as a factor in understanding and addressing specific health outcomes.\n",
    "\n",
    "Higher Incidence of Internal Injury in Males: The higher occurrence of internal injury diagnoses in males suggests that men may be more susceptible to injuries affecting internal organs following falls. This finding may be indicative of gender-related physiological differences or variations in injury mechanisms.\n",
    "\n",
    "Contusion and Auditory Brainstem Response (ABR) in Males: The prevalence of contusion and auditory brainstem response (ABR) diagnoses in males implies that men are more likely to experience bruises or minor injuries and may also be at greater risk of auditory or neurological issues following falls.\n",
    "\n",
    "Fractures More Common in Females: The observation that fractures are diagnosed more frequently in females suggests that women may face a higher risk of bone fractures during falls. This could be influenced by factors such as bone density, physical activity, or age-related changes affecting bone health.\n"
   ]
  },
  {
   "cell_type": "markdown",
   "id": "df18441c",
   "metadata": {},
   "source": [
    "#### RACE VS DIAGNOSIS"
   ]
  },
  {
   "cell_type": "code",
   "execution_count": 40,
   "id": "b0195869",
   "metadata": {},
   "outputs": [
    {
     "data": {
      "image/png": "[encoded data removed]",
      "text/plain": [
       "<Figure size 1080x576 with 1 Axes>"
      ]
     },
     "metadata": {
      "needs_background": "light"
     },
     "output_type": "display_data"
    }
   ],
   "source": [
    "it = df[(df['diagnosis'] == 'INTERNAL INJURY') | (df['diagnosis'] == ' CONTUSIONS, ABR.') | (df['diagnosis'] == 'FRACTURE')]\n",
    "\n",
    "\n",
    "# Calculate the proportions of each diagnosis by race\n",
    "diagnosis_proportions = it.groupby(['race', 'diagnosis']).size() / it.groupby('race').size()\n",
    "\n",
    "# Reset the index for the proportions\n",
    "diagnosis_proportions = diagnosis_proportions.reset_index(name='Proportion')\n",
    "\n",
    "# Pivot the data to create a percentage stacked bar chart\n",
    "pivot_table = diagnosis_proportions.pivot(index='race', columns='diagnosis', values='Proportion')\n",
    "\n",
    "# Normalize the data to percentages (multiply by 100)\n",
    "pivot_table *= 100\n",
    "\n",
    "# Create the percentage stacked bar chart\n",
    "ax = pivot_table.plot(kind='bar', stacked=True, figsize=(15, 8))\n",
    "\n",
    "# Add labels and a title\n",
    "plt.xlabel('race')\n",
    "plt.ylabel('Percentage')\n",
    "plt.title('Percentage Stacked Bar Chart: Race vs. Diagnosis')\n",
    "\n",
    "# Add data labels to each bar segment\n",
    "for p in ax.patches:\n",
    "    width, height = p.get_width(), p.get_height()\n",
    "    x, y = p.get_xy()\n",
    "    ax.annotate(f'{height:.1f}%', (x + width / 2, y + height / 2), ha='center', va='center')\n",
    "\n",
    "plt.show()"
   ]
  },
  {
   "cell_type": "markdown",
   "id": "892821ec",
   "metadata": {},
   "source": [
    "## HYPOTHESIS\n",
    "\n",
    "### Racial Disparities in Diagnosis Patterns: \n",
    "\n",
    "The data indicates that there are disparities in the types of diagnoses individuals receive following falls among different racial groups. These disparities may reflect variations in healthcare access, socioeconomic factors, or underlying health conditions within these populations.\n",
    "\n",
    "Higher Occurrence of Internal Injuries in Native Hawaiian/Pacific Islander: The higher incidence of internal injury diagnoses in the Native Hawaiian/Pacific Islander group suggests that individuals from this racial background may be more susceptible to injuries affecting internal organs after falling. Further research is needed to understand the specific factors contributing to this pattern.\n",
    "\n",
    "Contusions and Auditory Brainstem Response (ABR) in Black/African American: The prevalence of contusion and auditory brainstem response (ABR) diagnoses in the Black/African American population may indicate that falls in this racial group not only result in physical injuries (contusions) but may also have neurological or auditory implications (ABR). This finding underscores the need for comprehensive assessments and care for fall-related injuries in this demographic.\n",
    "\n",
    "Fractures More Common in American Indian/Alaska Native: The observation that fractures are diagnosed more frequently in the American Indian/Alaska Native population suggests that individuals from this racial background may be at a higher risk of bone fractures following falls. Factors contributing to this risk may include variations in bone health, activity levels, or other sociocultural factors."
   ]
  },
  {
   "cell_type": "markdown",
   "id": "ccedd5a0",
   "metadata": {},
   "source": [
    "### ALCOHOL VS DIAGNOSIS"
   ]
  },
  {
   "cell_type": "code",
   "execution_count": 41,
   "id": "a673546e",
   "metadata": {},
   "outputs": [
    {
     "data": {
      "image/png": "[encoded data removed]",
      "text/plain": [
       "<Figure size 1008x432 with 1 Axes>"
      ]
     },
     "metadata": {
      "needs_background": "light"
     },
     "output_type": "display_data"
    }
   ],
   "source": [
    "top_10_diagnosis = df['diagnosis'].value_counts().head(10).index\n",
    "df_filtered = df[df['diagnosis'].isin(top_10_diagnosis)]\n",
    "plt.figure(figsize=(14, 6))\n",
    "sns.countplot(data=df_filtered, x='diagnosis', hue='alcohol')\n",
    "plt.title('Top 10 Diagnosis Count by alcohol')\n",
    "plt.xlabel('Diagnosis')\n",
    "plt.ylabel('Count')\n",
    "plt.xticks(rotation=90)\n",
    "plt.show()"
   ]
  },
  {
   "cell_type": "markdown",
   "id": "c0be655b",
   "metadata": {},
   "source": [
    "most of the falls are obviously not caused by alcohol"
   ]
  },
  {
   "cell_type": "markdown",
   "id": "9fd85156",
   "metadata": {},
   "source": [
    "### DRUGS VS DIAGNOSIS"
   ]
  },
  {
   "cell_type": "code",
   "execution_count": 42,
   "id": "0da5494f",
   "metadata": {},
   "outputs": [
    {
     "data": {
      "image/png": "[encoded data removed]",
      "text/plain": [
       "<Figure size 1008x432 with 1 Axes>"
      ]
     },
     "metadata": {
      "needs_background": "light"
     },
     "output_type": "display_data"
    }
   ],
   "source": [
    "top_10_diagnosis = df['diagnosis'].value_counts().head(10).index\n",
    "df_filtered = df[df['diagnosis'].isin(top_10_diagnosis)]\n",
    "plt.figure(figsize=(14, 6))\n",
    "sns.countplot(data=df_filtered, x='diagnosis', hue='drug')\n",
    "plt.title('Top 10 Diagnosis Count by drug')\n",
    "plt.xlabel('Diagnosis')\n",
    "plt.ylabel('Count')\n",
    "plt.xticks(rotation=90)\n",
    "plt.show()"
   ]
  },
  {
   "cell_type": "markdown",
   "id": "604ba2a3",
   "metadata": {},
   "source": [
    "Most of the falls are not caused by Drugs as well"
   ]
  },
  {
   "cell_type": "markdown",
   "id": "59db7770",
   "metadata": {},
   "source": [
    "### Environmental Factors:\n",
    "\n",
    "##### Does the location or environment where falls occur impact the likelihood of injury?"
   ]
  },
  {
   "cell_type": "markdown",
   "id": "fb0a59fd",
   "metadata": {},
   "source": [
    "### LOCATION VS DIAGNOSIS"
   ]
  },
  {
   "cell_type": "code",
   "execution_count": 43,
   "id": "d4833df3",
   "metadata": {},
   "outputs": [
    {
     "data": {
      "image/png": "[encoded data removed]",
      "text/plain": [
       "<Figure size 1008x432 with 1 Axes>"
      ]
     },
     "metadata": {
      "needs_background": "light"
     },
     "output_type": "display_data"
    }
   ],
   "source": [
    "top_10_diagnosis = df['diagnosis'].value_counts().head(10).index\n",
    "df_filtered = df[df['diagnosis'].isin(top_10_diagnosis)]\n",
    "plt.figure(figsize=(14, 6))\n",
    "sns.countplot(data=df_filtered, x='diagnosis', hue='location')\n",
    "plt.title('Top 10 Diagnosis Count by location')\n",
    "plt.xlabel('Diagnosis')\n",
    "plt.ylabel('Count')\n",
    "plt.xticks(rotation=90)\n",
    "plt.show()"
   ]
  },
  {
   "cell_type": "markdown",
   "id": "5f1f98df",
   "metadata": {},
   "source": [
    "## HYPOTHESIS\n",
    "\n",
    "The observation that most falls occur at home, unknown locations, and in public areas provides valuable insights into fall prevention and safety measures. Here are insights and potential solutions based on this observation:\n",
    "\n",
    "#### Insights:\n",
    "\n",
    "Home as a Common Location: The fact that a significant number of falls occur at home underscores the importance of home safety for individuals of all ages, particularly for older adults who may spend a substantial amount of time at home.\n",
    "\n",
    "Unknown Locations: The \"unknown location\" category may indicate that some falls happen in unmonitored or less-traveled areas, making it challenging to identify and respond to these incidents promptly.\n",
    "\n",
    "Public Spaces: Falls in public areas highlight the need for public safety measures and awareness campaigns to reduce the risk of falls in crowded places.\n",
    "\n",
    "#### Solutions:\n",
    "\n",
    "Home Safety Assessments: Encourage home safety assessments, particularly for older adults, to identify and address potential fall hazards at home. This may include removing tripping hazards, improving lighting, installing handrails, and making bathrooms more accessible."
   ]
  },
  {
   "cell_type": "markdown",
   "id": "7bbdb6d8",
   "metadata": {},
   "source": [
    "### LOCATION VS DISPOSITION "
   ]
  },
  {
   "cell_type": "code",
   "execution_count": 44,
   "id": "67fb3700",
   "metadata": {},
   "outputs": [
    {
     "data": {
      "image/png": "[encoded data removed]",
      "text/plain": [
       "<Figure size 720x432 with 2 Axes>"
      ]
     },
     "metadata": {
      "needs_background": "light"
     },
     "output_type": "display_data"
    }
   ],
   "source": [
    "location_disposition_cross_tab = pd.crosstab(df['location'], df['disposition'])\n",
    "# Visualize the relationship between location and disposition using a heatmap\n",
    "plt.figure(figsize=(10, 6))\n",
    "sns.heatmap(location_disposition_cross_tab, annot=True, fmt='d', cmap='YlGnBu')\n",
    "plt.title('Relationship between Location and Disposition')\n",
    "plt.xlabel('Disposition')\n",
    "plt.ylabel('Location')\n",
    "plt.show()"
   ]
  },
  {
   "cell_type": "markdown",
   "id": "cee55b30",
   "metadata": {},
   "source": [
    "\n",
    "\n",
    "### Severity and Treatment Outcomes:\n",
    "\n",
    "Falls at home are more common but result in a mix of treatment outcomes: a significant number of individuals are treated and released, while a substantial number require hospitalization.\n",
    "\n"
   ]
  },
  {
   "cell_type": "markdown",
   "id": "f2946c4a",
   "metadata": {},
   "source": [
    "## To identify the common circumstances or activities during which falls occur among older adults "
   ]
  },
  {
   "cell_type": "code",
   "execution_count": 45,
   "id": "a97c6d6b",
   "metadata": {},
   "outputs": [],
   "source": [
    "df['narrative'] = df['narrative'].str.lower().str.replace('[^\\w\\s]',' ').str.replace('\\s\\s+', ' ')"
   ]
  },
  {
   "cell_type": "code",
   "execution_count": 48,
   "id": "75ee5066",
   "metadata": {},
   "outputs": [
    {
     "data": {
      "image/png": "[encoded data removed]",
      "text/plain": [
       "<Figure size 720x432 with 1 Axes>"
      ]
     },
     "metadata": {
      "needs_background": "light"
     },
     "output_type": "display_data"
    }
   ],
   "source": [
    "import nltk\n",
    "from nltk.tokenize import word_tokenize\n",
    "from collections import Counter\n",
    "\n",
    "sentences = df['narrative'].dropna().str.replace(',', '').str.replace(':', '').str.replace('.', '')\n",
    "\n",
    "# Tokenize the sentences into unigrams\n",
    "unigrams = [word_tokenize(sentence) for sentence in sentences if len(sentence) >= 4]\n",
    "\n",
    "# Flatten the list of unigrams\n",
    "unigrams = [word for sublist in unigrams for word in sublist if len(word) >= 4]\n",
    "\n",
    "# Count the frequency of each unigram\n",
    "unigram_counts = Counter(unigrams)\n",
    "\n",
    "#Get the top 15 most common unigrams and their counts\n",
    "top_n = 15\n",
    "most_common_unigrams = unigram_counts.most_common(top_n)\n",
    "common_unigrams, counts = zip(*most_common_unigrams)\n",
    "\n",
    "# Create a bar chart to visualize unigram frequencies\n",
    "plt.figure(figsize=(10, 6))\n",
    "plt.barh(common_unigrams, counts)\n",
    "plt.xlabel('Frequency')\n",
    "plt.ylabel('Unigrams')\n",
    "plt.title(f'Top {top_n} Most Common Unigrams')\n",
    "plt.gca().invert_yaxis()  # Invert the y-axis to display the most common at the top\n",
    "plt.show()\n"
   ]
  },
  {
   "cell_type": "markdown",
   "id": "bb846d38",
   "metadata": {},
   "source": [
    "## BIGRAMS"
   ]
  },
  {
   "cell_type": "code",
   "execution_count": 49,
   "id": "edb04a47",
   "metadata": {},
   "outputs": [
    {
     "data": {
      "image/png": "[encoded data removed]",
      "text/plain": [
       "<Figure size 720x576 with 1 Axes>"
      ]
     },
     "metadata": {
      "needs_background": "light"
     },
     "output_type": "display_data"
    }
   ],
   "source": [
    "from nltk.corpus import stopwords\n",
    "stop_words = set(stopwords.words('english'))\n",
    "\n",
    "from nltk import bigrams\n",
    "df['narrative'] = df['narrative'].str.lower().str.replace('[^\\w\\s]',' ').str.replace('\\s\\s+', ' ')\n",
    "\n",
    "sentences = df['narrative'].dropna().str.replace(',', '').str.replace(':', '').str.replace('.', '')\n",
    "\n",
    "# Initialize NLTK's stop words\n",
    "stop_words = set(stopwords.words('english'))\n",
    "\n",
    "# Initialize a list to store preprocessed bigrams\n",
    "preprocessed_bigrams = []\n",
    "\n",
    "for sentence in sentences:\n",
    "    # Tokenize the sentence\n",
    "    tokens = word_tokenize(sentence)\n",
    "   \n",
    "    \n",
    "    # Convert to lowercase, remove punctuation, and remove stop words\n",
    "    clean_tokens = [word.lower() for word in tokens if word.isalpha() and len(word) >= 4  not in stop_words]\n",
    "    \n",
    "    # Create bigrams from the clean tokens\n",
    "    bigrams_list = list(bigrams(clean_tokens))\n",
    "    \n",
    "    # Append the preprocessed bigrams to the list\n",
    "    preprocessed_bigrams.extend(bigrams_list)\n",
    "\n",
    "# Count the frequency of each bigram\n",
    "bigram_counts = Counter(preprocessed_bigrams)\n",
    "\n",
    "# Get the top 15 most common bigrams and their counts\n",
    "top_15_bigrams = bigram_counts.most_common(15)\n",
    "bigram_labels, bigram_counts = zip(*top_15_bigrams)\n",
    "\n",
    "# Create a bar chart to visualize bigram frequencies\n",
    "plt.figure(figsize=(10, 8))\n",
    "plt.barh(range(len(bigram_labels)), bigram_counts)\n",
    "plt.yticks(range(len(bigram_labels)), bigram_labels)\n",
    "plt.xlabel('Frequency')\n",
    "plt.ylabel('Bigrams')\n",
    "plt.title('Top 15 Most Common Bigrams')\n",
    "plt.gca().invert_yaxis()  # Invert the y-axis to display the most common at the top\n",
    "plt.show()\n"
   ]
  },
  {
   "cell_type": "markdown",
   "id": "0e994d74",
   "metadata": {},
   "source": [
    "### The bigrams extracted provide insights into the reasons older adults fall and suggest potential solutions for fall prevention. Let's analyze each bigram:\n",
    "\n",
    "1. **Head Injury**: The presence of \"head injury\" indicates that head injuries are a significant outcome of falls among older adults. It's essential to focus on strategies to prevent head injuries, such as using protective headgear and implementing fall prevention programs.\n",
    "\n",
    "2. **Fell Floor**: \"Fell floor\" suggests that falls often result in individuals landing on the floor. This emphasizes the importance of strategies to minimize the impact of falls, including improving flooring materials to reduce injury risk.\n",
    "\n",
    "3. **Closed Head**: \"Closed head\" could refer to injuries where the skull is not fractured but may still result in concussions or other head injuries. Preventive measures may include education on recognizing the signs of head injuries and seeking medical attention.\n",
    "\n",
    "4. **Hitting Head**: Falls that lead to \"hitting head\" indicate a potential problem with balance or coordination. Solutions may involve balance exercises, regular vision check-ups, and environmental modifications to reduce hazards.\n",
    "\n",
    "5. **Nursing Home**: The mention of \"nursing home\" suggests that falls occur in care facilities. Solutions may involve improved staff training, fall risk assessments, and environmental modifications in nursing homes.\n",
    "\n",
    "6. **Tripped Over**: \"Tripped over\" highlights the role of tripping hazards in falls. Reducing tripping hazards, such as clutter and loose rugs, can help prevent falls.\n",
    "\n",
    "7. **Striking Head**: Similar to \"hitting head,\" this bigram points to falls leading to head injuries. Strategies to reduce head injuries are relevant here.\n",
    "\n",
    "8. **Lost Balance**: The phrase \"lost balance\" indicates that balance issues may contribute to falls. Balance training exercises and medical evaluations to identify underlying causes can be beneficial.\n",
    "\n",
    "9. **Fell Down**: \"Fell down\" is a straightforward representation of falls. Fall prevention strategies should be implemented broadly, including home safety measures and regular exercise.\n",
    "\n",
    "10. **Floor Home**: \"Floor home\" suggests that falls often occur at home. Home safety assessments and modifications are essential to reduce fall risks.\n",
    "\n",
    "Based on these insights, here are some potential solutions for fall prevention among older adults:\n",
    "\n",
    "- **Fall Risk Assessments**: Conduct regular fall risk assessments for older adults, taking into account their health conditions, mobility, and living environment.\n",
    "\n",
    "- **Home Safety Modifications**: Promote home safety assessments and modifications, such as installing handrails, improving lighting, and removing tripping hazards.\n",
    "\n",
    "- **Balance and Strength Training**: Encourage older adults to engage in balance and strength training exercises to improve their physical stability and reduce the risk of falling.\n",
    "\n",
    "- **Medication Management**: Review and manage medications that may cause dizziness or affect balance, consulting with healthcare professionals as needed.\n",
    "\n",
    "- **Use of Mobility Aids**: Provide and educate older adults on the appropriate use of mobility aids such as walkers or canes.\n",
    "\n",
    "- **Regular Health Checkups**: Encourage older adults to have regular checkups with healthcare providers to address any underlying health issues that may contribute to falls.\n",
    "\n",
    "- **Educational Programs**: Offer educational programs to raise awareness about fall prevention, including information on recognizing fall risks and taking preventive measures.\n",
    "\n",
    "- **Environmental Modifications in Nursing Homes**: Improve the safety of nursing homes by implementing environmental modifications and staff training programs.\n",
    "\n",
    "- **Protective Headgear**: For older adults at risk of head injuries due to falls, consider the use of protective headgear, such as helmets or head protection.\n",
    "\n",
    "- **Regular Vision Exams**: Encourage older adults to have regular vision exams to ensure proper vision, which is crucial for balance and coordination.\n",
    "\n",
    "Implementing a combination of these solutions tailored to individual needs and circumstances can significantly reduce the risk of falls among older adults and enhance their overall safety and well-being. Additionally, fostering a supportive and vigilant community or caregiver network can further contribute to fall prevention."
   ]
  },
  {
   "cell_type": "code",
   "execution_count": null,
   "id": "4e340487",
   "metadata": {},
   "outputs": [],
   "source": [
    "\"\"\"\"\"\"\"\"\"from wordcloud import WordCloud\n",
    "from PIL import ImageFont\n",
    "# Assuming 'narrative' column contains fall descriptions\n",
    "# narratives = df['narrative'].dropna()\n",
    "# narratives\n",
    "# Combine narratives into a single text\n",
    "all_text =  ' '.join(sentences)\n",
    "\n",
    "\n",
    "\n",
    "# Specify the full absolute file path to the font with forward slashes and a raw string literal\n",
    "font_url = r'C:\\Users\\DELL\\Downloads\\PicArt Fonts\\Calypsoka.ttf'\n",
    "\n",
    "# Generate a word cloud with the specified font\n",
    "#wordcloud = WordCloud(width=800, height=400, max_words=50).generate(all_text)\n",
    "\n",
    "wc = WordCloud(width=800, height=400, max_words=50, font_path=font_url).generate(all_text)\n",
    "# Plot the word cloud\n",
    "plt.figure(figsize=(10, 5))\n",
    "plt.imshow(wc)\n",
    "plt.axis('off')\n",
    "plt.title('Common Circumstances of Falls')\n",
    "plt.show()"
   ]
  },
  {
   "cell_type": "code",
   "execution_count": null,
   "id": "a5d189c6",
   "metadata": {},
   "outputs": [],
   "source": []
  }
 ],
 "metadata": {
  "kernelspec": {
   "display_name": "Python 3 (ipykernel)",
   "language": "python",
   "name": "python3"
  },
  "language_info": {
   "codemirror_mode": {
    "name": "ipython",
    "version": 3
   },
   "file_extension": ".py",
   "mimetype": "text/x-python",
   "name": "python",
   "nbconvert_exporter": "python",
   "pygments_lexer": "ipython3",
   "version": "3.9.12"
  }
 },
 "nbformat": 4,
 "nbformat_minor": 5
}
