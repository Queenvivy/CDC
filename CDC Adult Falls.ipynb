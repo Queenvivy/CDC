{
 "cells": [
  {
   "cell_type": "markdown",
   "id": "a7ec2176",
   "metadata": {},
   "source": [
    "# Unsupervised Wisdom: Explore Medical Narratives on Older Adult Falls"
   ]
  },
  {
   "cell_type": "markdown",
   "id": "f35af6dc",
   "metadata": {},
   "source": [
    "    Project Outline\n",
    "\n",
    "1. Problem Description\n",
    "2. Introduction to Approach Used\n",
    "3. Data Cleaning and Preprocessing\n",
    "4. Exploratory Data Analysis and Data Visualization\n",
    "5. Model Building\n",
    "6. Final Inference"
   ]
  },
  {
   "cell_type": "markdown",
   "id": "96abad6e",
   "metadata": {},
   "source": [
    " "
   ]
  },
  {
   "cell_type": "markdown",
   "id": "cd494638",
   "metadata": {},
   "source": [
    "---"
   ]
  },
  {
   "cell_type": "markdown",
   "id": "47f080a5",
   "metadata": {},
   "source": [
    " "
   ]
  },
  {
   "cell_type": "markdown",
   "id": "87c12ba2",
   "metadata": {},
   "source": [
    "## 1. Problem Description\n"
   ]
  },
  {
   "cell_type": "markdown",
   "id": "eaaebac6",
   "metadata": {},
   "source": [
    " In this challenge, the objective is to delve into the utilization of unsupervised machine learning techniques on emergency department (ED) visit narratives pertaining to falls among older adults aged 65 and above. The ultimate aim is to extract valuable insights from these analyses, which can then be used to shape policies and interventions geared towards mitigating falls in the older adult population."
   ]
  },
  {
   "cell_type": "markdown",
   "id": "46d80ba7",
   "metadata": {},
   "source": [
    "---"
   ]
  },
  {
   "cell_type": "markdown",
   "id": "4705c7ce",
   "metadata": {},
   "source": [
    " "
   ]
  },
  {
   "cell_type": "markdown",
   "id": "c5c2595a",
   "metadata": {},
   "source": [
    "## 2. Introduction to Approach Used"
   ]
  },
  {
   "cell_type": "markdown",
   "id": "88632eb9",
   "metadata": {},
   "source": [
    "Approach Used\n",
    "First, the data was cleaned and preprocessed using various techniques such as variable mapping, stop word removal, lemmatization and other techniques to further transform the whole dataset (especially the narrative column) to better suit the NEISS standards.\n",
    "\n",
    "Data Analysis and Visualization was performed next and various insights regarding older adult falls were noted from the narrative column and several other columns like age, sex, disposition, e.t.c.\n",
    "\n",
    "The data was then passed through 3 unsupervised machine learning models; NeuralLDA, FLSAW, and XYZ model.\n",
    "\n",
    "- Model 1 (NeuralLDA): The NeuralLDA is a variation of the traditional LDA (Latent Dirichlet Allocation) which uses AVITM (Autoencoded Variational Inference For Topic Mode) which uses AEVB (Autoencoding variational Bayes) inference technique. The approach used in this stage was to build an OCTIS (hyperlink) optimizer which performed hyperparameter tuning on the dataset to return the best number of topics describing the narrative column.\n",
    "A NeuralLDA model was then built with the suggested number of topics. The words in each topic were displayed and tests were performed to ascertain the efficiency of this model.\n",
    "\n",
    "- Model 2 (FLSAW): The FLSAW is a variation of FLSA (Fuzzy latent semantic analysis) but performs the analysis per word instead of the whole document. The FLSAW model was then built with the number of topics derived from hyperparameter tuning in the NeuralLDA stage. The words in each topic were displayed and tests were performed to ascertain the efficiency of this model.\n",
    "\n",
    "- Model 3 (XYZ):"
   ]
  },
  {
   "cell_type": "markdown",
   "id": "d8cb7f10",
   "metadata": {},
   "source": [
    " "
   ]
  },
  {
   "cell_type": "markdown",
   "id": "63f0dd4b",
   "metadata": {},
   "source": [
    "---"
   ]
  },
  {
   "cell_type": "markdown",
   "id": "a7526f85",
   "metadata": {},
   "source": [
    " "
   ]
  },
  {
   "cell_type": "markdown",
   "id": "9306cee6",
   "metadata": {},
   "source": [
    "## 3. Data Cleaning and Preprocessing"
   ]
  },
  {
   "cell_type": "markdown",
   "id": "947c1cfd",
   "metadata": {},
   "source": [
    "##### Import required modules"
   ]
  },
  {
   "cell_type": "code",
   "execution_count": 3,
   "id": "a519ed2f",
   "metadata": {},
   "outputs": [],
   "source": [
    "import numpy as np\n",
    "import pandas as pd\n",
    "\n",
    "import json\n",
    "\n",
    "import re\n",
    "from nltk.corpus import stopwords\n",
    "from nltk.stem import WordNetLemmatizer"
   ]
  },
  {
   "cell_type": "markdown",
   "id": "9fbbe070",
   "metadata": {},
   "source": [
    "##### Load the data"
   ]
  },
  {
   "cell_type": "code",
   "execution_count": 4,
   "id": "5c7bf6a0",
   "metadata": {},
   "outputs": [
    {
     "data": {
      "text/html": [
       "<div>\n",
       "<style scoped>\n",
       "    .dataframe tbody tr th:only-of-type {\n",
       "        vertical-align: middle;\n",
       "    }\n",
       "\n",
       "    .dataframe tbody tr th {\n",
       "        vertical-align: top;\n",
       "    }\n",
       "\n",
       "    .dataframe thead th {\n",
       "        text-align: right;\n",
       "    }\n",
       "</style>\n",
       "<table border=\"1\" class=\"dataframe\">\n",
       "  <thead>\n",
       "    <tr style=\"text-align: right;\">\n",
       "      <th></th>\n",
       "      <th>cpsc_case_number</th>\n",
       "      <th>narrative</th>\n",
       "      <th>treatment_date</th>\n",
       "      <th>age</th>\n",
       "      <th>sex</th>\n",
       "      <th>race</th>\n",
       "      <th>other_race</th>\n",
       "      <th>hispanic</th>\n",
       "      <th>diagnosis</th>\n",
       "      <th>other_diagnosis</th>\n",
       "      <th>...</th>\n",
       "      <th>body_part</th>\n",
       "      <th>body_part_2</th>\n",
       "      <th>disposition</th>\n",
       "      <th>location</th>\n",
       "      <th>fire_involvement</th>\n",
       "      <th>alcohol</th>\n",
       "      <th>drug</th>\n",
       "      <th>product_1</th>\n",
       "      <th>product_2</th>\n",
       "      <th>product_3</th>\n",
       "    </tr>\n",
       "  </thead>\n",
       "  <tbody>\n",
       "    <tr>\n",
       "      <th>0</th>\n",
       "      <td>190103269</td>\n",
       "      <td>94YOM FELL TO THE FLOOR AT THE NURSING HOME ON...</td>\n",
       "      <td>2019-01-01</td>\n",
       "      <td>94</td>\n",
       "      <td>1</td>\n",
       "      <td>0</td>\n",
       "      <td>NaN</td>\n",
       "      <td>0</td>\n",
       "      <td>62</td>\n",
       "      <td>NaN</td>\n",
       "      <td>...</td>\n",
       "      <td>75</td>\n",
       "      <td>NaN</td>\n",
       "      <td>4</td>\n",
       "      <td>5</td>\n",
       "      <td>0</td>\n",
       "      <td>0</td>\n",
       "      <td>0</td>\n",
       "      <td>1807</td>\n",
       "      <td>0</td>\n",
       "      <td>0</td>\n",
       "    </tr>\n",
       "    <tr>\n",
       "      <th>1</th>\n",
       "      <td>190103270</td>\n",
       "      <td>86YOM FELL IN THE SHOWER AT HOME AND SUSTAINED...</td>\n",
       "      <td>2019-01-01</td>\n",
       "      <td>86</td>\n",
       "      <td>1</td>\n",
       "      <td>0</td>\n",
       "      <td>NaN</td>\n",
       "      <td>0</td>\n",
       "      <td>62</td>\n",
       "      <td>NaN</td>\n",
       "      <td>...</td>\n",
       "      <td>75</td>\n",
       "      <td>NaN</td>\n",
       "      <td>4</td>\n",
       "      <td>1</td>\n",
       "      <td>0</td>\n",
       "      <td>0</td>\n",
       "      <td>0</td>\n",
       "      <td>611</td>\n",
       "      <td>0</td>\n",
       "      <td>0</td>\n",
       "    </tr>\n",
       "    <tr>\n",
       "      <th>2</th>\n",
       "      <td>190103273</td>\n",
       "      <td>87YOF WAS GETTING UP FROM THE COUCH AND FELL T...</td>\n",
       "      <td>2019-01-01</td>\n",
       "      <td>87</td>\n",
       "      <td>2</td>\n",
       "      <td>0</td>\n",
       "      <td>NaN</td>\n",
       "      <td>0</td>\n",
       "      <td>53</td>\n",
       "      <td>NaN</td>\n",
       "      <td>...</td>\n",
       "      <td>32</td>\n",
       "      <td>NaN</td>\n",
       "      <td>4</td>\n",
       "      <td>1</td>\n",
       "      <td>0</td>\n",
       "      <td>0</td>\n",
       "      <td>0</td>\n",
       "      <td>679</td>\n",
       "      <td>1807</td>\n",
       "      <td>0</td>\n",
       "    </tr>\n",
       "  </tbody>\n",
       "</table>\n",
       "<p>3 rows × 22 columns</p>\n",
       "</div>"
      ],
      "text/plain": [
       "   cpsc_case_number                                          narrative  \\\n",
       "0         190103269  94YOM FELL TO THE FLOOR AT THE NURSING HOME ON...   \n",
       "1         190103270  86YOM FELL IN THE SHOWER AT HOME AND SUSTAINED...   \n",
       "2         190103273  87YOF WAS GETTING UP FROM THE COUCH AND FELL T...   \n",
       "\n",
       "  treatment_date  age  sex  race other_race  hispanic  diagnosis  \\\n",
       "0     2019-01-01   94    1     0        NaN         0         62   \n",
       "1     2019-01-01   86    1     0        NaN         0         62   \n",
       "2     2019-01-01   87    2     0        NaN         0         53   \n",
       "\n",
       "  other_diagnosis  ...  body_part body_part_2  disposition  location  \\\n",
       "0             NaN  ...         75         NaN            4         5   \n",
       "1             NaN  ...         75         NaN            4         1   \n",
       "2             NaN  ...         32         NaN            4         1   \n",
       "\n",
       "   fire_involvement  alcohol  drug  product_1  product_2  product_3  \n",
       "0                 0        0     0       1807          0          0  \n",
       "1                 0        0     0        611          0          0  \n",
       "2                 0        0     0        679       1807          0  \n",
       "\n",
       "[3 rows x 22 columns]"
      ]
     },
     "execution_count": 4,
     "metadata": {},
     "output_type": "execute_result"
    }
   ],
   "source": [
    "data = pd.read_csv(\"Data/primary_data.csv\")\n",
    "\n",
    "#Display an overview of the data\n",
    "data.head(3)"
   ]
  },
  {
   "cell_type": "code",
   "execution_count": 5,
   "id": "3c291d8f",
   "metadata": {},
   "outputs": [
    {
     "name": "stdout",
     "output_type": "stream",
     "text": [
      "The data contains 115,128 rows and 22 columns\n"
     ]
    }
   ],
   "source": [
    "rows, columns = data.shape\n",
    "print(f'The data contains {rows:,} rows and {columns} columns')"
   ]
  },
  {
   "cell_type": "markdown",
   "id": "e894b969",
   "metadata": {},
   "source": [
    " "
   ]
  },
  {
   "cell_type": "markdown",
   "id": "f62863a9",
   "metadata": {},
   "source": [
    "##### Check and correct column data types"
   ]
  },
  {
   "cell_type": "code",
   "execution_count": 7,
   "id": "3ac540be",
   "metadata": {},
   "outputs": [
    {
     "name": "stdout",
     "output_type": "stream",
     "text": [
      "<class 'pandas.core.frame.DataFrame'>\n",
      "RangeIndex: 115128 entries, 0 to 115127\n",
      "Data columns (total 22 columns):\n",
      " #   Column             Non-Null Count   Dtype  \n",
      "---  ------             --------------   -----  \n",
      " 0   cpsc_case_number   115128 non-null  int64  \n",
      " 1   narrative          115128 non-null  object \n",
      " 2   treatment_date     115128 non-null  object \n",
      " 3   age                115128 non-null  int64  \n",
      " 4   sex                115128 non-null  int64  \n",
      " 5   race               115128 non-null  int64  \n",
      " 6   other_race         1022 non-null    object \n",
      " 7   hispanic           115128 non-null  int64  \n",
      " 8   diagnosis          115128 non-null  int64  \n",
      " 9   other_diagnosis    2522 non-null    object \n",
      " 10  diagnosis_2        43145 non-null   float64\n",
      " 11  other_diagnosis_2  4978 non-null    object \n",
      " 12  body_part          115128 non-null  int64  \n",
      " 13  body_part_2        43145 non-null   float64\n",
      " 14  disposition        115128 non-null  int64  \n",
      " 15  location           115128 non-null  int64  \n",
      " 16  fire_involvement   115128 non-null  int64  \n",
      " 17  alcohol            115128 non-null  int64  \n",
      " 18  drug               115128 non-null  int64  \n",
      " 19  product_1          115128 non-null  int64  \n",
      " 20  product_2          115128 non-null  int64  \n",
      " 21  product_3          115128 non-null  int64  \n",
      "dtypes: float64(2), int64(15), object(5)\n",
      "memory usage: 19.3+ MB\n"
     ]
    }
   ],
   "source": [
    "data.info()"
   ]
  },
  {
   "cell_type": "code",
   "execution_count": 8,
   "id": "6404bd2e",
   "metadata": {},
   "outputs": [],
   "source": [
    "#Get columns that can be null\n",
    "columns_null_possibility = data.dtypes[data.dtypes == 'float64'].index\n",
    "\n",
    "#Set columns that can be null to nullable ints\n",
    "data[columns_null_possibility] = data[columns_null_possibility].astype('Int64')\n",
    "\n",
    "#Convert the treatment date to a datetime column\n",
    "data['treatment_date'] = pd.to_datetime(data['treatment_date'])"
   ]
  },
  {
   "cell_type": "code",
   "execution_count": 9,
   "id": "df2dac8b",
   "metadata": {},
   "outputs": [
    {
     "name": "stdout",
     "output_type": "stream",
     "text": [
      "<class 'pandas.core.frame.DataFrame'>\n",
      "RangeIndex: 115128 entries, 0 to 115127\n",
      "Data columns (total 22 columns):\n",
      " #   Column             Non-Null Count   Dtype         \n",
      "---  ------             --------------   -----         \n",
      " 0   cpsc_case_number   115128 non-null  int64         \n",
      " 1   narrative          115128 non-null  object        \n",
      " 2   treatment_date     115128 non-null  datetime64[ns]\n",
      " 3   age                115128 non-null  int64         \n",
      " 4   sex                115128 non-null  int64         \n",
      " 5   race               115128 non-null  int64         \n",
      " 6   other_race         1022 non-null    object        \n",
      " 7   hispanic           115128 non-null  int64         \n",
      " 8   diagnosis          115128 non-null  int64         \n",
      " 9   other_diagnosis    2522 non-null    object        \n",
      " 10  diagnosis_2        43145 non-null   Int64         \n",
      " 11  other_diagnosis_2  4978 non-null    object        \n",
      " 12  body_part          115128 non-null  int64         \n",
      " 13  body_part_2        43145 non-null   Int64         \n",
      " 14  disposition        115128 non-null  int64         \n",
      " 15  location           115128 non-null  int64         \n",
      " 16  fire_involvement   115128 non-null  int64         \n",
      " 17  alcohol            115128 non-null  int64         \n",
      " 18  drug               115128 non-null  int64         \n",
      " 19  product_1          115128 non-null  int64         \n",
      " 20  product_2          115128 non-null  int64         \n",
      " 21  product_3          115128 non-null  int64         \n",
      "dtypes: Int64(2), datetime64[ns](1), int64(15), object(4)\n",
      "memory usage: 19.5+ MB\n"
     ]
    }
   ],
   "source": [
    "#The column data types after changes\n",
    "data.info()"
   ]
  },
  {
   "cell_type": "markdown",
   "id": "8951c03c",
   "metadata": {},
   "source": [
    "##### Check for null values"
   ]
  },
  {
   "cell_type": "code",
   "execution_count": 10,
   "id": "ae6587e2",
   "metadata": {
    "scrolled": true
   },
   "outputs": [
    {
     "data": {
      "text/plain": [
       "other_race           114106\n",
       "other_diagnosis      112606\n",
       "diagnosis_2           71983\n",
       "other_diagnosis_2    110150\n",
       "body_part_2           71983\n",
       "dtype: int64"
      ]
     },
     "execution_count": 10,
     "metadata": {},
     "output_type": "execute_result"
    }
   ],
   "source": [
    "#Only display columns with null values\n",
    "null = data.isnull().sum()\n",
    "\n",
    "null[null != 0]"
   ]
  },
  {
   "cell_type": "markdown",
   "id": "2b0da11e",
   "metadata": {},
   "source": [
    "There are null values present, but only occur in fields that are optional. So, they can be left without having to perform any operation on them"
   ]
  },
  {
   "cell_type": "markdown",
   "id": "d20164cc",
   "metadata": {},
   "source": [
    " "
   ]
  },
  {
   "cell_type": "markdown",
   "id": "59d8fa37",
   "metadata": {},
   "source": [
    "##### Check for duplicates"
   ]
  },
  {
   "cell_type": "code",
   "execution_count": 11,
   "id": "f0503a3f",
   "metadata": {},
   "outputs": [
    {
     "data": {
      "text/plain": [
       "0"
      ]
     },
     "execution_count": 11,
     "metadata": {},
     "output_type": "execute_result"
    }
   ],
   "source": [
    "data.duplicated().sum()"
   ]
  },
  {
   "cell_type": "markdown",
   "id": "45be0ea4",
   "metadata": {},
   "source": [
    "This shows there are no duplicate values for each person-event pairings.   \n",
    "Though, a person can have more than one record due to different fall events, but will result in different case numbers; thereby each recorded fall remains unique."
   ]
  },
  {
   "cell_type": "markdown",
   "id": "68166812",
   "metadata": {},
   "source": [
    " "
   ]
  },
  {
   "cell_type": "markdown",
   "id": "1f7eccbb",
   "metadata": {},
   "source": [
    "##### Variable Mapping\n",
    "\n",
    "From the data, it shows that some columns like sex, race, e.t.c. have numeric values which can be decoded to their respective strings.   \n",
    "The data is redisplayed below for easier reference"
   ]
  },
  {
   "cell_type": "code",
   "execution_count": 12,
   "id": "859ae1b9",
   "metadata": {},
   "outputs": [
    {
     "data": {
      "text/html": [
       "<div>\n",
       "<style scoped>\n",
       "    .dataframe tbody tr th:only-of-type {\n",
       "        vertical-align: middle;\n",
       "    }\n",
       "\n",
       "    .dataframe tbody tr th {\n",
       "        vertical-align: top;\n",
       "    }\n",
       "\n",
       "    .dataframe thead th {\n",
       "        text-align: right;\n",
       "    }\n",
       "</style>\n",
       "<table border=\"1\" class=\"dataframe\">\n",
       "  <thead>\n",
       "    <tr style=\"text-align: right;\">\n",
       "      <th></th>\n",
       "      <th>cpsc_case_number</th>\n",
       "      <th>narrative</th>\n",
       "      <th>treatment_date</th>\n",
       "      <th>age</th>\n",
       "      <th>sex</th>\n",
       "      <th>race</th>\n",
       "      <th>other_race</th>\n",
       "      <th>hispanic</th>\n",
       "      <th>diagnosis</th>\n",
       "      <th>other_diagnosis</th>\n",
       "      <th>...</th>\n",
       "      <th>body_part</th>\n",
       "      <th>body_part_2</th>\n",
       "      <th>disposition</th>\n",
       "      <th>location</th>\n",
       "      <th>fire_involvement</th>\n",
       "      <th>alcohol</th>\n",
       "      <th>drug</th>\n",
       "      <th>product_1</th>\n",
       "      <th>product_2</th>\n",
       "      <th>product_3</th>\n",
       "    </tr>\n",
       "  </thead>\n",
       "  <tbody>\n",
       "    <tr>\n",
       "      <th>0</th>\n",
       "      <td>190103269</td>\n",
       "      <td>94YOM FELL TO THE FLOOR AT THE NURSING HOME ON...</td>\n",
       "      <td>2019-01-01</td>\n",
       "      <td>94</td>\n",
       "      <td>1</td>\n",
       "      <td>0</td>\n",
       "      <td>NaN</td>\n",
       "      <td>0</td>\n",
       "      <td>62</td>\n",
       "      <td>NaN</td>\n",
       "      <td>...</td>\n",
       "      <td>75</td>\n",
       "      <td>&lt;NA&gt;</td>\n",
       "      <td>4</td>\n",
       "      <td>5</td>\n",
       "      <td>0</td>\n",
       "      <td>0</td>\n",
       "      <td>0</td>\n",
       "      <td>1807</td>\n",
       "      <td>0</td>\n",
       "      <td>0</td>\n",
       "    </tr>\n",
       "    <tr>\n",
       "      <th>1</th>\n",
       "      <td>190103270</td>\n",
       "      <td>86YOM FELL IN THE SHOWER AT HOME AND SUSTAINED...</td>\n",
       "      <td>2019-01-01</td>\n",
       "      <td>86</td>\n",
       "      <td>1</td>\n",
       "      <td>0</td>\n",
       "      <td>NaN</td>\n",
       "      <td>0</td>\n",
       "      <td>62</td>\n",
       "      <td>NaN</td>\n",
       "      <td>...</td>\n",
       "      <td>75</td>\n",
       "      <td>&lt;NA&gt;</td>\n",
       "      <td>4</td>\n",
       "      <td>1</td>\n",
       "      <td>0</td>\n",
       "      <td>0</td>\n",
       "      <td>0</td>\n",
       "      <td>611</td>\n",
       "      <td>0</td>\n",
       "      <td>0</td>\n",
       "    </tr>\n",
       "    <tr>\n",
       "      <th>2</th>\n",
       "      <td>190103273</td>\n",
       "      <td>87YOF WAS GETTING UP FROM THE COUCH AND FELL T...</td>\n",
       "      <td>2019-01-01</td>\n",
       "      <td>87</td>\n",
       "      <td>2</td>\n",
       "      <td>0</td>\n",
       "      <td>NaN</td>\n",
       "      <td>0</td>\n",
       "      <td>53</td>\n",
       "      <td>NaN</td>\n",
       "      <td>...</td>\n",
       "      <td>32</td>\n",
       "      <td>&lt;NA&gt;</td>\n",
       "      <td>4</td>\n",
       "      <td>1</td>\n",
       "      <td>0</td>\n",
       "      <td>0</td>\n",
       "      <td>0</td>\n",
       "      <td>679</td>\n",
       "      <td>1807</td>\n",
       "      <td>0</td>\n",
       "    </tr>\n",
       "  </tbody>\n",
       "</table>\n",
       "<p>3 rows × 22 columns</p>\n",
       "</div>"
      ],
      "text/plain": [
       "   cpsc_case_number                                          narrative  \\\n",
       "0         190103269  94YOM FELL TO THE FLOOR AT THE NURSING HOME ON...   \n",
       "1         190103270  86YOM FELL IN THE SHOWER AT HOME AND SUSTAINED...   \n",
       "2         190103273  87YOF WAS GETTING UP FROM THE COUCH AND FELL T...   \n",
       "\n",
       "  treatment_date  age  sex  race other_race  hispanic  diagnosis  \\\n",
       "0     2019-01-01   94    1     0        NaN         0         62   \n",
       "1     2019-01-01   86    1     0        NaN         0         62   \n",
       "2     2019-01-01   87    2     0        NaN         0         53   \n",
       "\n",
       "  other_diagnosis  ...  body_part body_part_2  disposition  location  \\\n",
       "0             NaN  ...         75        <NA>            4         5   \n",
       "1             NaN  ...         75        <NA>            4         1   \n",
       "2             NaN  ...         32        <NA>            4         1   \n",
       "\n",
       "   fire_involvement  alcohol  drug  product_1  product_2  product_3  \n",
       "0                 0        0     0       1807          0          0  \n",
       "1                 0        0     0        611          0          0  \n",
       "2                 0        0     0        679       1807          0  \n",
       "\n",
       "[3 rows x 22 columns]"
      ]
     },
     "execution_count": 12,
     "metadata": {},
     "output_type": "execute_result"
    }
   ],
   "source": [
    "data.head(3)"
   ]
  },
  {
   "cell_type": "code",
   "execution_count": 13,
   "id": "287623e9",
   "metadata": {},
   "outputs": [],
   "source": [
    "#Load the variable mapping file\n",
    "with open('data/variable_mapping.json', 'r') as f:\n",
    "    mapping = json.load(f, parse_int=True)"
   ]
  },
  {
   "cell_type": "code",
   "execution_count": 14,
   "id": "f7f7e0f7",
   "metadata": {
    "scrolled": true
   },
   "outputs": [
    {
     "name": "stdout",
     "output_type": "stream",
     "text": [
      "{'sex': {'0': 'UNKNOWN', '1': 'MALE', '2': 'FEMALE', '3': 'NON-BINARY/OTHER'}}\n",
      "{'race': {'0': 'N.S.', '1': 'WHITE', '2': 'BLACK/AFRICAN AMERICAN', '3': 'OTHER', '4': 'ASIAN', '5': 'AMERICAN INDIAN/ALASKA NATIVE', '6': 'NATIVE HAWAIIAN/PACIFIC ISLANDER'}}\n",
      "{'hispanic': {'0': 'Unk/Not stated', '1': 'Yes', '2': 'No'}}\n",
      "{'alcohol': {'0': 'No/Unk', '1': 'Yes'}}\n",
      "{'drug': {'0': 'No/Unk', '1': 'Yes'}}\n",
      "{'body_part': {'0': '0 - INTERNAL', '30': '30 - SHOULDER', '31': '31 - UPPER TRUNK', '32': '32 - ELBOW', '33': '33 - LOWER ARM', '34': '34 - WRIST', '35': '35 - KNEE', '36': '36 - LOWER LEG', '37': '37 - ANKLE', '38': '38 - PUBIC REGION'}}\n",
      "{'body_part_2': {'0': '0 - INTERNAL', '30': '30 - SHOULDER', '31': '31 - UPPER TRUNK', '32': '32 - ELBOW', '33': '33 - LOWER ARM', '34': '34 - WRIST', '35': '35 - KNEE', '36': '36 - LOWER LEG', '37': '37 - ANKLE', '38': '38 - PUBIC REGION'}}\n",
      "{'diagnosis': {'41': '41 - INGESTION', '42': '42 - ASPIRATION', '46': '46 - BURN, ELECTRICAL', '47': '47 - BURN, NOT SPEC.', '48': '48 - BURN, SCALD', '49': '49 - BURN, CHEMICAL', '50': '50 - AMPUTATION', '51': '51 - BURNS, THERMAL', '52': '52 - CONCUSSION', '53': '53 - CONTUSIONS, ABR.'}}\n",
      "{'diagnosis_2': {'41': '41 - INGESTION', '42': '42 - ASPIRATION', '46': '46 - BURN, ELECTRICAL', '47': '47 - BURN, NOT SPEC.', '48': '48 - BURN, SCALD', '49': '49 - BURN, CHEMICAL', '50': '50 - AMPUTATION', '51': '51 - BURNS, THERMAL', '52': '52 - CONCUSSION', '53': '53 - CONTUSIONS, ABR.'}}\n",
      "{'disposition': {'0': '0 - NO INJURY', '1': '1 - TREATED/EXAMINED AND RELEASED', '2': '2 - TREATED AND TRANSFERRED', '4': '4 - TREATED AND ADMITTED/HOSPITALIZED', '5': '5 - HELD FOR OBSERVATION', '6': '6 - LEFT WITHOUT BEING SEEN', '8': '8 - FATALITY INCL. DOA, DIED IN ER', '9': '9 - UNKNOWN, NOT STATED'}}\n",
      "{'location': {'0': 'UNK', '1': 'HOME', '2': 'FARM', '3': 'APART.', '4': 'STREET', '5': 'PUBLIC', '6': 'MOBILE', '7': 'INDST.', '8': 'SCHOOL', '9': 'SPORTS'}}\n",
      "{'fire_involvement': {'0': 'NO/?', '1': 'FD', '2': 'NO FD', '3': '? FD', '4': 'MV'}}\n",
      "{'product_1': {'101': '101 - WASHING MACHINES WITHOUT WRINGERS OR OTHER DRYERS', '102': '102 - WRINGER WASHING MACHINES', '103': '103 - WASHING MACHINES WITH UNHEATED SPIN DRYERS', '106': '106 - ELECTRIC CLOTHES DRYERS WITHOUT WASHERS', '107': '107 - GAS CLOTHES DRYERS WITHOUT WASHERS', '108': '108 - MANGLE IRONS', '110': '110 - ELECTRIC HEATING PADS', '112': '112 - SEWING MACHINES OR ACCESSORIES', '113': '113 - FLOOR BUFFERS OR WAXERS', '114': '114 - RUG SHAMPOOERS'}}\n",
      "{'product_2': {'101': '101 - WASHING MACHINES WITHOUT WRINGERS OR OTHER DRYERS', '102': '102 - WRINGER WASHING MACHINES', '103': '103 - WASHING MACHINES WITH UNHEATED SPIN DRYERS', '106': '106 - ELECTRIC CLOTHES DRYERS WITHOUT WASHERS', '107': '107 - GAS CLOTHES DRYERS WITHOUT WASHERS', '108': '108 - MANGLE IRONS', '110': '110 - ELECTRIC HEATING PADS', '112': '112 - SEWING MACHINES OR ACCESSORIES', '113': '113 - FLOOR BUFFERS OR WAXERS', '114': '114 - RUG SHAMPOOERS'}}\n",
      "{'product_3': {'101': '101 - WASHING MACHINES WITHOUT WRINGERS OR OTHER DRYERS', '102': '102 - WRINGER WASHING MACHINES', '103': '103 - WASHING MACHINES WITH UNHEATED SPIN DRYERS', '106': '106 - ELECTRIC CLOTHES DRYERS WITHOUT WASHERS', '107': '107 - GAS CLOTHES DRYERS WITHOUT WASHERS', '108': '108 - MANGLE IRONS', '110': '110 - ELECTRIC HEATING PADS', '112': '112 - SEWING MACHINES OR ACCESSORIES', '113': '113 - FLOOR BUFFERS OR WAXERS', '114': '114 - RUG SHAMPOOERS'}}\n"
     ]
    }
   ],
   "source": [
    "#Overview of the variable mapping file, just showing first 10 values of each sub-dictionary\n",
    "for key in mapping:\n",
    "    sub_dict = mapping[key]\n",
    "    \n",
    "    print({key: {sub_key: sub_dict[sub_key] for sub_key in list(sub_dict)[:10]}})"
   ]
  },
  {
   "cell_type": "markdown",
   "id": "30812d79",
   "metadata": {},
   "source": [
    "Make corrections to the decoded variables where necessary"
   ]
  },
  {
   "cell_type": "code",
   "execution_count": 15,
   "id": "36275a95",
   "metadata": {},
   "outputs": [],
   "source": [
    "#Convert the encoded values in the mapping to integers since they get read in as strings\n",
    "#such as '0' to 0\n",
    "for c in mapping.keys():\n",
    "    mapping[c] = {int(k): v for k, v in mapping[c].items()}\n",
    "    \n",
    "#Update the \"N.S.\" in race to \"Not Stated\"\n",
    "mapping['race'][0] = 'Not Stated'\n",
    "\n",
    "#Update \"Unk\" term in the hispanic key to \"Unknown/Not stated\"\n",
    "mapping['hispanic'][0] = 'Unknown/Not Stated'\n",
    "\n",
    "#Update \"No/Unk\" in the alcohol, drug and location keys to \"No/Unknown\"\n",
    "mapping['alcohol'][0] = 'No/Unknown'\n",
    "mapping['drug'][0] = 'No/Unknown'\n",
    "\n",
    "#Update \"UNK\" in the lcoation key to \"UNKNOWN\"\n",
    "mapping['location'][0] = 'UNKNOWN'\n",
    "\n",
    "#Update the fire_involvement keys\n",
    "fire_updates = ['NO/UNKNOWN', 'FIRE DEPARTMENT', 'NO FIRE DEPARTMENT', 'UNKNOWN FIRE DEPARTMENT', 'MOTOR VEHICLE']\n",
    "for key, update in enumerate(fire_updates):\n",
    "    mapping['fire_involvement'][key] = update"
   ]
  },
  {
   "cell_type": "code",
   "execution_count": 16,
   "id": "66055f42",
   "metadata": {
    "scrolled": true
   },
   "outputs": [
    {
     "name": "stdout",
     "output_type": "stream",
     "text": [
      "{'sex': {0: 'UNKNOWN', 1: 'MALE', 2: 'FEMALE', 3: 'NON-BINARY/OTHER'}}\n",
      "{'race': {0: 'Not Stated', 1: 'WHITE', 2: 'BLACK/AFRICAN AMERICAN', 3: 'OTHER', 4: 'ASIAN', 5: 'AMERICAN INDIAN/ALASKA NATIVE', 6: 'NATIVE HAWAIIAN/PACIFIC ISLANDER'}}\n",
      "{'hispanic': {0: 'Unknown/Not Stated', 1: 'Yes', 2: 'No'}}\n",
      "{'alcohol': {0: 'No/Unknown', 1: 'Yes'}}\n",
      "{'drug': {0: 'No/Unknown', 1: 'Yes'}}\n",
      "{'body_part': {0: '0 - INTERNAL', 30: '30 - SHOULDER', 31: '31 - UPPER TRUNK', 32: '32 - ELBOW', 33: '33 - LOWER ARM', 34: '34 - WRIST', 35: '35 - KNEE', 36: '36 - LOWER LEG', 37: '37 - ANKLE', 38: '38 - PUBIC REGION'}}\n",
      "{'body_part_2': {0: '0 - INTERNAL', 30: '30 - SHOULDER', 31: '31 - UPPER TRUNK', 32: '32 - ELBOW', 33: '33 - LOWER ARM', 34: '34 - WRIST', 35: '35 - KNEE', 36: '36 - LOWER LEG', 37: '37 - ANKLE', 38: '38 - PUBIC REGION'}}\n",
      "{'diagnosis': {41: '41 - INGESTION', 42: '42 - ASPIRATION', 46: '46 - BURN, ELECTRICAL', 47: '47 - BURN, NOT SPEC.', 48: '48 - BURN, SCALD', 49: '49 - BURN, CHEMICAL', 50: '50 - AMPUTATION', 51: '51 - BURNS, THERMAL', 52: '52 - CONCUSSION', 53: '53 - CONTUSIONS, ABR.'}}\n",
      "{'diagnosis_2': {41: '41 - INGESTION', 42: '42 - ASPIRATION', 46: '46 - BURN, ELECTRICAL', 47: '47 - BURN, NOT SPEC.', 48: '48 - BURN, SCALD', 49: '49 - BURN, CHEMICAL', 50: '50 - AMPUTATION', 51: '51 - BURNS, THERMAL', 52: '52 - CONCUSSION', 53: '53 - CONTUSIONS, ABR.'}}\n",
      "{'disposition': {0: '0 - NO INJURY', 1: '1 - TREATED/EXAMINED AND RELEASED', 2: '2 - TREATED AND TRANSFERRED', 4: '4 - TREATED AND ADMITTED/HOSPITALIZED', 5: '5 - HELD FOR OBSERVATION', 6: '6 - LEFT WITHOUT BEING SEEN', 8: '8 - FATALITY INCL. DOA, DIED IN ER', 9: '9 - UNKNOWN, NOT STATED'}}\n",
      "{'location': {0: 'UNKNOWN', 1: 'HOME', 2: 'FARM', 3: 'APART.', 4: 'STREET', 5: 'PUBLIC', 6: 'MOBILE', 7: 'INDST.', 8: 'SCHOOL', 9: 'SPORTS'}}\n",
      "{'fire_involvement': {0: 'NO/UNKNOWN', 1: 'FIRE DEPARTMENT', 2: 'NO FIRE DEPARTMENT', 3: 'UNKNOWN FIRE DEPARTMENT', 4: 'MOTOR VEHICLE'}}\n",
      "{'product_1': {101: '101 - WASHING MACHINES WITHOUT WRINGERS OR OTHER DRYERS', 102: '102 - WRINGER WASHING MACHINES', 103: '103 - WASHING MACHINES WITH UNHEATED SPIN DRYERS', 106: '106 - ELECTRIC CLOTHES DRYERS WITHOUT WASHERS', 107: '107 - GAS CLOTHES DRYERS WITHOUT WASHERS', 108: '108 - MANGLE IRONS', 110: '110 - ELECTRIC HEATING PADS', 112: '112 - SEWING MACHINES OR ACCESSORIES', 113: '113 - FLOOR BUFFERS OR WAXERS', 114: '114 - RUG SHAMPOOERS'}}\n",
      "{'product_2': {101: '101 - WASHING MACHINES WITHOUT WRINGERS OR OTHER DRYERS', 102: '102 - WRINGER WASHING MACHINES', 103: '103 - WASHING MACHINES WITH UNHEATED SPIN DRYERS', 106: '106 - ELECTRIC CLOTHES DRYERS WITHOUT WASHERS', 107: '107 - GAS CLOTHES DRYERS WITHOUT WASHERS', 108: '108 - MANGLE IRONS', 110: '110 - ELECTRIC HEATING PADS', 112: '112 - SEWING MACHINES OR ACCESSORIES', 113: '113 - FLOOR BUFFERS OR WAXERS', 114: '114 - RUG SHAMPOOERS'}}\n",
      "{'product_3': {101: '101 - WASHING MACHINES WITHOUT WRINGERS OR OTHER DRYERS', 102: '102 - WRINGER WASHING MACHINES', 103: '103 - WASHING MACHINES WITH UNHEATED SPIN DRYERS', 106: '106 - ELECTRIC CLOTHES DRYERS WITHOUT WASHERS', 107: '107 - GAS CLOTHES DRYERS WITHOUT WASHERS', 108: '108 - MANGLE IRONS', 110: '110 - ELECTRIC HEATING PADS', 112: '112 - SEWING MACHINES OR ACCESSORIES', 113: '113 - FLOOR BUFFERS OR WAXERS', 114: '114 - RUG SHAMPOOERS'}}\n"
     ]
    }
   ],
   "source": [
    "#Overview of the variable mapping file after the updates (still showing first 10 values of each sub-dictionary)\n",
    "for key in mapping:\n",
    "    sub_dict = mapping[key]\n",
    "    \n",
    "    print({key: {sub_key: sub_dict[sub_key] for sub_key in list(sub_dict)[:10]}})"
   ]
  },
  {
   "cell_type": "markdown",
   "id": "96e6b044",
   "metadata": {},
   "source": [
    "Map the keys to a copy of the dataframe"
   ]
  },
  {
   "cell_type": "code",
   "execution_count": 17,
   "id": "5506b6eb",
   "metadata": {},
   "outputs": [],
   "source": [
    "decoded_data = data.copy()\n",
    "\n",
    "#Map the keys to the new dataframe\n",
    "for col in mapping.keys():\n",
    "    decoded_data[col] = decoded_data[col].map(mapping[col])\n",
    "    \n",
    "#Ensure mappings were applied correctly by checking that the number of missing values did not change\n",
    "assert (decoded_data.isnull().sum() == data.isnull().sum()).all()"
   ]
  },
  {
   "cell_type": "code",
   "execution_count": 18,
   "id": "969d1fca",
   "metadata": {},
   "outputs": [
    {
     "data": {
      "text/html": [
       "<div>\n",
       "<style scoped>\n",
       "    .dataframe tbody tr th:only-of-type {\n",
       "        vertical-align: middle;\n",
       "    }\n",
       "\n",
       "    .dataframe tbody tr th {\n",
       "        vertical-align: top;\n",
       "    }\n",
       "\n",
       "    .dataframe thead th {\n",
       "        text-align: right;\n",
       "    }\n",
       "</style>\n",
       "<table border=\"1\" class=\"dataframe\">\n",
       "  <thead>\n",
       "    <tr style=\"text-align: right;\">\n",
       "      <th></th>\n",
       "      <th>cpsc_case_number</th>\n",
       "      <th>narrative</th>\n",
       "      <th>treatment_date</th>\n",
       "      <th>age</th>\n",
       "      <th>sex</th>\n",
       "      <th>race</th>\n",
       "      <th>other_race</th>\n",
       "      <th>hispanic</th>\n",
       "      <th>diagnosis</th>\n",
       "      <th>other_diagnosis</th>\n",
       "      <th>...</th>\n",
       "      <th>body_part</th>\n",
       "      <th>body_part_2</th>\n",
       "      <th>disposition</th>\n",
       "      <th>location</th>\n",
       "      <th>fire_involvement</th>\n",
       "      <th>alcohol</th>\n",
       "      <th>drug</th>\n",
       "      <th>product_1</th>\n",
       "      <th>product_2</th>\n",
       "      <th>product_3</th>\n",
       "    </tr>\n",
       "  </thead>\n",
       "  <tbody>\n",
       "    <tr>\n",
       "      <th>0</th>\n",
       "      <td>190103269</td>\n",
       "      <td>94YOM FELL TO THE FLOOR AT THE NURSING HOME ON...</td>\n",
       "      <td>2019-01-01</td>\n",
       "      <td>94</td>\n",
       "      <td>MALE</td>\n",
       "      <td>Not Stated</td>\n",
       "      <td>NaN</td>\n",
       "      <td>Unknown/Not Stated</td>\n",
       "      <td>62 - INTERNAL INJURY</td>\n",
       "      <td>NaN</td>\n",
       "      <td>...</td>\n",
       "      <td>75 - HEAD</td>\n",
       "      <td>NaN</td>\n",
       "      <td>4 - TREATED AND ADMITTED/HOSPITALIZED</td>\n",
       "      <td>PUBLIC</td>\n",
       "      <td>NO/UNKNOWN</td>\n",
       "      <td>No/Unknown</td>\n",
       "      <td>No/Unknown</td>\n",
       "      <td>1807 - FLOORS OR FLOORING MATERIALS</td>\n",
       "      <td>0 - None</td>\n",
       "      <td>0 - None</td>\n",
       "    </tr>\n",
       "    <tr>\n",
       "      <th>1</th>\n",
       "      <td>190103270</td>\n",
       "      <td>86YOM FELL IN THE SHOWER AT HOME AND SUSTAINED...</td>\n",
       "      <td>2019-01-01</td>\n",
       "      <td>86</td>\n",
       "      <td>MALE</td>\n",
       "      <td>Not Stated</td>\n",
       "      <td>NaN</td>\n",
       "      <td>Unknown/Not Stated</td>\n",
       "      <td>62 - INTERNAL INJURY</td>\n",
       "      <td>NaN</td>\n",
       "      <td>...</td>\n",
       "      <td>75 - HEAD</td>\n",
       "      <td>NaN</td>\n",
       "      <td>4 - TREATED AND ADMITTED/HOSPITALIZED</td>\n",
       "      <td>HOME</td>\n",
       "      <td>NO/UNKNOWN</td>\n",
       "      <td>No/Unknown</td>\n",
       "      <td>No/Unknown</td>\n",
       "      <td>611 - BATHTUBS OR SHOWERS</td>\n",
       "      <td>0 - None</td>\n",
       "      <td>0 - None</td>\n",
       "    </tr>\n",
       "    <tr>\n",
       "      <th>2</th>\n",
       "      <td>190103273</td>\n",
       "      <td>87YOF WAS GETTING UP FROM THE COUCH AND FELL T...</td>\n",
       "      <td>2019-01-01</td>\n",
       "      <td>87</td>\n",
       "      <td>FEMALE</td>\n",
       "      <td>Not Stated</td>\n",
       "      <td>NaN</td>\n",
       "      <td>Unknown/Not Stated</td>\n",
       "      <td>53 - CONTUSIONS, ABR.</td>\n",
       "      <td>NaN</td>\n",
       "      <td>...</td>\n",
       "      <td>32 - ELBOW</td>\n",
       "      <td>NaN</td>\n",
       "      <td>4 - TREATED AND ADMITTED/HOSPITALIZED</td>\n",
       "      <td>HOME</td>\n",
       "      <td>NO/UNKNOWN</td>\n",
       "      <td>No/Unknown</td>\n",
       "      <td>No/Unknown</td>\n",
       "      <td>679 - SOFAS, COUCHES, DAVENPORTS, DIVANS OR ST...</td>\n",
       "      <td>1807 - FLOORS OR FLOORING MATERIALS</td>\n",
       "      <td>0 - None</td>\n",
       "    </tr>\n",
       "  </tbody>\n",
       "</table>\n",
       "<p>3 rows × 22 columns</p>\n",
       "</div>"
      ],
      "text/plain": [
       "   cpsc_case_number                                          narrative  \\\n",
       "0         190103269  94YOM FELL TO THE FLOOR AT THE NURSING HOME ON...   \n",
       "1         190103270  86YOM FELL IN THE SHOWER AT HOME AND SUSTAINED...   \n",
       "2         190103273  87YOF WAS GETTING UP FROM THE COUCH AND FELL T...   \n",
       "\n",
       "  treatment_date  age     sex        race other_race            hispanic  \\\n",
       "0     2019-01-01   94    MALE  Not Stated        NaN  Unknown/Not Stated   \n",
       "1     2019-01-01   86    MALE  Not Stated        NaN  Unknown/Not Stated   \n",
       "2     2019-01-01   87  FEMALE  Not Stated        NaN  Unknown/Not Stated   \n",
       "\n",
       "               diagnosis other_diagnosis  ...   body_part body_part_2  \\\n",
       "0   62 - INTERNAL INJURY             NaN  ...   75 - HEAD         NaN   \n",
       "1   62 - INTERNAL INJURY             NaN  ...   75 - HEAD         NaN   \n",
       "2  53 - CONTUSIONS, ABR.             NaN  ...  32 - ELBOW         NaN   \n",
       "\n",
       "                             disposition location fire_involvement  \\\n",
       "0  4 - TREATED AND ADMITTED/HOSPITALIZED   PUBLIC       NO/UNKNOWN   \n",
       "1  4 - TREATED AND ADMITTED/HOSPITALIZED     HOME       NO/UNKNOWN   \n",
       "2  4 - TREATED AND ADMITTED/HOSPITALIZED     HOME       NO/UNKNOWN   \n",
       "\n",
       "      alcohol        drug                                          product_1  \\\n",
       "0  No/Unknown  No/Unknown                1807 - FLOORS OR FLOORING MATERIALS   \n",
       "1  No/Unknown  No/Unknown                          611 - BATHTUBS OR SHOWERS   \n",
       "2  No/Unknown  No/Unknown  679 - SOFAS, COUCHES, DAVENPORTS, DIVANS OR ST...   \n",
       "\n",
       "                             product_2 product_3  \n",
       "0                             0 - None  0 - None  \n",
       "1                             0 - None  0 - None  \n",
       "2  1807 - FLOORS OR FLOORING MATERIALS  0 - None  \n",
       "\n",
       "[3 rows x 22 columns]"
      ]
     },
     "execution_count": 18,
     "metadata": {},
     "output_type": "execute_result"
    }
   ],
   "source": [
    "#An overview of the new dataset with decoded values\n",
    "decoded_data.head(3)"
   ]
  },
  {
   "cell_type": "markdown",
   "id": "42528c33",
   "metadata": {},
   "source": [
    " "
   ]
  },
  {
   "cell_type": "markdown",
   "id": "4e26e5c9",
   "metadata": {},
   "source": [
    "##### Data Preprocessing 1...\n",
    "\n",
    "The narrative column can be cleaned to remove any character that isn't a word or a space, afterwards remove words that are considered stop words, replace extra spaces with just a space, while converting the texts to lower case."
   ]
  },
  {
   "cell_type": "code",
   "execution_count": 19,
   "id": "a111ee8b",
   "metadata": {},
   "outputs": [],
   "source": [
    "#Make a copy of the original narrative column to a new column in case of future reference\n",
    "decoded_data['narrative_original'] = decoded_data['narrative'].copy()\n",
    "\n",
    "\n",
    "#Remove any character that isn't a word or a space and convert to lower case\n",
    "decoded_data['narrative'] = decoded_data['narrative'].str.lower().str.replace(r'[^\\w\\s]',' ', regex = True)\n",
    "\n",
    "#Remove stop words\n",
    "stop_words = set(stopwords.words('english'))\n",
    "decoded_data['narrative'] = decoded_data['narrative'].apply(lambda texts: ' '.join([word for word in texts.split() if word not in stop_words]))\n",
    "\n",
    "#Remove any single character\n",
    "decoded_data['narrative'] = decoded_data['narrative'].str.replace(r'\\b\\w\\b', ' ', regex = True)\n",
    "\n",
    "#Replace more than one occurence of spaces to just a space and also remove spaces from the beginning and end of the texts\n",
    "decoded_data['narrative'] = decoded_data['narrative'].str.replace(r'\\s{2,}', ' ', regex = True).str.strip()"
   ]
  },
  {
   "cell_type": "code",
   "execution_count": 20,
   "id": "1fde86e9",
   "metadata": {},
   "outputs": [
    {
     "data": {
      "text/html": [
       "<div>\n",
       "<style scoped>\n",
       "    .dataframe tbody tr th:only-of-type {\n",
       "        vertical-align: middle;\n",
       "    }\n",
       "\n",
       "    .dataframe tbody tr th {\n",
       "        vertical-align: top;\n",
       "    }\n",
       "\n",
       "    .dataframe thead th {\n",
       "        text-align: right;\n",
       "    }\n",
       "</style>\n",
       "<table border=\"1\" class=\"dataframe\">\n",
       "  <thead>\n",
       "    <tr style=\"text-align: right;\">\n",
       "      <th></th>\n",
       "      <th>cpsc_case_number</th>\n",
       "      <th>narrative</th>\n",
       "      <th>treatment_date</th>\n",
       "      <th>age</th>\n",
       "      <th>sex</th>\n",
       "      <th>race</th>\n",
       "      <th>other_race</th>\n",
       "      <th>hispanic</th>\n",
       "      <th>diagnosis</th>\n",
       "      <th>other_diagnosis</th>\n",
       "      <th>...</th>\n",
       "      <th>body_part_2</th>\n",
       "      <th>disposition</th>\n",
       "      <th>location</th>\n",
       "      <th>fire_involvement</th>\n",
       "      <th>alcohol</th>\n",
       "      <th>drug</th>\n",
       "      <th>product_1</th>\n",
       "      <th>product_2</th>\n",
       "      <th>product_3</th>\n",
       "      <th>narrative_original</th>\n",
       "    </tr>\n",
       "  </thead>\n",
       "  <tbody>\n",
       "    <tr>\n",
       "      <th>0</th>\n",
       "      <td>190103269</td>\n",
       "      <td>94yom fell floor nursing home onto back head s...</td>\n",
       "      <td>2019-01-01</td>\n",
       "      <td>94</td>\n",
       "      <td>MALE</td>\n",
       "      <td>Not Stated</td>\n",
       "      <td>NaN</td>\n",
       "      <td>Unknown/Not Stated</td>\n",
       "      <td>62 - INTERNAL INJURY</td>\n",
       "      <td>NaN</td>\n",
       "      <td>...</td>\n",
       "      <td>NaN</td>\n",
       "      <td>4 - TREATED AND ADMITTED/HOSPITALIZED</td>\n",
       "      <td>PUBLIC</td>\n",
       "      <td>NO/UNKNOWN</td>\n",
       "      <td>No/Unknown</td>\n",
       "      <td>No/Unknown</td>\n",
       "      <td>1807 - FLOORS OR FLOORING MATERIALS</td>\n",
       "      <td>0 - None</td>\n",
       "      <td>0 - None</td>\n",
       "      <td>94YOM FELL TO THE FLOOR AT THE NURSING HOME ON...</td>\n",
       "    </tr>\n",
       "    <tr>\n",
       "      <th>1</th>\n",
       "      <td>190103270</td>\n",
       "      <td>86yom fell shower home sustained closed head i...</td>\n",
       "      <td>2019-01-01</td>\n",
       "      <td>86</td>\n",
       "      <td>MALE</td>\n",
       "      <td>Not Stated</td>\n",
       "      <td>NaN</td>\n",
       "      <td>Unknown/Not Stated</td>\n",
       "      <td>62 - INTERNAL INJURY</td>\n",
       "      <td>NaN</td>\n",
       "      <td>...</td>\n",
       "      <td>NaN</td>\n",
       "      <td>4 - TREATED AND ADMITTED/HOSPITALIZED</td>\n",
       "      <td>HOME</td>\n",
       "      <td>NO/UNKNOWN</td>\n",
       "      <td>No/Unknown</td>\n",
       "      <td>No/Unknown</td>\n",
       "      <td>611 - BATHTUBS OR SHOWERS</td>\n",
       "      <td>0 - None</td>\n",
       "      <td>0 - None</td>\n",
       "      <td>86YOM FELL IN THE SHOWER AT HOME AND SUSTAINED...</td>\n",
       "    </tr>\n",
       "    <tr>\n",
       "      <th>2</th>\n",
       "      <td>190103273</td>\n",
       "      <td>87yof getting couch fell floor sustained abras...</td>\n",
       "      <td>2019-01-01</td>\n",
       "      <td>87</td>\n",
       "      <td>FEMALE</td>\n",
       "      <td>Not Stated</td>\n",
       "      <td>NaN</td>\n",
       "      <td>Unknown/Not Stated</td>\n",
       "      <td>53 - CONTUSIONS, ABR.</td>\n",
       "      <td>NaN</td>\n",
       "      <td>...</td>\n",
       "      <td>NaN</td>\n",
       "      <td>4 - TREATED AND ADMITTED/HOSPITALIZED</td>\n",
       "      <td>HOME</td>\n",
       "      <td>NO/UNKNOWN</td>\n",
       "      <td>No/Unknown</td>\n",
       "      <td>No/Unknown</td>\n",
       "      <td>679 - SOFAS, COUCHES, DAVENPORTS, DIVANS OR ST...</td>\n",
       "      <td>1807 - FLOORS OR FLOORING MATERIALS</td>\n",
       "      <td>0 - None</td>\n",
       "      <td>87YOF WAS GETTING UP FROM THE COUCH AND FELL T...</td>\n",
       "    </tr>\n",
       "  </tbody>\n",
       "</table>\n",
       "<p>3 rows × 23 columns</p>\n",
       "</div>"
      ],
      "text/plain": [
       "   cpsc_case_number                                          narrative  \\\n",
       "0         190103269  94yom fell floor nursing home onto back head s...   \n",
       "1         190103270  86yom fell shower home sustained closed head i...   \n",
       "2         190103273  87yof getting couch fell floor sustained abras...   \n",
       "\n",
       "  treatment_date  age     sex        race other_race            hispanic  \\\n",
       "0     2019-01-01   94    MALE  Not Stated        NaN  Unknown/Not Stated   \n",
       "1     2019-01-01   86    MALE  Not Stated        NaN  Unknown/Not Stated   \n",
       "2     2019-01-01   87  FEMALE  Not Stated        NaN  Unknown/Not Stated   \n",
       "\n",
       "               diagnosis other_diagnosis  ... body_part_2  \\\n",
       "0   62 - INTERNAL INJURY             NaN  ...         NaN   \n",
       "1   62 - INTERNAL INJURY             NaN  ...         NaN   \n",
       "2  53 - CONTUSIONS, ABR.             NaN  ...         NaN   \n",
       "\n",
       "                             disposition location fire_involvement  \\\n",
       "0  4 - TREATED AND ADMITTED/HOSPITALIZED   PUBLIC       NO/UNKNOWN   \n",
       "1  4 - TREATED AND ADMITTED/HOSPITALIZED     HOME       NO/UNKNOWN   \n",
       "2  4 - TREATED AND ADMITTED/HOSPITALIZED     HOME       NO/UNKNOWN   \n",
       "\n",
       "      alcohol        drug                                          product_1  \\\n",
       "0  No/Unknown  No/Unknown                1807 - FLOORS OR FLOORING MATERIALS   \n",
       "1  No/Unknown  No/Unknown                          611 - BATHTUBS OR SHOWERS   \n",
       "2  No/Unknown  No/Unknown  679 - SOFAS, COUCHES, DAVENPORTS, DIVANS OR ST...   \n",
       "\n",
       "                             product_2 product_3  \\\n",
       "0                             0 - None  0 - None   \n",
       "1                             0 - None  0 - None   \n",
       "2  1807 - FLOORS OR FLOORING MATERIALS  0 - None   \n",
       "\n",
       "                                  narrative_original  \n",
       "0  94YOM FELL TO THE FLOOR AT THE NURSING HOME ON...  \n",
       "1  86YOM FELL IN THE SHOWER AT HOME AND SUSTAINED...  \n",
       "2  87YOF WAS GETTING UP FROM THE COUCH AND FELL T...  \n",
       "\n",
       "[3 rows x 23 columns]"
      ]
     },
     "execution_count": 20,
     "metadata": {},
     "output_type": "execute_result"
    }
   ],
   "source": [
    "#An overview of the dataset after recent changes\n",
    "decoded_data.head(3)"
   ]
  },
  {
   "cell_type": "markdown",
   "id": "af987b80",
   "metadata": {},
   "source": [
    " "
   ]
  },
  {
   "cell_type": "markdown",
   "id": "aa901f86",
   "metadata": {},
   "source": [
    "##### Data Preprocessing 2...\n",
    "\n",
    "From the recently decoded data above, the narrative column contains some redundancies, which are the age and sex which already exist in other columns.    \n",
    "An example is \"94YOM FELL...\"\n",
    "\n",
    "Removing these redundancies by removing any pattern similar to \"94 yom\" or \"94yom\" or \"94ym\" or \"94yo m\" or a scenario like \"94yowm\""
   ]
  },
  {
   "cell_type": "code",
   "execution_count": 21,
   "id": "3b0f045a",
   "metadata": {},
   "outputs": [],
   "source": [
    "#Remove the redundancies\n",
    "decoded_data['narrative'] = decoded_data['narrative'].str.replace(r'\\d+\\s*yo*\\s*\\w\\w*\\s', '', regex = True)"
   ]
  },
  {
   "cell_type": "code",
   "execution_count": 22,
   "id": "c691d0cc",
   "metadata": {},
   "outputs": [
    {
     "data": {
      "text/html": [
       "<div>\n",
       "<style scoped>\n",
       "    .dataframe tbody tr th:only-of-type {\n",
       "        vertical-align: middle;\n",
       "    }\n",
       "\n",
       "    .dataframe tbody tr th {\n",
       "        vertical-align: top;\n",
       "    }\n",
       "\n",
       "    .dataframe thead th {\n",
       "        text-align: right;\n",
       "    }\n",
       "</style>\n",
       "<table border=\"1\" class=\"dataframe\">\n",
       "  <thead>\n",
       "    <tr style=\"text-align: right;\">\n",
       "      <th></th>\n",
       "      <th>cpsc_case_number</th>\n",
       "      <th>narrative</th>\n",
       "      <th>treatment_date</th>\n",
       "      <th>age</th>\n",
       "      <th>sex</th>\n",
       "      <th>race</th>\n",
       "      <th>other_race</th>\n",
       "      <th>hispanic</th>\n",
       "      <th>diagnosis</th>\n",
       "      <th>other_diagnosis</th>\n",
       "      <th>...</th>\n",
       "      <th>body_part_2</th>\n",
       "      <th>disposition</th>\n",
       "      <th>location</th>\n",
       "      <th>fire_involvement</th>\n",
       "      <th>alcohol</th>\n",
       "      <th>drug</th>\n",
       "      <th>product_1</th>\n",
       "      <th>product_2</th>\n",
       "      <th>product_3</th>\n",
       "      <th>narrative_original</th>\n",
       "    </tr>\n",
       "  </thead>\n",
       "  <tbody>\n",
       "    <tr>\n",
       "      <th>0</th>\n",
       "      <td>190103269</td>\n",
       "      <td>fell floor nursing home onto back head sustain...</td>\n",
       "      <td>2019-01-01</td>\n",
       "      <td>94</td>\n",
       "      <td>MALE</td>\n",
       "      <td>Not Stated</td>\n",
       "      <td>NaN</td>\n",
       "      <td>Unknown/Not Stated</td>\n",
       "      <td>62 - INTERNAL INJURY</td>\n",
       "      <td>NaN</td>\n",
       "      <td>...</td>\n",
       "      <td>NaN</td>\n",
       "      <td>4 - TREATED AND ADMITTED/HOSPITALIZED</td>\n",
       "      <td>PUBLIC</td>\n",
       "      <td>NO/UNKNOWN</td>\n",
       "      <td>No/Unknown</td>\n",
       "      <td>No/Unknown</td>\n",
       "      <td>1807 - FLOORS OR FLOORING MATERIALS</td>\n",
       "      <td>0 - None</td>\n",
       "      <td>0 - None</td>\n",
       "      <td>94YOM FELL TO THE FLOOR AT THE NURSING HOME ON...</td>\n",
       "    </tr>\n",
       "    <tr>\n",
       "      <th>1</th>\n",
       "      <td>190103270</td>\n",
       "      <td>fell shower home sustained closed head injury</td>\n",
       "      <td>2019-01-01</td>\n",
       "      <td>86</td>\n",
       "      <td>MALE</td>\n",
       "      <td>Not Stated</td>\n",
       "      <td>NaN</td>\n",
       "      <td>Unknown/Not Stated</td>\n",
       "      <td>62 - INTERNAL INJURY</td>\n",
       "      <td>NaN</td>\n",
       "      <td>...</td>\n",
       "      <td>NaN</td>\n",
       "      <td>4 - TREATED AND ADMITTED/HOSPITALIZED</td>\n",
       "      <td>HOME</td>\n",
       "      <td>NO/UNKNOWN</td>\n",
       "      <td>No/Unknown</td>\n",
       "      <td>No/Unknown</td>\n",
       "      <td>611 - BATHTUBS OR SHOWERS</td>\n",
       "      <td>0 - None</td>\n",
       "      <td>0 - None</td>\n",
       "      <td>86YOM FELL IN THE SHOWER AT HOME AND SUSTAINED...</td>\n",
       "    </tr>\n",
       "    <tr>\n",
       "      <th>2</th>\n",
       "      <td>190103273</td>\n",
       "      <td>getting couch fell floor sustained abrasions e...</td>\n",
       "      <td>2019-01-01</td>\n",
       "      <td>87</td>\n",
       "      <td>FEMALE</td>\n",
       "      <td>Not Stated</td>\n",
       "      <td>NaN</td>\n",
       "      <td>Unknown/Not Stated</td>\n",
       "      <td>53 - CONTUSIONS, ABR.</td>\n",
       "      <td>NaN</td>\n",
       "      <td>...</td>\n",
       "      <td>NaN</td>\n",
       "      <td>4 - TREATED AND ADMITTED/HOSPITALIZED</td>\n",
       "      <td>HOME</td>\n",
       "      <td>NO/UNKNOWN</td>\n",
       "      <td>No/Unknown</td>\n",
       "      <td>No/Unknown</td>\n",
       "      <td>679 - SOFAS, COUCHES, DAVENPORTS, DIVANS OR ST...</td>\n",
       "      <td>1807 - FLOORS OR FLOORING MATERIALS</td>\n",
       "      <td>0 - None</td>\n",
       "      <td>87YOF WAS GETTING UP FROM THE COUCH AND FELL T...</td>\n",
       "    </tr>\n",
       "  </tbody>\n",
       "</table>\n",
       "<p>3 rows × 23 columns</p>\n",
       "</div>"
      ],
      "text/plain": [
       "   cpsc_case_number                                          narrative  \\\n",
       "0         190103269  fell floor nursing home onto back head sustain...   \n",
       "1         190103270      fell shower home sustained closed head injury   \n",
       "2         190103273  getting couch fell floor sustained abrasions e...   \n",
       "\n",
       "  treatment_date  age     sex        race other_race            hispanic  \\\n",
       "0     2019-01-01   94    MALE  Not Stated        NaN  Unknown/Not Stated   \n",
       "1     2019-01-01   86    MALE  Not Stated        NaN  Unknown/Not Stated   \n",
       "2     2019-01-01   87  FEMALE  Not Stated        NaN  Unknown/Not Stated   \n",
       "\n",
       "               diagnosis other_diagnosis  ... body_part_2  \\\n",
       "0   62 - INTERNAL INJURY             NaN  ...         NaN   \n",
       "1   62 - INTERNAL INJURY             NaN  ...         NaN   \n",
       "2  53 - CONTUSIONS, ABR.             NaN  ...         NaN   \n",
       "\n",
       "                             disposition location fire_involvement  \\\n",
       "0  4 - TREATED AND ADMITTED/HOSPITALIZED   PUBLIC       NO/UNKNOWN   \n",
       "1  4 - TREATED AND ADMITTED/HOSPITALIZED     HOME       NO/UNKNOWN   \n",
       "2  4 - TREATED AND ADMITTED/HOSPITALIZED     HOME       NO/UNKNOWN   \n",
       "\n",
       "      alcohol        drug                                          product_1  \\\n",
       "0  No/Unknown  No/Unknown                1807 - FLOORS OR FLOORING MATERIALS   \n",
       "1  No/Unknown  No/Unknown                          611 - BATHTUBS OR SHOWERS   \n",
       "2  No/Unknown  No/Unknown  679 - SOFAS, COUCHES, DAVENPORTS, DIVANS OR ST...   \n",
       "\n",
       "                             product_2 product_3  \\\n",
       "0                             0 - None  0 - None   \n",
       "1                             0 - None  0 - None   \n",
       "2  1807 - FLOORS OR FLOORING MATERIALS  0 - None   \n",
       "\n",
       "                                  narrative_original  \n",
       "0  94YOM FELL TO THE FLOOR AT THE NURSING HOME ON...  \n",
       "1  86YOM FELL IN THE SHOWER AT HOME AND SUSTAINED...  \n",
       "2  87YOF WAS GETTING UP FROM THE COUCH AND FELL T...  \n",
       "\n",
       "[3 rows x 23 columns]"
      ]
     },
     "execution_count": 22,
     "metadata": {},
     "output_type": "execute_result"
    }
   ],
   "source": [
    "#An overview of the dataset after recent changes\n",
    "decoded_data.head(3)"
   ]
  },
  {
   "cell_type": "markdown",
   "id": "aed805a2",
   "metadata": {},
   "source": [
    " "
   ]
  },
  {
   "cell_type": "markdown",
   "id": "c5ebb4bc",
   "metadata": {},
   "source": [
    "##### Data Preprocessing 3...\n",
    "To have uniform narratives, each word in all narratives are converted to their base form using lemmatization"
   ]
  },
  {
   "cell_type": "code",
   "execution_count": 23,
   "id": "936d95c4",
   "metadata": {},
   "outputs": [],
   "source": [
    "#Write a function to handle the lemmatization\n",
    "lemmatizer = WordNetLemmatizer()\n",
    "\n",
    "def convert_to_base(sentence):\n",
    "    splitted_sentence = sentence.split()\n",
    "    \n",
    "    #A verb lemmatizer is used since the circumstances surrounding falls are potentially more verb-like\n",
    "    sentence_base_form = ' '.join([lemmatizer.lemmatize(word, pos = 'v') for word in splitted_sentence])\n",
    "    \n",
    "    return sentence_base_form"
   ]
  },
  {
   "cell_type": "markdown",
   "id": "af928241",
   "metadata": {},
   "source": [
    "Apply the lemmatization function to each narrative"
   ]
  },
  {
   "cell_type": "code",
   "execution_count": 24,
   "id": "f58322d4",
   "metadata": {},
   "outputs": [],
   "source": [
    "decoded_data['narrative'] = decoded_data['narrative'].apply(lambda sentence: convert_to_base(sentence))"
   ]
  },
  {
   "cell_type": "code",
   "execution_count": 25,
   "id": "3a36dddd",
   "metadata": {},
   "outputs": [
    {
     "data": {
      "text/html": [
       "<div>\n",
       "<style scoped>\n",
       "    .dataframe tbody tr th:only-of-type {\n",
       "        vertical-align: middle;\n",
       "    }\n",
       "\n",
       "    .dataframe tbody tr th {\n",
       "        vertical-align: top;\n",
       "    }\n",
       "\n",
       "    .dataframe thead th {\n",
       "        text-align: right;\n",
       "    }\n",
       "</style>\n",
       "<table border=\"1\" class=\"dataframe\">\n",
       "  <thead>\n",
       "    <tr style=\"text-align: right;\">\n",
       "      <th></th>\n",
       "      <th>cpsc_case_number</th>\n",
       "      <th>narrative</th>\n",
       "      <th>treatment_date</th>\n",
       "      <th>age</th>\n",
       "      <th>sex</th>\n",
       "      <th>race</th>\n",
       "      <th>other_race</th>\n",
       "      <th>hispanic</th>\n",
       "      <th>diagnosis</th>\n",
       "      <th>other_diagnosis</th>\n",
       "      <th>...</th>\n",
       "      <th>body_part_2</th>\n",
       "      <th>disposition</th>\n",
       "      <th>location</th>\n",
       "      <th>fire_involvement</th>\n",
       "      <th>alcohol</th>\n",
       "      <th>drug</th>\n",
       "      <th>product_1</th>\n",
       "      <th>product_2</th>\n",
       "      <th>product_3</th>\n",
       "      <th>narrative_original</th>\n",
       "    </tr>\n",
       "  </thead>\n",
       "  <tbody>\n",
       "    <tr>\n",
       "      <th>0</th>\n",
       "      <td>190103269</td>\n",
       "      <td>fell floor nurse home onto back head sustain s...</td>\n",
       "      <td>2019-01-01</td>\n",
       "      <td>94</td>\n",
       "      <td>MALE</td>\n",
       "      <td>Not Stated</td>\n",
       "      <td>NaN</td>\n",
       "      <td>Unknown/Not Stated</td>\n",
       "      <td>62 - INTERNAL INJURY</td>\n",
       "      <td>NaN</td>\n",
       "      <td>...</td>\n",
       "      <td>NaN</td>\n",
       "      <td>4 - TREATED AND ADMITTED/HOSPITALIZED</td>\n",
       "      <td>PUBLIC</td>\n",
       "      <td>NO/UNKNOWN</td>\n",
       "      <td>No/Unknown</td>\n",
       "      <td>No/Unknown</td>\n",
       "      <td>1807 - FLOORS OR FLOORING MATERIALS</td>\n",
       "      <td>0 - None</td>\n",
       "      <td>0 - None</td>\n",
       "      <td>94YOM FELL TO THE FLOOR AT THE NURSING HOME ON...</td>\n",
       "    </tr>\n",
       "    <tr>\n",
       "      <th>1</th>\n",
       "      <td>190103270</td>\n",
       "      <td>fell shower home sustain close head injury</td>\n",
       "      <td>2019-01-01</td>\n",
       "      <td>86</td>\n",
       "      <td>MALE</td>\n",
       "      <td>Not Stated</td>\n",
       "      <td>NaN</td>\n",
       "      <td>Unknown/Not Stated</td>\n",
       "      <td>62 - INTERNAL INJURY</td>\n",
       "      <td>NaN</td>\n",
       "      <td>...</td>\n",
       "      <td>NaN</td>\n",
       "      <td>4 - TREATED AND ADMITTED/HOSPITALIZED</td>\n",
       "      <td>HOME</td>\n",
       "      <td>NO/UNKNOWN</td>\n",
       "      <td>No/Unknown</td>\n",
       "      <td>No/Unknown</td>\n",
       "      <td>611 - BATHTUBS OR SHOWERS</td>\n",
       "      <td>0 - None</td>\n",
       "      <td>0 - None</td>\n",
       "      <td>86YOM FELL IN THE SHOWER AT HOME AND SUSTAINED...</td>\n",
       "    </tr>\n",
       "    <tr>\n",
       "      <th>2</th>\n",
       "      <td>190103273</td>\n",
       "      <td>get couch fell floor sustain abrasions elbow a...</td>\n",
       "      <td>2019-01-01</td>\n",
       "      <td>87</td>\n",
       "      <td>FEMALE</td>\n",
       "      <td>Not Stated</td>\n",
       "      <td>NaN</td>\n",
       "      <td>Unknown/Not Stated</td>\n",
       "      <td>53 - CONTUSIONS, ABR.</td>\n",
       "      <td>NaN</td>\n",
       "      <td>...</td>\n",
       "      <td>NaN</td>\n",
       "      <td>4 - TREATED AND ADMITTED/HOSPITALIZED</td>\n",
       "      <td>HOME</td>\n",
       "      <td>NO/UNKNOWN</td>\n",
       "      <td>No/Unknown</td>\n",
       "      <td>No/Unknown</td>\n",
       "      <td>679 - SOFAS, COUCHES, DAVENPORTS, DIVANS OR ST...</td>\n",
       "      <td>1807 - FLOORS OR FLOORING MATERIALS</td>\n",
       "      <td>0 - None</td>\n",
       "      <td>87YOF WAS GETTING UP FROM THE COUCH AND FELL T...</td>\n",
       "    </tr>\n",
       "  </tbody>\n",
       "</table>\n",
       "<p>3 rows × 23 columns</p>\n",
       "</div>"
      ],
      "text/plain": [
       "   cpsc_case_number                                          narrative  \\\n",
       "0         190103269  fell floor nurse home onto back head sustain s...   \n",
       "1         190103270         fell shower home sustain close head injury   \n",
       "2         190103273  get couch fell floor sustain abrasions elbow a...   \n",
       "\n",
       "  treatment_date  age     sex        race other_race            hispanic  \\\n",
       "0     2019-01-01   94    MALE  Not Stated        NaN  Unknown/Not Stated   \n",
       "1     2019-01-01   86    MALE  Not Stated        NaN  Unknown/Not Stated   \n",
       "2     2019-01-01   87  FEMALE  Not Stated        NaN  Unknown/Not Stated   \n",
       "\n",
       "               diagnosis other_diagnosis  ... body_part_2  \\\n",
       "0   62 - INTERNAL INJURY             NaN  ...         NaN   \n",
       "1   62 - INTERNAL INJURY             NaN  ...         NaN   \n",
       "2  53 - CONTUSIONS, ABR.             NaN  ...         NaN   \n",
       "\n",
       "                             disposition location fire_involvement  \\\n",
       "0  4 - TREATED AND ADMITTED/HOSPITALIZED   PUBLIC       NO/UNKNOWN   \n",
       "1  4 - TREATED AND ADMITTED/HOSPITALIZED     HOME       NO/UNKNOWN   \n",
       "2  4 - TREATED AND ADMITTED/HOSPITALIZED     HOME       NO/UNKNOWN   \n",
       "\n",
       "      alcohol        drug                                          product_1  \\\n",
       "0  No/Unknown  No/Unknown                1807 - FLOORS OR FLOORING MATERIALS   \n",
       "1  No/Unknown  No/Unknown                          611 - BATHTUBS OR SHOWERS   \n",
       "2  No/Unknown  No/Unknown  679 - SOFAS, COUCHES, DAVENPORTS, DIVANS OR ST...   \n",
       "\n",
       "                             product_2 product_3  \\\n",
       "0                             0 - None  0 - None   \n",
       "1                             0 - None  0 - None   \n",
       "2  1807 - FLOORS OR FLOORING MATERIALS  0 - None   \n",
       "\n",
       "                                  narrative_original  \n",
       "0  94YOM FELL TO THE FLOOR AT THE NURSING HOME ON...  \n",
       "1  86YOM FELL IN THE SHOWER AT HOME AND SUSTAINED...  \n",
       "2  87YOF WAS GETTING UP FROM THE COUCH AND FELL T...  \n",
       "\n",
       "[3 rows x 23 columns]"
      ]
     },
     "execution_count": 25,
     "metadata": {},
     "output_type": "execute_result"
    }
   ],
   "source": [
    "#An overview of the dataset after recent changes\n",
    "decoded_data.head(3)"
   ]
  },
  {
   "cell_type": "markdown",
   "id": "3e588bf1",
   "metadata": {},
   "source": [
    " "
   ]
  },
  {
   "cell_type": "markdown",
   "id": "0b5c6bd1",
   "metadata": {},
   "source": [
    "##### Data Preprocessing 4...\n",
    "\n",
    "According the NEISS coding manual, a narrative should contain a diagnosis preceded by DX. Since, this reserch is to extract valuable insights that can help mitigate falls in the older adult population, we'll not be focusing on the diagnosis. This is because the diagnosis happens after a fall, not a circumstance before the fall.   \n",
    "\n",
    "Thus, the diagnosis stated in the narratives will be excluded, as it is also present as independent column (diagnosis columns).\n",
    "\n",
    "Upon closer inspection of the narrative column, some narratives do have the diagnosis following the word \"sustain\", while some, a word before and after \"fx\" meaning fracture (such as \"hip fx\", \"compression fx lower back\"). So, all these terms will be used as watchwords where any text after them will be removed"
   ]
  },
  {
   "cell_type": "code",
   "execution_count": 26,
   "id": "b364d647",
   "metadata": {},
   "outputs": [],
   "source": [
    "decoded_data['narrative'] = decoded_data['narrative'].apply(lambda x: re.sub(r'\\s*dx.*|\\s*sustain.*|\\s*\\w+\\s*fx.*', '', x))"
   ]
  },
  {
   "cell_type": "code",
   "execution_count": 27,
   "id": "f46503be",
   "metadata": {},
   "outputs": [
    {
     "data": {
      "text/html": [
       "<div>\n",
       "<style scoped>\n",
       "    .dataframe tbody tr th:only-of-type {\n",
       "        vertical-align: middle;\n",
       "    }\n",
       "\n",
       "    .dataframe tbody tr th {\n",
       "        vertical-align: top;\n",
       "    }\n",
       "\n",
       "    .dataframe thead th {\n",
       "        text-align: right;\n",
       "    }\n",
       "</style>\n",
       "<table border=\"1\" class=\"dataframe\">\n",
       "  <thead>\n",
       "    <tr style=\"text-align: right;\">\n",
       "      <th></th>\n",
       "      <th>cpsc_case_number</th>\n",
       "      <th>narrative</th>\n",
       "      <th>treatment_date</th>\n",
       "      <th>age</th>\n",
       "      <th>sex</th>\n",
       "      <th>race</th>\n",
       "      <th>other_race</th>\n",
       "      <th>hispanic</th>\n",
       "      <th>diagnosis</th>\n",
       "      <th>other_diagnosis</th>\n",
       "      <th>...</th>\n",
       "      <th>body_part_2</th>\n",
       "      <th>disposition</th>\n",
       "      <th>location</th>\n",
       "      <th>fire_involvement</th>\n",
       "      <th>alcohol</th>\n",
       "      <th>drug</th>\n",
       "      <th>product_1</th>\n",
       "      <th>product_2</th>\n",
       "      <th>product_3</th>\n",
       "      <th>narrative_original</th>\n",
       "    </tr>\n",
       "  </thead>\n",
       "  <tbody>\n",
       "    <tr>\n",
       "      <th>0</th>\n",
       "      <td>190103269</td>\n",
       "      <td>fell floor nurse home onto back head</td>\n",
       "      <td>2019-01-01</td>\n",
       "      <td>94</td>\n",
       "      <td>MALE</td>\n",
       "      <td>Not Stated</td>\n",
       "      <td>NaN</td>\n",
       "      <td>Unknown/Not Stated</td>\n",
       "      <td>62 - INTERNAL INJURY</td>\n",
       "      <td>NaN</td>\n",
       "      <td>...</td>\n",
       "      <td>NaN</td>\n",
       "      <td>4 - TREATED AND ADMITTED/HOSPITALIZED</td>\n",
       "      <td>PUBLIC</td>\n",
       "      <td>NO/UNKNOWN</td>\n",
       "      <td>No/Unknown</td>\n",
       "      <td>No/Unknown</td>\n",
       "      <td>1807 - FLOORS OR FLOORING MATERIALS</td>\n",
       "      <td>0 - None</td>\n",
       "      <td>0 - None</td>\n",
       "      <td>94YOM FELL TO THE FLOOR AT THE NURSING HOME ON...</td>\n",
       "    </tr>\n",
       "    <tr>\n",
       "      <th>1</th>\n",
       "      <td>190103270</td>\n",
       "      <td>fell shower home</td>\n",
       "      <td>2019-01-01</td>\n",
       "      <td>86</td>\n",
       "      <td>MALE</td>\n",
       "      <td>Not Stated</td>\n",
       "      <td>NaN</td>\n",
       "      <td>Unknown/Not Stated</td>\n",
       "      <td>62 - INTERNAL INJURY</td>\n",
       "      <td>NaN</td>\n",
       "      <td>...</td>\n",
       "      <td>NaN</td>\n",
       "      <td>4 - TREATED AND ADMITTED/HOSPITALIZED</td>\n",
       "      <td>HOME</td>\n",
       "      <td>NO/UNKNOWN</td>\n",
       "      <td>No/Unknown</td>\n",
       "      <td>No/Unknown</td>\n",
       "      <td>611 - BATHTUBS OR SHOWERS</td>\n",
       "      <td>0 - None</td>\n",
       "      <td>0 - None</td>\n",
       "      <td>86YOM FELL IN THE SHOWER AT HOME AND SUSTAINED...</td>\n",
       "    </tr>\n",
       "    <tr>\n",
       "      <th>2</th>\n",
       "      <td>190103273</td>\n",
       "      <td>get couch fell floor</td>\n",
       "      <td>2019-01-01</td>\n",
       "      <td>87</td>\n",
       "      <td>FEMALE</td>\n",
       "      <td>Not Stated</td>\n",
       "      <td>NaN</td>\n",
       "      <td>Unknown/Not Stated</td>\n",
       "      <td>53 - CONTUSIONS, ABR.</td>\n",
       "      <td>NaN</td>\n",
       "      <td>...</td>\n",
       "      <td>NaN</td>\n",
       "      <td>4 - TREATED AND ADMITTED/HOSPITALIZED</td>\n",
       "      <td>HOME</td>\n",
       "      <td>NO/UNKNOWN</td>\n",
       "      <td>No/Unknown</td>\n",
       "      <td>No/Unknown</td>\n",
       "      <td>679 - SOFAS, COUCHES, DAVENPORTS, DIVANS OR ST...</td>\n",
       "      <td>1807 - FLOORS OR FLOORING MATERIALS</td>\n",
       "      <td>0 - None</td>\n",
       "      <td>87YOF WAS GETTING UP FROM THE COUCH AND FELL T...</td>\n",
       "    </tr>\n",
       "    <tr>\n",
       "      <th>3</th>\n",
       "      <td>190103291</td>\n",
       "      <td>friends house slip water floor</td>\n",
       "      <td>2019-01-01</td>\n",
       "      <td>67</td>\n",
       "      <td>FEMALE</td>\n",
       "      <td>Not Stated</td>\n",
       "      <td>NaN</td>\n",
       "      <td>Unknown/Not Stated</td>\n",
       "      <td>57 - FRACTURE</td>\n",
       "      <td>NaN</td>\n",
       "      <td>...</td>\n",
       "      <td>NaN</td>\n",
       "      <td>1 - TREATED/EXAMINED AND RELEASED</td>\n",
       "      <td>HOME</td>\n",
       "      <td>NO/UNKNOWN</td>\n",
       "      <td>No/Unknown</td>\n",
       "      <td>No/Unknown</td>\n",
       "      <td>1807 - FLOORS OR FLOORING MATERIALS</td>\n",
       "      <td>0 - None</td>\n",
       "      <td>0 - None</td>\n",
       "      <td>67YOF WAS AT A FRIENDS HOUSE AND SLIPPED ON WA...</td>\n",
       "    </tr>\n",
       "    <tr>\n",
       "      <th>4</th>\n",
       "      <td>190103294</td>\n",
       "      <td>stand step stool fell</td>\n",
       "      <td>2019-01-01</td>\n",
       "      <td>70</td>\n",
       "      <td>FEMALE</td>\n",
       "      <td>Not Stated</td>\n",
       "      <td>NaN</td>\n",
       "      <td>Unknown/Not Stated</td>\n",
       "      <td>57 - FRACTURE</td>\n",
       "      <td>NaN</td>\n",
       "      <td>...</td>\n",
       "      <td>NaN</td>\n",
       "      <td>1 - TREATED/EXAMINED AND RELEASED</td>\n",
       "      <td>HOME</td>\n",
       "      <td>NO/UNKNOWN</td>\n",
       "      <td>No/Unknown</td>\n",
       "      <td>No/Unknown</td>\n",
       "      <td>620 - STEP STOOLS</td>\n",
       "      <td>0 - None</td>\n",
       "      <td>0 - None</td>\n",
       "      <td>70YOF WAS STANDING ON A STEP STOOL AND FELL OF...</td>\n",
       "    </tr>\n",
       "  </tbody>\n",
       "</table>\n",
       "<p>5 rows × 23 columns</p>\n",
       "</div>"
      ],
      "text/plain": [
       "   cpsc_case_number                             narrative treatment_date  age  \\\n",
       "0         190103269  fell floor nurse home onto back head     2019-01-01   94   \n",
       "1         190103270                      fell shower home     2019-01-01   86   \n",
       "2         190103273                  get couch fell floor     2019-01-01   87   \n",
       "3         190103291        friends house slip water floor     2019-01-01   67   \n",
       "4         190103294                 stand step stool fell     2019-01-01   70   \n",
       "\n",
       "      sex        race other_race            hispanic              diagnosis  \\\n",
       "0    MALE  Not Stated        NaN  Unknown/Not Stated   62 - INTERNAL INJURY   \n",
       "1    MALE  Not Stated        NaN  Unknown/Not Stated   62 - INTERNAL INJURY   \n",
       "2  FEMALE  Not Stated        NaN  Unknown/Not Stated  53 - CONTUSIONS, ABR.   \n",
       "3  FEMALE  Not Stated        NaN  Unknown/Not Stated          57 - FRACTURE   \n",
       "4  FEMALE  Not Stated        NaN  Unknown/Not Stated          57 - FRACTURE   \n",
       "\n",
       "  other_diagnosis  ... body_part_2                            disposition  \\\n",
       "0             NaN  ...         NaN  4 - TREATED AND ADMITTED/HOSPITALIZED   \n",
       "1             NaN  ...         NaN  4 - TREATED AND ADMITTED/HOSPITALIZED   \n",
       "2             NaN  ...         NaN  4 - TREATED AND ADMITTED/HOSPITALIZED   \n",
       "3             NaN  ...         NaN      1 - TREATED/EXAMINED AND RELEASED   \n",
       "4             NaN  ...         NaN      1 - TREATED/EXAMINED AND RELEASED   \n",
       "\n",
       "  location fire_involvement     alcohol        drug  \\\n",
       "0   PUBLIC       NO/UNKNOWN  No/Unknown  No/Unknown   \n",
       "1     HOME       NO/UNKNOWN  No/Unknown  No/Unknown   \n",
       "2     HOME       NO/UNKNOWN  No/Unknown  No/Unknown   \n",
       "3     HOME       NO/UNKNOWN  No/Unknown  No/Unknown   \n",
       "4     HOME       NO/UNKNOWN  No/Unknown  No/Unknown   \n",
       "\n",
       "                                           product_1  \\\n",
       "0                1807 - FLOORS OR FLOORING MATERIALS   \n",
       "1                          611 - BATHTUBS OR SHOWERS   \n",
       "2  679 - SOFAS, COUCHES, DAVENPORTS, DIVANS OR ST...   \n",
       "3                1807 - FLOORS OR FLOORING MATERIALS   \n",
       "4                                  620 - STEP STOOLS   \n",
       "\n",
       "                             product_2 product_3  \\\n",
       "0                             0 - None  0 - None   \n",
       "1                             0 - None  0 - None   \n",
       "2  1807 - FLOORS OR FLOORING MATERIALS  0 - None   \n",
       "3                             0 - None  0 - None   \n",
       "4                             0 - None  0 - None   \n",
       "\n",
       "                                  narrative_original  \n",
       "0  94YOM FELL TO THE FLOOR AT THE NURSING HOME ON...  \n",
       "1  86YOM FELL IN THE SHOWER AT HOME AND SUSTAINED...  \n",
       "2  87YOF WAS GETTING UP FROM THE COUCH AND FELL T...  \n",
       "3  67YOF WAS AT A FRIENDS HOUSE AND SLIPPED ON WA...  \n",
       "4  70YOF WAS STANDING ON A STEP STOOL AND FELL OF...  \n",
       "\n",
       "[5 rows x 23 columns]"
      ]
     },
     "execution_count": 27,
     "metadata": {},
     "output_type": "execute_result"
    }
   ],
   "source": [
    "#An overview of the dataset after recent changes\n",
    "decoded_data.head()"
   ]
  },
  {
   "cell_type": "markdown",
   "id": "f9a59151",
   "metadata": {},
   "source": [
    " "
   ]
  },
  {
   "cell_type": "markdown",
   "id": "3eb96b17",
   "metadata": {},
   "source": [
    "##### Data Preprocessing 5...\n",
    "\n",
    "From the displayed data above, some columns still have their encoded value present in their decoded value.   \n",
    "An example is \"62 - INTERNAL INJURY\" in the diagnosis column.\n",
    "\n",
    "Using the first data as a reference, one can derive the columns with such disparities."
   ]
  },
  {
   "cell_type": "code",
   "execution_count": 28,
   "id": "cc06ea06",
   "metadata": {},
   "outputs": [
    {
     "data": {
      "text/plain": [
       "diagnosis                       62 - INTERNAL INJURY\n",
       "body_part                                  75 - HEAD\n",
       "disposition    4 - TREATED AND ADMITTED/HOSPITALIZED\n",
       "product_1        1807 - FLOORS OR FLOORING MATERIALS\n",
       "product_2                                   0 - None\n",
       "product_3                                   0 - None\n",
       "Name: 0, dtype: object"
      ]
     },
     "execution_count": 28,
     "metadata": {},
     "output_type": "execute_result"
    }
   ],
   "source": [
    "first = decoded_data.iloc[0]\n",
    "\n",
    "#Only display columns that start with a pattern similar to \"62 - INTERNAL INJURY\"\n",
    "encoded_still_present = first[first.str.match(r'^\\d+\\s\\-\\s\\w+') == True]\n",
    "\n",
    "encoded_still_present"
   ]
  },
  {
   "cell_type": "markdown",
   "id": "6eb290b2",
   "metadata": {},
   "source": [
    "This pattern can be followed to remove redundancies like the digits and everything else leading up to the expected decoded value, in these columns\n"
   ]
  },
  {
   "cell_type": "code",
   "execution_count": 29,
   "id": "fdb8c8cf",
   "metadata": {},
   "outputs": [],
   "source": [
    "#Remove the redundancies for the observed columns\n",
    "for column in encoded_still_present.index:\n",
    "    decoded_data[column].replace(r'^\\d+\\s\\-\\s', '', regex = True, inplace = True)"
   ]
  },
  {
   "cell_type": "code",
   "execution_count": 30,
   "id": "f0b4e0dd",
   "metadata": {
    "scrolled": true
   },
   "outputs": [
    {
     "data": {
      "text/html": [
       "<div>\n",
       "<style scoped>\n",
       "    .dataframe tbody tr th:only-of-type {\n",
       "        vertical-align: middle;\n",
       "    }\n",
       "\n",
       "    .dataframe tbody tr th {\n",
       "        vertical-align: top;\n",
       "    }\n",
       "\n",
       "    .dataframe thead th {\n",
       "        text-align: right;\n",
       "    }\n",
       "</style>\n",
       "<table border=\"1\" class=\"dataframe\">\n",
       "  <thead>\n",
       "    <tr style=\"text-align: right;\">\n",
       "      <th></th>\n",
       "      <th>cpsc_case_number</th>\n",
       "      <th>narrative</th>\n",
       "      <th>treatment_date</th>\n",
       "      <th>age</th>\n",
       "      <th>sex</th>\n",
       "      <th>race</th>\n",
       "      <th>other_race</th>\n",
       "      <th>hispanic</th>\n",
       "      <th>diagnosis</th>\n",
       "      <th>other_diagnosis</th>\n",
       "      <th>...</th>\n",
       "      <th>body_part_2</th>\n",
       "      <th>disposition</th>\n",
       "      <th>location</th>\n",
       "      <th>fire_involvement</th>\n",
       "      <th>alcohol</th>\n",
       "      <th>drug</th>\n",
       "      <th>product_1</th>\n",
       "      <th>product_2</th>\n",
       "      <th>product_3</th>\n",
       "      <th>narrative_original</th>\n",
       "    </tr>\n",
       "  </thead>\n",
       "  <tbody>\n",
       "    <tr>\n",
       "      <th>0</th>\n",
       "      <td>190103269</td>\n",
       "      <td>fell floor nurse home onto back head</td>\n",
       "      <td>2019-01-01</td>\n",
       "      <td>94</td>\n",
       "      <td>MALE</td>\n",
       "      <td>Not Stated</td>\n",
       "      <td>NaN</td>\n",
       "      <td>Unknown/Not Stated</td>\n",
       "      <td>INTERNAL INJURY</td>\n",
       "      <td>NaN</td>\n",
       "      <td>...</td>\n",
       "      <td>NaN</td>\n",
       "      <td>TREATED AND ADMITTED/HOSPITALIZED</td>\n",
       "      <td>PUBLIC</td>\n",
       "      <td>NO/UNKNOWN</td>\n",
       "      <td>No/Unknown</td>\n",
       "      <td>No/Unknown</td>\n",
       "      <td>FLOORS OR FLOORING MATERIALS</td>\n",
       "      <td>None</td>\n",
       "      <td>None</td>\n",
       "      <td>94YOM FELL TO THE FLOOR AT THE NURSING HOME ON...</td>\n",
       "    </tr>\n",
       "    <tr>\n",
       "      <th>1</th>\n",
       "      <td>190103270</td>\n",
       "      <td>fell shower home</td>\n",
       "      <td>2019-01-01</td>\n",
       "      <td>86</td>\n",
       "      <td>MALE</td>\n",
       "      <td>Not Stated</td>\n",
       "      <td>NaN</td>\n",
       "      <td>Unknown/Not Stated</td>\n",
       "      <td>INTERNAL INJURY</td>\n",
       "      <td>NaN</td>\n",
       "      <td>...</td>\n",
       "      <td>NaN</td>\n",
       "      <td>TREATED AND ADMITTED/HOSPITALIZED</td>\n",
       "      <td>HOME</td>\n",
       "      <td>NO/UNKNOWN</td>\n",
       "      <td>No/Unknown</td>\n",
       "      <td>No/Unknown</td>\n",
       "      <td>BATHTUBS OR SHOWERS</td>\n",
       "      <td>None</td>\n",
       "      <td>None</td>\n",
       "      <td>86YOM FELL IN THE SHOWER AT HOME AND SUSTAINED...</td>\n",
       "    </tr>\n",
       "    <tr>\n",
       "      <th>2</th>\n",
       "      <td>190103273</td>\n",
       "      <td>get couch fell floor</td>\n",
       "      <td>2019-01-01</td>\n",
       "      <td>87</td>\n",
       "      <td>FEMALE</td>\n",
       "      <td>Not Stated</td>\n",
       "      <td>NaN</td>\n",
       "      <td>Unknown/Not Stated</td>\n",
       "      <td>CONTUSIONS, ABR.</td>\n",
       "      <td>NaN</td>\n",
       "      <td>...</td>\n",
       "      <td>NaN</td>\n",
       "      <td>TREATED AND ADMITTED/HOSPITALIZED</td>\n",
       "      <td>HOME</td>\n",
       "      <td>NO/UNKNOWN</td>\n",
       "      <td>No/Unknown</td>\n",
       "      <td>No/Unknown</td>\n",
       "      <td>SOFAS, COUCHES, DAVENPORTS, DIVANS OR STUDIO C...</td>\n",
       "      <td>FLOORS OR FLOORING MATERIALS</td>\n",
       "      <td>None</td>\n",
       "      <td>87YOF WAS GETTING UP FROM THE COUCH AND FELL T...</td>\n",
       "    </tr>\n",
       "  </tbody>\n",
       "</table>\n",
       "<p>3 rows × 23 columns</p>\n",
       "</div>"
      ],
      "text/plain": [
       "   cpsc_case_number                             narrative treatment_date  age  \\\n",
       "0         190103269  fell floor nurse home onto back head     2019-01-01   94   \n",
       "1         190103270                      fell shower home     2019-01-01   86   \n",
       "2         190103273                  get couch fell floor     2019-01-01   87   \n",
       "\n",
       "      sex        race other_race            hispanic         diagnosis  \\\n",
       "0    MALE  Not Stated        NaN  Unknown/Not Stated   INTERNAL INJURY   \n",
       "1    MALE  Not Stated        NaN  Unknown/Not Stated   INTERNAL INJURY   \n",
       "2  FEMALE  Not Stated        NaN  Unknown/Not Stated  CONTUSIONS, ABR.   \n",
       "\n",
       "  other_diagnosis  ... body_part_2                        disposition  \\\n",
       "0             NaN  ...         NaN  TREATED AND ADMITTED/HOSPITALIZED   \n",
       "1             NaN  ...         NaN  TREATED AND ADMITTED/HOSPITALIZED   \n",
       "2             NaN  ...         NaN  TREATED AND ADMITTED/HOSPITALIZED   \n",
       "\n",
       "  location fire_involvement     alcohol        drug  \\\n",
       "0   PUBLIC       NO/UNKNOWN  No/Unknown  No/Unknown   \n",
       "1     HOME       NO/UNKNOWN  No/Unknown  No/Unknown   \n",
       "2     HOME       NO/UNKNOWN  No/Unknown  No/Unknown   \n",
       "\n",
       "                                           product_1  \\\n",
       "0                       FLOORS OR FLOORING MATERIALS   \n",
       "1                                BATHTUBS OR SHOWERS   \n",
       "2  SOFAS, COUCHES, DAVENPORTS, DIVANS OR STUDIO C...   \n",
       "\n",
       "                      product_2 product_3  \\\n",
       "0                          None      None   \n",
       "1                          None      None   \n",
       "2  FLOORS OR FLOORING MATERIALS      None   \n",
       "\n",
       "                                  narrative_original  \n",
       "0  94YOM FELL TO THE FLOOR AT THE NURSING HOME ON...  \n",
       "1  86YOM FELL IN THE SHOWER AT HOME AND SUSTAINED...  \n",
       "2  87YOF WAS GETTING UP FROM THE COUCH AND FELL T...  \n",
       "\n",
       "[3 rows x 23 columns]"
      ]
     },
     "execution_count": 30,
     "metadata": {},
     "output_type": "execute_result"
    }
   ],
   "source": [
    "#An overview of the dataset after changes\n",
    "decoded_data.head(3)"
   ]
  },
  {
   "cell_type": "markdown",
   "id": "88c624f2",
   "metadata": {},
   "source": [
    " "
   ]
  },
  {
   "cell_type": "markdown",
   "id": "96e56741",
   "metadata": {},
   "source": [
    "##### Data Preprocessing 6\n",
    "\n",
    "Extract the month from the treatment date. This will be used later for visualization purposes"
   ]
  },
  {
   "cell_type": "code",
   "execution_count": 31,
   "id": "b2c608b9",
   "metadata": {},
   "outputs": [],
   "source": [
    "decoded_data['month'] = decoded_data['treatment_date'].dt.month_name().str[:3]"
   ]
  },
  {
   "cell_type": "code",
   "execution_count": 32,
   "id": "533649d3",
   "metadata": {},
   "outputs": [
    {
     "data": {
      "text/html": [
       "<div>\n",
       "<style scoped>\n",
       "    .dataframe tbody tr th:only-of-type {\n",
       "        vertical-align: middle;\n",
       "    }\n",
       "\n",
       "    .dataframe tbody tr th {\n",
       "        vertical-align: top;\n",
       "    }\n",
       "\n",
       "    .dataframe thead th {\n",
       "        text-align: right;\n",
       "    }\n",
       "</style>\n",
       "<table border=\"1\" class=\"dataframe\">\n",
       "  <thead>\n",
       "    <tr style=\"text-align: right;\">\n",
       "      <th></th>\n",
       "      <th>cpsc_case_number</th>\n",
       "      <th>narrative</th>\n",
       "      <th>treatment_date</th>\n",
       "      <th>age</th>\n",
       "      <th>sex</th>\n",
       "      <th>race</th>\n",
       "      <th>other_race</th>\n",
       "      <th>hispanic</th>\n",
       "      <th>diagnosis</th>\n",
       "      <th>other_diagnosis</th>\n",
       "      <th>...</th>\n",
       "      <th>disposition</th>\n",
       "      <th>location</th>\n",
       "      <th>fire_involvement</th>\n",
       "      <th>alcohol</th>\n",
       "      <th>drug</th>\n",
       "      <th>product_1</th>\n",
       "      <th>product_2</th>\n",
       "      <th>product_3</th>\n",
       "      <th>narrative_original</th>\n",
       "      <th>month</th>\n",
       "    </tr>\n",
       "  </thead>\n",
       "  <tbody>\n",
       "    <tr>\n",
       "      <th>0</th>\n",
       "      <td>190103269</td>\n",
       "      <td>fell floor nurse home onto back head</td>\n",
       "      <td>2019-01-01</td>\n",
       "      <td>94</td>\n",
       "      <td>MALE</td>\n",
       "      <td>Not Stated</td>\n",
       "      <td>NaN</td>\n",
       "      <td>Unknown/Not Stated</td>\n",
       "      <td>INTERNAL INJURY</td>\n",
       "      <td>NaN</td>\n",
       "      <td>...</td>\n",
       "      <td>TREATED AND ADMITTED/HOSPITALIZED</td>\n",
       "      <td>PUBLIC</td>\n",
       "      <td>NO/UNKNOWN</td>\n",
       "      <td>No/Unknown</td>\n",
       "      <td>No/Unknown</td>\n",
       "      <td>FLOORS OR FLOORING MATERIALS</td>\n",
       "      <td>None</td>\n",
       "      <td>None</td>\n",
       "      <td>94YOM FELL TO THE FLOOR AT THE NURSING HOME ON...</td>\n",
       "      <td>Jan</td>\n",
       "    </tr>\n",
       "    <tr>\n",
       "      <th>1</th>\n",
       "      <td>190103270</td>\n",
       "      <td>fell shower home</td>\n",
       "      <td>2019-01-01</td>\n",
       "      <td>86</td>\n",
       "      <td>MALE</td>\n",
       "      <td>Not Stated</td>\n",
       "      <td>NaN</td>\n",
       "      <td>Unknown/Not Stated</td>\n",
       "      <td>INTERNAL INJURY</td>\n",
       "      <td>NaN</td>\n",
       "      <td>...</td>\n",
       "      <td>TREATED AND ADMITTED/HOSPITALIZED</td>\n",
       "      <td>HOME</td>\n",
       "      <td>NO/UNKNOWN</td>\n",
       "      <td>No/Unknown</td>\n",
       "      <td>No/Unknown</td>\n",
       "      <td>BATHTUBS OR SHOWERS</td>\n",
       "      <td>None</td>\n",
       "      <td>None</td>\n",
       "      <td>86YOM FELL IN THE SHOWER AT HOME AND SUSTAINED...</td>\n",
       "      <td>Jan</td>\n",
       "    </tr>\n",
       "    <tr>\n",
       "      <th>2</th>\n",
       "      <td>190103273</td>\n",
       "      <td>get couch fell floor</td>\n",
       "      <td>2019-01-01</td>\n",
       "      <td>87</td>\n",
       "      <td>FEMALE</td>\n",
       "      <td>Not Stated</td>\n",
       "      <td>NaN</td>\n",
       "      <td>Unknown/Not Stated</td>\n",
       "      <td>CONTUSIONS, ABR.</td>\n",
       "      <td>NaN</td>\n",
       "      <td>...</td>\n",
       "      <td>TREATED AND ADMITTED/HOSPITALIZED</td>\n",
       "      <td>HOME</td>\n",
       "      <td>NO/UNKNOWN</td>\n",
       "      <td>No/Unknown</td>\n",
       "      <td>No/Unknown</td>\n",
       "      <td>SOFAS, COUCHES, DAVENPORTS, DIVANS OR STUDIO C...</td>\n",
       "      <td>FLOORS OR FLOORING MATERIALS</td>\n",
       "      <td>None</td>\n",
       "      <td>87YOF WAS GETTING UP FROM THE COUCH AND FELL T...</td>\n",
       "      <td>Jan</td>\n",
       "    </tr>\n",
       "  </tbody>\n",
       "</table>\n",
       "<p>3 rows × 24 columns</p>\n",
       "</div>"
      ],
      "text/plain": [
       "   cpsc_case_number                             narrative treatment_date  age  \\\n",
       "0         190103269  fell floor nurse home onto back head     2019-01-01   94   \n",
       "1         190103270                      fell shower home     2019-01-01   86   \n",
       "2         190103273                  get couch fell floor     2019-01-01   87   \n",
       "\n",
       "      sex        race other_race            hispanic         diagnosis  \\\n",
       "0    MALE  Not Stated        NaN  Unknown/Not Stated   INTERNAL INJURY   \n",
       "1    MALE  Not Stated        NaN  Unknown/Not Stated   INTERNAL INJURY   \n",
       "2  FEMALE  Not Stated        NaN  Unknown/Not Stated  CONTUSIONS, ABR.   \n",
       "\n",
       "  other_diagnosis  ...                        disposition location  \\\n",
       "0             NaN  ...  TREATED AND ADMITTED/HOSPITALIZED   PUBLIC   \n",
       "1             NaN  ...  TREATED AND ADMITTED/HOSPITALIZED     HOME   \n",
       "2             NaN  ...  TREATED AND ADMITTED/HOSPITALIZED     HOME   \n",
       "\n",
       "  fire_involvement     alcohol        drug  \\\n",
       "0       NO/UNKNOWN  No/Unknown  No/Unknown   \n",
       "1       NO/UNKNOWN  No/Unknown  No/Unknown   \n",
       "2       NO/UNKNOWN  No/Unknown  No/Unknown   \n",
       "\n",
       "                                           product_1  \\\n",
       "0                       FLOORS OR FLOORING MATERIALS   \n",
       "1                                BATHTUBS OR SHOWERS   \n",
       "2  SOFAS, COUCHES, DAVENPORTS, DIVANS OR STUDIO C...   \n",
       "\n",
       "                      product_2 product_3  \\\n",
       "0                          None      None   \n",
       "1                          None      None   \n",
       "2  FLOORS OR FLOORING MATERIALS      None   \n",
       "\n",
       "                                  narrative_original month  \n",
       "0  94YOM FELL TO THE FLOOR AT THE NURSING HOME ON...   Jan  \n",
       "1  86YOM FELL IN THE SHOWER AT HOME AND SUSTAINED...   Jan  \n",
       "2  87YOF WAS GETTING UP FROM THE COUCH AND FELL T...   Jan  \n",
       "\n",
       "[3 rows x 24 columns]"
      ]
     },
     "execution_count": 32,
     "metadata": {},
     "output_type": "execute_result"
    }
   ],
   "source": [
    "#An overview of the dataset after changes\n",
    "decoded_data.head(3)"
   ]
  },
  {
   "cell_type": "markdown",
   "id": "3845fb19",
   "metadata": {},
   "source": [
    " "
   ]
  },
  {
   "cell_type": "markdown",
   "id": "3bbabe2f",
   "metadata": {},
   "source": [
    "---"
   ]
  },
  {
   "cell_type": "markdown",
   "id": "324d7e18",
   "metadata": {},
   "source": [
    " "
   ]
  },
  {
   "cell_type": "markdown",
   "id": "8d63be03",
   "metadata": {},
   "source": [
    "## 4. Exploratory Data Analysis and Data Visualization"
   ]
  },
  {
   "cell_type": "markdown",
   "id": "0a29a208",
   "metadata": {},
   "source": [
    "##### Import required modules"
   ]
  },
  {
   "cell_type": "code",
   "execution_count": 33,
   "id": "432a11a4",
   "metadata": {},
   "outputs": [],
   "source": [
    "import matplotlib.pyplot as plt\n",
    "import seaborn as sns"
   ]
  },
  {
   "cell_type": "markdown",
   "id": "2bdcf466",
   "metadata": {},
   "source": [
    " "
   ]
  },
  {
   "cell_type": "markdown",
   "id": "10f58933",
   "metadata": {},
   "source": [
    "#### <pre>4.1   UNIVARIATE ANALYSIS AND VISUALIZATION </pre>"
   ]
  },
  {
   "cell_type": "markdown",
   "id": "0815b7f8",
   "metadata": {},
   "source": [
    "##### Age Distribution\n",
    "\n",
    "Split the ages into age groups and visualize the age groups"
   ]
  },
  {
   "cell_type": "code",
   "execution_count": 34,
   "id": "88b9f007",
   "metadata": {},
   "outputs": [
    {
     "data": {
      "text/html": [
       "<div>\n",
       "<style scoped>\n",
       "    .dataframe tbody tr th:only-of-type {\n",
       "        vertical-align: middle;\n",
       "    }\n",
       "\n",
       "    .dataframe tbody tr th {\n",
       "        vertical-align: top;\n",
       "    }\n",
       "\n",
       "    .dataframe thead th {\n",
       "        text-align: right;\n",
       "    }\n",
       "</style>\n",
       "<table border=\"1\" class=\"dataframe\">\n",
       "  <thead>\n",
       "    <tr style=\"text-align: right;\">\n",
       "      <th></th>\n",
       "      <th>age</th>\n",
       "      <th>age_group</th>\n",
       "    </tr>\n",
       "  </thead>\n",
       "  <tbody>\n",
       "    <tr>\n",
       "      <th>0</th>\n",
       "      <td>94</td>\n",
       "      <td>89-94</td>\n",
       "    </tr>\n",
       "    <tr>\n",
       "      <th>1</th>\n",
       "      <td>86</td>\n",
       "      <td>83-88</td>\n",
       "    </tr>\n",
       "    <tr>\n",
       "      <th>2</th>\n",
       "      <td>87</td>\n",
       "      <td>83-88</td>\n",
       "    </tr>\n",
       "    <tr>\n",
       "      <th>3</th>\n",
       "      <td>67</td>\n",
       "      <td>65-70</td>\n",
       "    </tr>\n",
       "    <tr>\n",
       "      <th>4</th>\n",
       "      <td>70</td>\n",
       "      <td>65-70</td>\n",
       "    </tr>\n",
       "  </tbody>\n",
       "</table>\n",
       "</div>"
      ],
      "text/plain": [
       "   age age_group\n",
       "0   94     89-94\n",
       "1   86     83-88\n",
       "2   87     83-88\n",
       "3   67     65-70\n",
       "4   70     65-70"
      ]
     },
     "execution_count": 34,
     "metadata": {},
     "output_type": "execute_result"
    }
   ],
   "source": [
    "# Defining custom age bins\n",
    "age_bins = [65, 71, 77, 83, 89, 95, 101, 107, 113,]  \n",
    "\n",
    "# Define labels for the age groups\n",
    "age_labels = ['65-70', '71-76', '77-82', '83-88', '89-94', '95-100', '101-106', '107-112']\n",
    "\n",
    "# Create a new column 'age_group' based on the custom age bins\n",
    "decoded_data['age_group'] = pd.cut(decoded_data['age'], bins=age_bins, labels=age_labels)\n",
    "\n",
    "# Display the first few rows of the DataFrame with the age groups\n",
    "decoded_data[['age', 'age_group']][:5]"
   ]
  },
  {
   "cell_type": "code",
   "execution_count": 35,
   "id": "394153f3",
   "metadata": {},
   "outputs": [
    {
     "name": "stderr",
     "output_type": "stream",
     "text": [
      "C:\\Users\\DELL\\AppData\\Roaming\\Python\\Python39\\site-packages\\seaborn\\_oldcore.py:1498: FutureWarning: is_categorical_dtype is deprecated and will be removed in a future version. Use isinstance(dtype, CategoricalDtype) instead\n",
      "  if pd.api.types.is_categorical_dtype(vector):\n",
      "C:\\Users\\DELL\\AppData\\Roaming\\Python\\Python39\\site-packages\\seaborn\\_oldcore.py:1119: FutureWarning: use_inf_as_na option is deprecated and will be removed in a future version. Convert inf values to NaN before operating instead.\n",
      "  with pd.option_context('mode.use_inf_as_na', True):\n"
     ]
    },
    {
     "data": {
      "image/png": "[encoded data removed]",
      "text/plain": [
       "<Figure size 576x288 with 1 Axes>"
      ]
     },
     "metadata": {
      "needs_background": "light"
     },
     "output_type": "display_data"
    }
   ],
   "source": [
    "plt.figure(figsize=(8, 4))\n",
    "\n",
    "sns.histplot(decoded_data['age_group'], bins = 20, kde = True)\n",
    "\n",
    "plt.title('Age Distribution', pad = 20, fontsize = 18, weight = 'bold')\n",
    "plt.xlabel('Age', labelpad = 15, fontsize = 14)\n",
    "plt.ylabel('Frequency', labelpad = 15, fontsize = 14);"
   ]
  },
  {
   "cell_type": "markdown",
   "id": "c8d4baaf",
   "metadata": {},
   "source": [
    "In this analysis, it becomes evident that the age distribution within the elderly population is generally between 65 to 88 years, indicating that a significant proportion of the elderly population fall within this specific range."
   ]
  },
  {
   "cell_type": "markdown",
   "id": "2cfbab83",
   "metadata": {},
   "source": [
    " "
   ]
  },
  {
   "cell_type": "markdown",
   "id": "d8b8ac0c",
   "metadata": {},
   "source": [
    "##### Gender Distribution"
   ]
  },
  {
   "cell_type": "code",
   "execution_count": 36,
   "id": "c455f922",
   "metadata": {},
   "outputs": [
    {
     "data": {
      "image/png": "[encoded data removed]",
      "text/plain": [
       "<Figure size 576x432 with 1 Axes>"
      ]
     },
     "metadata": {},
     "output_type": "display_data"
    }
   ],
   "source": [
    "# Calculate the count of each gender category\n",
    "gender_counts = decoded_data['sex'].value_counts()\n",
    "\n",
    "plt.figure(figsize = (8, 6))\n",
    "\n",
    "# Create a pie chart\n",
    "plt.pie(gender_counts, labels = gender_counts.index, autopct = '%1.1f%%', startangle = 140, colors = ['skyblue', 'lightcoral'])\n",
    "\n",
    "plt.title('Gender Distribution', pad = 40, fontsize = 18, weight = 'bold')\n",
    "plt.axis('equal');  # Equal aspect ratio ensures that pie is drawn as a circle."
   ]
  },
  {
   "cell_type": "markdown",
   "id": "e559984c",
   "metadata": {},
   "source": [
    "There is a higher proportion of females than males in this dataset."
   ]
  },
  {
   "cell_type": "markdown",
   "id": "a32ab31b",
   "metadata": {},
   "source": [
    " "
   ]
  },
  {
   "cell_type": "markdown",
   "id": "61e43e22",
   "metadata": {},
   "source": [
    "##### Race Distribution"
   ]
  },
  {
   "cell_type": "code",
   "execution_count": 37,
   "id": "c1460d37",
   "metadata": {},
   "outputs": [
    {
     "name": "stderr",
     "output_type": "stream",
     "text": [
      "C:\\Users\\DELL\\AppData\\Roaming\\Python\\Python39\\site-packages\\seaborn\\_oldcore.py:1498: FutureWarning: is_categorical_dtype is deprecated and will be removed in a future version. Use isinstance(dtype, CategoricalDtype) instead\n",
      "  if pd.api.types.is_categorical_dtype(vector):\n",
      "C:\\Users\\DELL\\AppData\\Roaming\\Python\\Python39\\site-packages\\seaborn\\_oldcore.py:1498: FutureWarning: is_categorical_dtype is deprecated and will be removed in a future version. Use isinstance(dtype, CategoricalDtype) instead\n",
      "  if pd.api.types.is_categorical_dtype(vector):\n",
      "C:\\Users\\DELL\\AppData\\Roaming\\Python\\Python39\\site-packages\\seaborn\\_oldcore.py:1498: FutureWarning: is_categorical_dtype is deprecated and will be removed in a future version. Use isinstance(dtype, CategoricalDtype) instead\n",
      "  if pd.api.types.is_categorical_dtype(vector):\n"
     ]
    },
    {
     "data": {
      "image/png": "[encoded data removed]",
      "text/plain": [
       "<Figure size 1080x432 with 1 Axes>"
      ]
     },
     "metadata": {
      "needs_background": "light"
     },
     "output_type": "display_data"
    }
   ],
   "source": [
    "# Calculate the count of occurrences for each race category\n",
    "race_counts = decoded_data['race'].value_counts().reset_index()\n",
    "race_counts.columns = ['Race', 'Count']\n",
    "\n",
    "plt.figure(figsize = (15, 6))\n",
    "\n",
    "\n",
    "# Create a violin plot for the count of occurrences\n",
    "sns.barplot(data = race_counts, x = 'Count', y = 'Race', palette = 'viridis')\n",
    "\n",
    "plt.title('Race Distribution', pad = 20, fontsize = 18, weight = 'bold')\n",
    "plt.xlabel('Count', labelpad = 10, fontsize = 14)\n",
    "plt.ylabel('Race', labelpad = 10, fontsize = 14);"
   ]
  },
  {
   "cell_type": "markdown",
   "id": "5552d71e",
   "metadata": {},
   "source": [
    "There is a high proportion of whites, while a considerable amount of patients' race were not stated in the dataset."
   ]
  },
  {
   "cell_type": "markdown",
   "id": "b3bd5e9e",
   "metadata": {},
   "source": [
    " "
   ]
  },
  {
   "cell_type": "markdown",
   "id": "52969eb3",
   "metadata": {},
   "source": [
    "##### Diagnosis Distribution"
   ]
  },
  {
   "cell_type": "code",
   "execution_count": 38,
   "id": "5bf58bc9",
   "metadata": {},
   "outputs": [
    {
     "data": {
      "image/png": "[encoded data removed]",
      "text/plain": [
       "<Figure size 720x432 with 1 Axes>"
      ]
     },
     "metadata": {
      "needs_background": "light"
     },
     "output_type": "display_data"
    }
   ],
   "source": [
    "# Get the top 10 diagnoses\n",
    "top_10_diagnosis = decoded_data['diagnosis'].value_counts().head(10)\n",
    "\n",
    "# Define a custom color palette for the bars\n",
    "colors = sns.color_palette(\"husl\", len(top_10_diagnosis))\n",
    "\n",
    "# Create a bar chart with the specified colors\n",
    "plt.figure(figsize=(10, 6))\n",
    "top_10_diagnosis.plot(kind='bar', color=colors)\n",
    "\n",
    "plt.title('Top 10 Diagnosis by Distribution', pad = 20, fontsize = 18, weight = 'bold')\n",
    "plt.xlabel('Diagnosis', labelpad = 10, fontsize = 14)\n",
    "plt.ylabel('Count', labelpad = 10, fontsize = 14)\n",
    "\n",
    "# Rotate the x-axis labels for better readability\n",
    "plt.xticks(rotation = 45);"
   ]
  },
  {
   "cell_type": "markdown",
   "id": "c09d740e",
   "metadata": {},
   "source": [
    "These are the top 10 most frequently occurring diagnosis in this dataset, revealing the primary health conditions experienced by older individuals when they fall; with fractures being the most occuring."
   ]
  },
  {
   "cell_type": "markdown",
   "id": "653c022c",
   "metadata": {},
   "source": [
    " "
   ]
  },
  {
   "cell_type": "markdown",
   "id": "927847a1",
   "metadata": {},
   "source": [
    "##### Body Parts Distribution"
   ]
  },
  {
   "cell_type": "code",
   "execution_count": 39,
   "id": "67167655",
   "metadata": {},
   "outputs": [
    {
     "name": "stderr",
     "output_type": "stream",
     "text": [
      "C:\\Users\\DELL\\AppData\\Roaming\\Python\\Python39\\site-packages\\seaborn\\_oldcore.py:1498: FutureWarning: is_categorical_dtype is deprecated and will be removed in a future version. Use isinstance(dtype, CategoricalDtype) instead\n",
      "  if pd.api.types.is_categorical_dtype(vector):\n",
      "C:\\Users\\DELL\\AppData\\Roaming\\Python\\Python39\\site-packages\\seaborn\\_oldcore.py:1498: FutureWarning: is_categorical_dtype is deprecated and will be removed in a future version. Use isinstance(dtype, CategoricalDtype) instead\n",
      "  if pd.api.types.is_categorical_dtype(vector):\n",
      "C:\\Users\\DELL\\AppData\\Roaming\\Python\\Python39\\site-packages\\seaborn\\_oldcore.py:1498: FutureWarning: is_categorical_dtype is deprecated and will be removed in a future version. Use isinstance(dtype, CategoricalDtype) instead\n",
      "  if pd.api.types.is_categorical_dtype(vector):\n"
     ]
    },
    {
     "data": {
      "image/png": "[encoded data removed]",
      "text/plain": [
       "<Figure size 720x432 with 1 Axes>"
      ]
     },
     "metadata": {
      "needs_background": "light"
     },
     "output_type": "display_data"
    }
   ],
   "source": [
    "# Get the top 10 body parts affected by falls\n",
    "top_10_body_part = decoded_data['body_part'].value_counts().head(10)\n",
    "\n",
    "plt.figure(figsize=(10, 6))\n",
    "\n",
    "# Create a bar chart with vertical bars\n",
    "sns.barplot(x=top_10_body_part.values, y=top_10_body_part.index, palette='viridis')\n",
    "\n",
    "plt.title('Top 10 Body Parts Affected by Falls', pad = 20, fontsize = 18, weight = 'bold')\n",
    "plt.xlabel('Count', labelpad = 10, fontsize = 14)\n",
    "plt.ylabel('Body Part', labelpad = 10, fontsize = 14);"
   ]
  },
  {
   "cell_type": "markdown",
   "id": "fe28f017",
   "metadata": {},
   "source": [
    "When older individuals fall, these body parts are more susceptible to being affected with the head being the most affected."
   ]
  },
  {
   "cell_type": "markdown",
   "id": "8cb4fb12",
   "metadata": {},
   "source": [
    " "
   ]
  },
  {
   "cell_type": "markdown",
   "id": "79395f1d",
   "metadata": {},
   "source": [
    "##### Months of fall Distribution"
   ]
  },
  {
   "cell_type": "code",
   "execution_count": 40,
   "id": "38f9fc39",
   "metadata": {},
   "outputs": [],
   "source": [
    "#Count the number of falls per month\n",
    "fall_month_counts = decoded_data['month'].value_counts()\n",
    "\n",
    "#Reorder the fall month counts\n",
    "month_ordered = ['Jan', 'Feb', 'Mar', 'Apr', 'May', 'Jun', 'Jul', 'Aug', 'Sep', 'Oct', 'Nov', 'Dec']\n",
    "fall_month_counts = fall_month_counts.reindex(month_ordered)"
   ]
  },
  {
   "cell_type": "code",
   "execution_count": 41,
   "id": "34db83c3",
   "metadata": {},
   "outputs": [
    {
     "name": "stderr",
     "output_type": "stream",
     "text": [
      "C:\\Users\\DELL\\AppData\\Roaming\\Python\\Python39\\site-packages\\seaborn\\_oldcore.py:1498: FutureWarning: is_categorical_dtype is deprecated and will be removed in a future version. Use isinstance(dtype, CategoricalDtype) instead\n",
      "  if pd.api.types.is_categorical_dtype(vector):\n",
      "C:\\Users\\DELL\\AppData\\Roaming\\Python\\Python39\\site-packages\\seaborn\\_oldcore.py:1498: FutureWarning: is_categorical_dtype is deprecated and will be removed in a future version. Use isinstance(dtype, CategoricalDtype) instead\n",
      "  if pd.api.types.is_categorical_dtype(vector):\n",
      "C:\\Users\\DELL\\AppData\\Roaming\\Python\\Python39\\site-packages\\seaborn\\_oldcore.py:1498: FutureWarning: is_categorical_dtype is deprecated and will be removed in a future version. Use isinstance(dtype, CategoricalDtype) instead\n",
      "  if pd.api.types.is_categorical_dtype(vector):\n",
      "C:\\Users\\DELL\\AppData\\Roaming\\Python\\Python39\\site-packages\\seaborn\\_oldcore.py:1119: FutureWarning: use_inf_as_na option is deprecated and will be removed in a future version. Convert inf values to NaN before operating instead.\n",
      "  with pd.option_context('mode.use_inf_as_na', True):\n",
      "C:\\Users\\DELL\\AppData\\Roaming\\Python\\Python39\\site-packages\\seaborn\\_oldcore.py:1119: FutureWarning: use_inf_as_na option is deprecated and will be removed in a future version. Convert inf values to NaN before operating instead.\n",
      "  with pd.option_context('mode.use_inf_as_na', True):\n"
     ]
    },
    {
     "data": {
      "image/png": "[encoded data removed]",
      "text/plain": [
       "<Figure size 1080x432 with 1 Axes>"
      ]
     },
     "metadata": {
      "needs_background": "light"
     },
     "output_type": "display_data"
    }
   ],
   "source": [
    "# Create a line chart\n",
    "plt.figure(figsize = (15, 6))\n",
    "\n",
    "sns.lineplot(x = fall_month_counts.index, y = fall_month_counts.values, marker = 'o')\n",
    "\n",
    "plt.title('Distribution of Falls by Month', pad = 20, fontsize = 18, weight = 'bold')\n",
    "plt.xlabel('Month', labelpad = 10, fontsize = 14)\n",
    "plt.ylabel('Number of Falls', labelpad = 10, fontsize = 14)\n",
    "\n",
    "#Realign the x grids and show plot grid\n",
    "plt.xlim(xmin = -0.2, xmax = 11.2)\n",
    "plt.grid(True);"
   ]
  },
  {
   "cell_type": "markdown",
   "id": "b359eb5b",
   "metadata": {},
   "source": [
    "- ##### Insights on distribution of falls by month:\n",
    "\n",
    "The observation that adults aged 65 and older tend to fall more frequently in the months of January and December can lead to several insights and hypotheses:\n",
    "\n",
    "1. Seasonal Factors: The increase in falls during January and December may be related to seasonal factors. For instance, colder weather in many regions during these months could lead to icy or slippery conditions, making it more challenging for older adults to maintain their balance. Snow and ice can create hazardous walking conditions, increasing the risk of falls.\n",
    "\n",
    "2. Holiday Activities: December is typically associated with holidays such as Christmas and New Year's Eve. These holidays often involve gatherings, parties, and increased social activities. Older adults may be more active during this period, attending events and engaging in unfamiliar or physically demanding activities, which could contribute to an increased risk of falls.\n",
    "\n",
    "3. Reduced Daylight: January and December also have shorter daylight hours in many regions, leading to reduced visibility during outdoor activities. Poor lighting conditions can make it more difficult for older adults to navigate their surroundings safely, increasing the likelihood of falls.\n",
    "\n",
    "4. Health Conditions: Seasonal factors may exacerbate certain health conditions that make falls more likely. For example, colder weather can worsen joint pain or arthritis, which could affect an individual's mobility and balance.\n",
    "\n",
    "5. Medication Changes: Some older adults may experience changes in their medications during the winter months due to seasonal illnesses or other factors. Alterations in medication regimens can sometimes lead to dizziness, drowsiness, or changes in balance, increasing the risk of falls.\n",
    "\n",
    "**Possible Solutions**\n",
    "\n",
    "Reducing the risk of falls among older adults during the months of January and December requires a multifaceted approach that addresses various contributing factors. Here are some possible solutions and preventive measures:\n",
    "\n",
    "1. Home Safety Modifications:\n",
    "Ensure that homes are well-lit, both indoors and outdoors, to improve visibility.\n",
    "Remove tripping hazards such as loose rugs, clutter, or electrical cords.\n",
    "Install handrails on staircases and grab bars in bathrooms to provide support.\n",
    "\n",
    "2. Footwear:\n",
    "Encourage older adults to wear appropriate footwear with good traction, especially in icy or slippery conditions.\n",
    "Advise against wearing high heels or poorly fitting shoes that can increase the risk of stumbling.\n",
    "\n",
    "3. Exercise and Balance Training:\n",
    "Promote regular physical activity and strength training exercises to improve balance and muscle strength.\n",
    "Tai Chi and yoga can be particularly beneficial for enhancing balance and coordination.\n",
    "\n",
    "4. Medication Management:\n",
    "Review medications with healthcare providers to identify any that may increase the risk of falls.\n",
    "Adjust medication regimens when necessary to minimize side effects like dizziness or drowsiness.\n",
    "\n",
    "5. Vision Care:\n",
    "Encourage regular eye exams to ensure that older adults have optimal vision.\n",
    "Update eyeglass prescriptions as needed to improve visual clarity.\n",
    "\n",
    "6. Weather Awareness:\n",
    "Educate older adults about the potential hazards of winter weather, such as ice and snow.\n",
    "Offer advice on safe walking techniques, such as taking smaller steps and walking slowly in icy conditions.\n",
    "\n",
    "7. Assistive Devices:\n",
    "Provide walking aids such as canes or walkers to those who need them.\n",
    "Ensure that these devices are properly fitted and in good working condition.\n",
    "\n",
    "8. Fall Detection and Alerts:\n",
    "Consider using fall detection devices or personal emergency response systems (PERS) that can automatically alert caregivers or emergency services in the event of a fall.\n",
    "\n",
    "\n",
    "Remember that individual needs can vary, so a personalized approach to fall prevention is essential. Older adults and their caregivers should work closely with healthcare providers to tailor preventive measures to their specific circumstances and needs."
   ]
  },
  {
   "cell_type": "markdown",
   "id": "e7fc5f75",
   "metadata": {},
   "source": [
    " "
   ]
  },
  {
   "cell_type": "markdown",
   "id": "399a30e2",
   "metadata": {},
   "source": [
    "#### Products that cause the most fall"
   ]
  },
  {
   "cell_type": "code",
   "execution_count": 42,
   "id": "bf306e2c",
   "metadata": {},
   "outputs": [
    {
     "name": "stderr",
     "output_type": "stream",
     "text": [
      "C:\\Users\\DELL\\AppData\\Roaming\\Python\\Python39\\site-packages\\seaborn\\_oldcore.py:1498: FutureWarning: is_categorical_dtype is deprecated and will be removed in a future version. Use isinstance(dtype, CategoricalDtype) instead\n",
      "  if pd.api.types.is_categorical_dtype(vector):\n",
      "C:\\Users\\DELL\\AppData\\Roaming\\Python\\Python39\\site-packages\\seaborn\\_oldcore.py:1498: FutureWarning: is_categorical_dtype is deprecated and will be removed in a future version. Use isinstance(dtype, CategoricalDtype) instead\n",
      "  if pd.api.types.is_categorical_dtype(vector):\n",
      "C:\\Users\\DELL\\AppData\\Roaming\\Python\\Python39\\site-packages\\seaborn\\_oldcore.py:1498: FutureWarning: is_categorical_dtype is deprecated and will be removed in a future version. Use isinstance(dtype, CategoricalDtype) instead\n",
      "  if pd.api.types.is_categorical_dtype(vector):\n"
     ]
    },
    {
     "data": {
      "image/png": "[encoded data removed]",
      "text/plain": [
       "<Figure size 720x432 with 1 Axes>"
      ]
     },
     "metadata": {
      "needs_background": "light"
     },
     "output_type": "display_data"
    }
   ],
   "source": [
    "# Get the top 10 primary products\n",
    "top_10_product = decoded_data['product_1'].value_counts().head(10)\n",
    "\n",
    "plt.figure(figsize = (10, 6))\n",
    "\n",
    "# Create a bar chart with vertical bars\n",
    "sns.barplot(x = top_10_product.values, y = top_10_product.index, palette = 'viridis')\n",
    "\n",
    "plt.title('Top 10 products that cause falls', pad = 20, fontsize = 18, weight = 'bold')\n",
    "plt.xlabel('Count', labelpad = 10, fontsize = 14)\n",
    "plt.ylabel('product 1', labelpad = 10, fontsize = 14);"
   ]
  },
  {
   "cell_type": "markdown",
   "id": "0499efd2",
   "metadata": {},
   "source": [
    "- ##### Insights on the top 10 products that cause falls: \n",
    "\n",
    " The observation that floors or flooring materials, beds or bedframes, stairs or steps, chairs, bathtubs or showers, and toilets are products that cause the most falls in older adults provides valuable insights into the common sources of falls. Here are the insights and potential solutions based on these observations:\n",
    "\n",
    "1. Home Environment: Many falls among older adults occur within their own homes. This suggests that the home environment plays a significant role in fall risk.\n",
    "\n",
    "2. Key Risk Areas: Specific areas and products within the home are identified as frequent sources of falls. These include floors, beds, stairs, chairs, bathtubs, and toilets.\n",
    "\n",
    "3. Variety of Causes: Falls can result from various causes, such as slipping, tripping, loss of balance, or difficulty getting on or off furniture or fixtures.\n",
    "\n",
    "4. Common Activities: Falls may occur during common activities of daily living, such as moving around the home, getting in and out of bed, using the bathroom, or navigating stairs.\n",
    "\n",
    "**Potential Solutions:**\n",
    "\n",
    "1. Home Safety Assessment: Conduct a professional home safety assessment with the help of healthcare professionals or occupational therapists. They can identify specific hazards and recommend modifications.\n",
    "\n",
    "2. Flooring and Stairs: Install non-slip flooring materials in high-risk areas like bathrooms, kitchens, and entryways. Ensure that stairs are well-lit, have sturdy handrails on both sides, and have non-slip treads. Consider installing a chairlift or ramp if needed.\n",
    "\n",
    "3. Bedroom: Adjust the height of the bed to make it easier for older adults to get in and out safely. Bed rails or grab bars can provide additional support.\n",
    "\n",
    "4. Chairs: Choose stable and sturdy chairs with armrests that provide support when sitting down or getting up. Consider using chair mats with anti-slip backing to prevent chairs from sliding on smooth flooring.\n",
    "\n",
    "5. Bathroom: Install grab bars near the toilet, shower, and bathtub for support when sitting down, standing up, or bathing. Use non-slip bath mats inside the shower or bathtub and outside to prevent slipping.\n",
    "\n",
    "6. Toilet: Consider using a raised toilet seat to make it easier for older adults to sit down and stand up. Install toilet safety rails for added support and stability.\n",
    "\n",
    "7. General Safety Measures: Ensure adequate lighting throughout the home, especially in hallways, staircases, and bathrooms. Remove clutter and obstacles from walkways and living spaces. Encourage the use of appropriate, non-slip footwear, even when indoors. Regularly maintain and repair flooring, furniture, and fixtures to prevent hazards.\n",
    "\n",
    "\n",
    "8. Assistive Devices: Consider using assistive devices such as canes, walkers, or mobility aids to enhance stability and support.\n",
    "\n",
    "9. Emergency Response: Ensure that older adults have a way to call for help in case of a fall, such as a medical alert system or a mobile phone.\n",
    "\n",
    "By addressing these insights and implementing these solutions, one can significantly reduce the risk of falls among older adults and create a safer and more supportive living environment. Regular assessment and adjustments to the home's safety features can help maintain a safe environment as older adults' needs change over time."
   ]
  },
  {
   "cell_type": "markdown",
   "id": "d00a5204",
   "metadata": {},
   "source": [
    " "
   ]
  },
  {
   "cell_type": "markdown",
   "id": "2ffb16c2",
   "metadata": {},
   "source": [
    "<pre>\n",
    "\n",
    "\n",
    "</pre>\n",
    "#### <pre>4.2   BIVARIATE ANALYSIS AND VISUALIZATION (with detailed insights)</pre>\n",
    "\n",
    "This starts with analysing factors specific to individuals; like Age, Sex and Race   \n",
    "Then moving on to environmental factors; specifically Location   \n",
    "And then, analysing intake of substances around the duration of the fall; such as Drugs and Alcohol. "
   ]
  },
  {
   "cell_type": "markdown",
   "id": "87808fdb",
   "metadata": {},
   "source": [
    " "
   ]
  },
  {
   "cell_type": "markdown",
   "id": "c2ae89fe",
   "metadata": {},
   "source": [
    "##### Demographic Factors (Age vs Diagnosis)"
   ]
  },
  {
   "cell_type": "code",
   "execution_count": 43,
   "id": "5784171f",
   "metadata": {},
   "outputs": [],
   "source": [
    "#Get the data that matches with the top 10 diagnosis\n",
    "top_10_diagnosis = decoded_data['diagnosis'].value_counts().head(10).index\n",
    "decoded_data_filtered = decoded_data[decoded_data['diagnosis'].isin(top_10_diagnosis)]"
   ]
  },
  {
   "cell_type": "code",
   "execution_count": 44,
   "id": "fa9fe667",
   "metadata": {},
   "outputs": [
    {
     "name": "stderr",
     "output_type": "stream",
     "text": [
      "C:\\Users\\DELL\\AppData\\Roaming\\Python\\Python39\\site-packages\\seaborn\\_oldcore.py:1498: FutureWarning: is_categorical_dtype is deprecated and will be removed in a future version. Use isinstance(dtype, CategoricalDtype) instead\n",
      "  if pd.api.types.is_categorical_dtype(vector):\n",
      "C:\\Users\\DELL\\AppData\\Roaming\\Python\\Python39\\site-packages\\seaborn\\_oldcore.py:1498: FutureWarning: is_categorical_dtype is deprecated and will be removed in a future version. Use isinstance(dtype, CategoricalDtype) instead\n",
      "  if pd.api.types.is_categorical_dtype(vector):\n",
      "C:\\Users\\DELL\\AppData\\Roaming\\Python\\Python39\\site-packages\\seaborn\\_oldcore.py:1498: FutureWarning: is_categorical_dtype is deprecated and will be removed in a future version. Use isinstance(dtype, CategoricalDtype) instead\n",
      "  if pd.api.types.is_categorical_dtype(vector):\n"
     ]
    },
    {
     "data": {
      "image/png": "[encoded data removed]",
      "text/plain": [
       "<Figure size 1008x432 with 1 Axes>"
      ]
     },
     "metadata": {
      "needs_background": "light"
     },
     "output_type": "display_data"
    }
   ],
   "source": [
    "#Plot the data\n",
    "plt.figure(figsize=(14, 6))\n",
    "\n",
    "sns.countplot(data = decoded_data_filtered, x = 'diagnosis', hue = 'age_group')\n",
    "\n",
    "plt.title('Top 10 Diagnosis Count by Age Group', pad = 20, fontsize = 18, weight = 'bold')\n",
    "plt.xlabel('Diagnosis', labelpad = 10, fontsize = 14)\n",
    "plt.ylabel('Count', labelpad = 10, fontsize = 14)\n",
    "\n",
    "plt.xticks(rotation=90);"
   ]
  },
  {
   "cell_type": "markdown",
   "id": "dd22c258",
   "metadata": {},
   "source": [
    "- ##### Insights on age-related injury trends: \n",
    "\n",
    "The data reveals clear age-related patterns in the types of injuries diagnosed after falls. As individuals advance in age, they exhibit distinct injury patterns, highlighting the importance of age as a risk factor for certain types of injuries.\n",
    "\n",
    "Increased Risk of Internal Injuries (Ages 71-82): The finding that people between the ages of 71 and 82 are more frequently diagnosed with internal injuries following falls suggests that this age group may be particularly susceptible to injuries affecting internal organs. This vulnerability might be linked to age-related physiological changes or underlying health conditions.\n",
    "\n",
    "Contusions and Auditory Brainstem Response (ABR) in Older Age Groups (Ages 65-82): The higher incidence of contusions (bruises) and the presence of auditory brainstem response (ABR) diagnoses within the age range of 65 to 82 indicate that falls in this age group not only result in physical injuries but may also have neurological or auditory implications. This finding underscores the need for a holistic assessment of falls in older adults.\n",
    "\n",
    "Elevated Fracture Rates (Ages 65-88): The significant prevalence of fractures among individuals aged 65 to 88, with a notably higher rate, underscores the heightened risk of bone fractures in older age. This increased susceptibility might be attributed to factors such as reduced bone density and diminished musculoskeletal strength, which amplify the risk of fractures during falls."
   ]
  },
  {
   "cell_type": "markdown",
   "id": "e79bdf5f",
   "metadata": {},
   "source": [
    " "
   ]
  },
  {
   "cell_type": "markdown",
   "id": "74a8a8d7",
   "metadata": {},
   "source": [
    "##### Gender Factors (Sex vs Diagnosis)\n",
    "\n",
    "This compares the genders against the top three diagnosis"
   ]
  },
  {
   "cell_type": "code",
   "execution_count": 45,
   "id": "d9f09fd3",
   "metadata": {},
   "outputs": [],
   "source": [
    "#Get the data that matches with the top 3 diagnosis\n",
    "top_3_diagnosis = decoded_data['diagnosis'].value_counts().head(3).index\n",
    "decoded_data_filtered_2 = decoded_data[decoded_data['diagnosis'].isin(top_3_diagnosis)]"
   ]
  },
  {
   "cell_type": "markdown",
   "id": "2b49ed0d",
   "metadata": {},
   "source": [
    "Create the data for a percentage stacked bar chart"
   ]
  },
  {
   "cell_type": "code",
   "execution_count": 46,
   "id": "3774d0eb",
   "metadata": {},
   "outputs": [],
   "source": [
    "# Calculate the proportions of each diagnosis by gender\n",
    "diagnosis_by_sex = decoded_data_filtered_2.groupby(['sex', 'diagnosis']).size() / decoded_data_filtered_2.groupby('sex').size()\n",
    "\n",
    "# Reset the index for the proportions\n",
    "diagnosis_by_sex = diagnosis_by_sex.reset_index(name = 'Proportion')\n",
    "\n",
    "# Pivot the data to create a percentage stacked bar chart\n",
    "pivot_table = diagnosis_by_sex.pivot(index = 'sex', columns = 'diagnosis', values = 'Proportion')\n",
    "\n",
    "# Normalize the data to percentages (multiply by 100)\n",
    "pivot_table *= 100"
   ]
  },
  {
   "cell_type": "markdown",
   "id": "3a694da5",
   "metadata": {},
   "source": [
    "Plot the visualization"
   ]
  },
  {
   "cell_type": "code",
   "execution_count": 47,
   "id": "f3daf251",
   "metadata": {},
   "outputs": [
    {
     "data": {
      "image/png": "[encoded data removed]",
      "text/plain": [
       "<Figure size 1080x576 with 1 Axes>"
      ]
     },
     "metadata": {
      "needs_background": "light"
     },
     "output_type": "display_data"
    }
   ],
   "source": [
    "# Plot the percentage stacked bar chart\n",
    "ax = pivot_table.plot(kind='bar', stacked=True, figsize=(15, 8))\n",
    "\n",
    "plt.xlabel('Sex', labelpad = 10, fontsize = 14)\n",
    "plt.ylabel('Percentage', labelpad = 10, fontsize = 14)\n",
    "plt.title('Percentage Stacked Bar Chart: Gender vs. Diagnosis', pad = 20, fontsize = 18, weight = 'bold')\n",
    "\n",
    "# Add data labels to each bar segment\n",
    "for p in ax.patches:\n",
    "    width, height = p.get_width(), p.get_height()\n",
    "    x, y = p.get_xy()\n",
    "    ax.annotate(f'{height:.1f}%', (x + width / 2, y + height / 2), ha='center', va='center')"
   ]
  },
  {
   "cell_type": "markdown",
   "id": "ff980c83",
   "metadata": {},
   "source": [
    "- ##### Insights on gender-specific injury patterns:\n",
    "\n",
    "The data reveals gender-specific patterns in the types of injuries diagnosed after falls. These differences highlight the importance of considering gender as a factor in understanding and addressing specific health outcomes.\n",
    "\n",
    "Higher Incidence of Internal Injury in Males: The higher occurrence of internal injury diagnoses in males suggests that men may be more susceptible to injuries affecting internal organs following falls. This finding may be indicative of gender-related physiological differences or variations in injury mechanisms.\n",
    "\n",
    "Contusion and Auditory Brainstem Response (ABR) in Males: The prevalence of contusion and auditory brainstem response (ABR) diagnoses in males implies that men are more likely to experience bruises or minor injuries and may also be at greater risk of auditory or neurological issues following falls.\n",
    "\n",
    "Fractures More Common in Females: The observation that fractures are diagnosed more frequently in females suggests that women may face a higher risk of bone fractures during falls. This could be influenced by factors such as bone density, physical activity, or age-related changes affecting bone health."
   ]
  },
  {
   "cell_type": "markdown",
   "id": "82ed6b5f",
   "metadata": {},
   "source": [
    " "
   ]
  },
  {
   "cell_type": "markdown",
   "id": "df18441c",
   "metadata": {},
   "source": [
    "##### Racial Factors (Race vs Diagnosis)\n",
    "\n",
    "This compares the races against the top three diagnosis"
   ]
  },
  {
   "cell_type": "code",
   "execution_count": 48,
   "id": "b0195869",
   "metadata": {},
   "outputs": [],
   "source": [
    "# Calculate the proportions of each diagnosis by race\n",
    "diagnosis_by_race = decoded_data_filtered_2.groupby(['race', 'diagnosis']).size() / decoded_data_filtered_2.groupby('race').size()\n",
    "\n",
    "# Reset the index for the proportions\n",
    "diagnosis_by_race = diagnosis_by_race.reset_index(name = 'Proportion')\n",
    "\n",
    "# Pivot the data to create a percentage stacked bar chart\n",
    "pivot_table_2 = diagnosis_by_race.pivot(index = 'race', columns = 'diagnosis', values = 'Proportion')\n",
    "\n",
    "# Normalize the data to percentages (multiply by 100)\n",
    "pivot_table_2 *= 100"
   ]
  },
  {
   "cell_type": "code",
   "execution_count": 49,
   "id": "4fd48ac2",
   "metadata": {},
   "outputs": [
    {
     "data": {
      "image/png": "[encoded data removed]",
      "text/plain": [
       "<Figure size 1080x576 with 1 Axes>"
      ]
     },
     "metadata": {
      "needs_background": "light"
     },
     "output_type": "display_data"
    }
   ],
   "source": [
    "#Plot the percentage stacked bar chart\n",
    "ax = pivot_table_2.plot(kind = 'bar', stacked = True, figsize = (15, 8))\n",
    "\n",
    "# Add labels and a title\n",
    "plt.xlabel('Race', labelpad = 35, fontsize = 14)\n",
    "plt.ylabel('Percentage', labelpad = 10, fontsize = 14)\n",
    "plt.title('Percentage Stacked Bar Chart: Race vs. Diagnosis', pad = 20, fontsize = 18, weight = 'bold')\n",
    "\n",
    "# Add data labels to each bar segment\n",
    "for p in ax.patches:\n",
    "    width, height = p.get_width(), p.get_height()\n",
    "    x, y = p.get_xy()\n",
    "    ax.annotate(f'{height:.1f}%', (x + width / 2, y + height / 2), ha='center', va='center')"
   ]
  },
  {
   "cell_type": "markdown",
   "id": "892821ec",
   "metadata": {},
   "source": [
    "- ##### Insights on racial disparities in diagnosis patterns: \n",
    "\n",
    "The data indicates that there are disparities in the types of diagnoses individuals receive following falls among different racial groups. These disparities may reflect variations in healthcare access, socioeconomic factors, or underlying health conditions within these populations.\n",
    "\n",
    "Higher Occurrence of Internal Injuries in Native Hawaiian/Pacific Islander: The higher incidence of internal injury diagnoses in the Native Hawaiian/Pacific Islander group suggests that individuals from this racial background may be more susceptible to injuries affecting internal organs after falling. Further research is needed to understand the specific factors contributing to this pattern.\n",
    "\n",
    "Contusions and Auditory Brainstem Response (ABR) in Black/African American: The prevalence of contusion and auditory brainstem response (ABR) diagnoses in the Black/African American population may indicate that falls in this racial group not only result in physical injuries (contusions) but may also have neurological or auditory implications (ABR). This finding underscores the need for comprehensive assessments and care for fall-related injuries in this demographic.\n",
    "\n",
    "Fractures More Common in American Indian/Alaska Native: The observation that fractures are diagnosed more frequently in the American Indian/Alaska Native population suggests that individuals from this racial background may be at a higher risk of bone fractures following falls. Factors contributing to this risk may include variations in bone health, activity levels, or other sociocultural factors."
   ]
  },
  {
   "cell_type": "markdown",
   "id": "92b6afd3",
   "metadata": {},
   "source": [
    " "
   ]
  },
  {
   "cell_type": "markdown",
   "id": "59db7770",
   "metadata": {},
   "source": [
    "##### Environmental Factors 1 (Location vs Diagnosis)"
   ]
  },
  {
   "cell_type": "code",
   "execution_count": 50,
   "id": "d4833df3",
   "metadata": {},
   "outputs": [
    {
     "name": "stderr",
     "output_type": "stream",
     "text": [
      "C:\\Users\\DELL\\AppData\\Roaming\\Python\\Python39\\site-packages\\seaborn\\_oldcore.py:1498: FutureWarning: is_categorical_dtype is deprecated and will be removed in a future version. Use isinstance(dtype, CategoricalDtype) instead\n",
      "  if pd.api.types.is_categorical_dtype(vector):\n",
      "C:\\Users\\DELL\\AppData\\Roaming\\Python\\Python39\\site-packages\\seaborn\\_oldcore.py:1498: FutureWarning: is_categorical_dtype is deprecated and will be removed in a future version. Use isinstance(dtype, CategoricalDtype) instead\n",
      "  if pd.api.types.is_categorical_dtype(vector):\n",
      "C:\\Users\\DELL\\AppData\\Roaming\\Python\\Python39\\site-packages\\seaborn\\_oldcore.py:1498: FutureWarning: is_categorical_dtype is deprecated and will be removed in a future version. Use isinstance(dtype, CategoricalDtype) instead\n",
      "  if pd.api.types.is_categorical_dtype(vector):\n",
      "C:\\Users\\DELL\\AppData\\Roaming\\Python\\Python39\\site-packages\\seaborn\\_oldcore.py:1498: FutureWarning: is_categorical_dtype is deprecated and will be removed in a future version. Use isinstance(dtype, CategoricalDtype) instead\n",
      "  if pd.api.types.is_categorical_dtype(vector):\n"
     ]
    },
    {
     "data": {
      "image/png": "[encoded data removed]",
      "text/plain": [
       "<Figure size 1008x432 with 1 Axes>"
      ]
     },
     "metadata": {
      "needs_background": "light"
     },
     "output_type": "display_data"
    }
   ],
   "source": [
    "plt.figure(figsize=(14, 6))\n",
    "\n",
    "sns.countplot(data = decoded_data_filtered, x = 'diagnosis', hue = 'location')\n",
    "\n",
    "plt.title('Top 10 Diagnosis Count by location', pad = 20, fontsize = 18, weight = 'bold')\n",
    "plt.xlabel('Diagnosis', labelpad = 10, fontsize = 14)\n",
    "plt.ylabel('Count', labelpad = 10, fontsize = 14)\n",
    "\n",
    "plt.legend(loc = 'upper right')\n",
    "plt.xticks(rotation=90);"
   ]
  },
  {
   "cell_type": "markdown",
   "id": "5f1f98df",
   "metadata": {},
   "source": [
    "- ##### Insights on fall diagnosis by location\n",
    "\n",
    "The observation that most falls occur at home, unknown locations, and in public areas provides valuable insights into fall prevention and safety measures. Here are insights and potential solutions based on this observation:\n",
    "\n",
    "Home as a Common Location: The fact that a significant number of falls occur at home underscores the importance of home safety for individuals of all ages, particularly for older adults who may spend a substantial amount of time at home. This highlights the need to encourage home safety assessments, particularly for older adults, to identify and address potential fall hazards at home. This may include removing tripping hazards, improving lighting, installing handrails, and making bathrooms more accessible.\n",
    "\n",
    "Public Spaces: Falls in public areas highlight the need for public safety measures and awareness campaigns to reduce the risk of falls in crowded places.\n",
    "\n",
    "Unknown Locations: The \"unknown location\" category may indicate that some falls happen in unmonitored or less-traveled areas, making it challenging to identify and respond to these incidents promptly. A solution can be for older adults to get guides which can help them navigate unknown locations"
   ]
  },
  {
   "cell_type": "markdown",
   "id": "ea1041a9",
   "metadata": {},
   "source": [
    " "
   ]
  },
  {
   "cell_type": "markdown",
   "id": "7bbdb6d8",
   "metadata": {},
   "source": [
    "##### Environmental Factors 2 (Location vs Disposition)"
   ]
  },
  {
   "cell_type": "code",
   "execution_count": 51,
   "id": "67fb3700",
   "metadata": {},
   "outputs": [
    {
     "data": {
      "image/png": "[encoded data removed]",
      "text/plain": [
       "<Figure size 1080x432 with 2 Axes>"
      ]
     },
     "metadata": {
      "needs_background": "light"
     },
     "output_type": "display_data"
    }
   ],
   "source": [
    "# Visualize the relationship between location and disposition using a heatmap\n",
    "plt.figure(figsize=(15, 6))\n",
    "\n",
    "location_disposition_cross_tab = pd.crosstab(decoded_data['location'], decoded_data['disposition'])\n",
    "sns.heatmap(location_disposition_cross_tab, annot = True, fmt = 'd', cmap = 'YlGnBu')\n",
    "\n",
    "plt.title('Relationship between Location and Disposition', pad = 20, fontsize = 18, weight = 'bold')\n",
    "plt.xlabel('Disposition', labelpad = 30, fontsize = 14)\n",
    "plt.ylabel('Location', labelpad = 10, fontsize = 14);"
   ]
  },
  {
   "cell_type": "markdown",
   "id": "cee55b30",
   "metadata": {},
   "source": [
    "- ##### Insights on fall disposition by location\n",
    "\n",
    "Falls at home are more common but result in a mix of treatment outcomes: a significant number of individuals are treated and released, while a substantial number require hospitalization, but the **\"treated and transferred\"** and **\"left without being seen\"** caught our attention. Why?"
   ]
  },
  {
   "cell_type": "markdown",
   "id": "a9ac1d6c",
   "metadata": {},
   "source": [
    "- ##### Extra Insights on the \"treated and transferred\" disposition\n",
    "Here are some possible interpretations regarding the \"treated and transferred\" disposition:\n",
    "\n",
    "1. Severity of Condition: Individuals who were \"treated and transferred\" may have had medical conditions or injuries that required immediate treatment in one healthcare facility but needed specialized care or further evaluation at another facility. This suggests that their conditions were of a moderate to high severity.\n",
    "\n",
    "2. Availability of Specialized Services: The initial healthcare facility where they were treated might not have had the specialized equipment, expertise, or resources needed to fully address their medical condition. Therefore, they were transferred to a different facility where such resources were available.\n",
    "\n",
    "3. Hospital-to-Hospital Transfer: It could mean that patients were initially brought to a general hospital, but their condition required treatment at a specialized hospital or trauma center. These transfers are common for cases like severe trauma, stroke, or cardiac events.\n",
    "\n",
    "4. Interfacility Transfer: In some cases, patients might be transferred from one healthcare facility to another within a healthcare network for continuity of care or access to specialized services like surgery or intensive care.\n",
    "\n",
    "5. Insurance or Coverage Considerations: The choice to \"treat and transfer\" might also be influenced by insurance coverage or the patient's financial situation. Some treatments might be initiated at one facility to stabilize the patient before they are transferred to a different facility that is in-network or covered by their insurance.\n",
    "\n",
    "Incorporating this insight into this analysis allows for a more comprehensive understanding of the healthcare landscape, patient outcomes, and the factors that influence medical decision-making. It helps to assess the effectiveness and efficiency of the healthcare system and can guide improvements in patient care and resource allocation."
   ]
  },
  {
   "cell_type": "markdown",
   "id": "9e312585",
   "metadata": {},
   "source": [
    "- #### Extra Insights on the \"left without being seen\" disposition\n",
    "With most falls occuring at home, public and in unknown places, some patients who arrive at the hospital are still \"left without being seen,\" this raises some concerns both patient-wise and hospital-wise. Here are several possible interpretations:\n",
    "\n",
    "1. Patient Discontent: Patients may have left without being seen due to dissatisfaction with the healthcare facility, long wait times, or perceived poor quality of care. This could indicate issues with patient experience and satisfaction.\n",
    "\n",
    "2. Walk-Outs: \"Left without being seen\" often refers to patients who arrived at a healthcare facility (such as an emergency department) but left before receiving any medical evaluation or treatment. This might happen if they felt their condition improved, they couldn't wait any longer, or they thought their condition was not serious.\n",
    "\n",
    "3. Resource Constraints: Healthcare facilities, particularly emergency departments, may face resource constraints, leading to long wait times and the inability to see all patients promptly. Some patients may leave due to these resource limitations.\n",
    "\n",
    "4. Urgency Assessment: Patients who \"left without being seen\" may have initially perceived their condition as urgent but later reconsidered or received advice from others that their condition was not severe. This indicates changes in the perceived urgency of their health issues.\n",
    "\n",
    "\n",
    "Healthcare professionals have **legal and ethical obligations** to ensure that patients receive appropriate care. \"Left without being seen\" cases raise questions about whether these obligations were met.\n",
    "\n",
    "To fully understand the meaning and implications of patients leaving without being seen, it's essential to investigate the specific circumstances, including the diagnosis or presenting complaints of these patients, the timing of their departure, and any factors contributing to their decision. Such an analysis can help healthcare facilities identify opportunities for improvement in patient care, satisfaction, and operational efficiency. Additionally, it can lead to strategies for reducing patient walk-outs and ensuring that patients receive the care they need in a timely and appropriate manner."
   ]
  },
  {
   "cell_type": "markdown",
   "id": "9900f5fb",
   "metadata": {},
   "source": [
    " "
   ]
  },
  {
   "cell_type": "markdown",
   "id": "69c3570c",
   "metadata": {},
   "source": [
    "- #### Extra Insights on the \"left without being seen\" disposition 2\n",
    "Patients who are \"left without being seen\" can become discontented or dissatisfied with medical care and this can have significant implications for both patients and healthcare providers. Addressing this disposition is crucial to improving the quality of care, patient experience, and overall healthcare outcomes. Here are some implications and strategies to tackle it:\n",
    "\n",
    "    **Implications:**\n",
    "\n",
    "1. Negative Patient Outcomes: Discontented patients may delay seeking medical care, follow-up appointments, or necessary treatments, which can lead to worsened health conditions and outcomes.\n",
    "\n",
    "2. Reduced Trust: Dissatisfied patients may lose trust in healthcare providers and institutions, making them less likely to adhere to medical advice or recommendations.\n",
    "\n",
    "3. Impact on Reputation: Negative patient experiences can damage the reputation of healthcare facilities and healthcare providers, affecting their ability to attract and retain patients.\n",
    "\n",
    "4. Decreased Patient Compliance: Discontent can result in decreased patient compliance with prescribed medications, treatment plans, and lifestyle recommendations.\n",
    "\n",
    "5. Litigation Risk: Unhappy patients are more likely to consider legal action in cases of perceived medical malpractice or negligence, leading to increased legal risks for healthcare providers.\n",
    "\n",
    "6. Decreased Patient Retention: Patients who are dissatisfied with their healthcare experience may seek care elsewhere, leading to a loss of patient retention and revenue for healthcare facilities.\n",
    "\n",
    "**Strategies to Tackle Patient Leaving without being seen**:\n",
    "\n",
    "1. Improve Communication: Effective communication between healthcare providers and patients is essential. Encourage open and empathetic communication, active listening, and clear explanation of diagnoses, treatment options, and expectations.\n",
    "\n",
    "2. Enhance Patient-Centered Care: Shift the focus to patient-centered care, where patients are actively involved in decision-making regarding their health and treatment plans. Involve patients in care discussions and respect their preferences.\n",
    "\n",
    "3. Reduce Wait Times: Implement strategies to reduce waiting times in healthcare facilities, such as appointment scheduling improvements, efficient patient flow, and optimized resource allocation.\n",
    "\n",
    "4. Enhance Staff Training: Provide healthcare staff with training in patient communication, empathy, and cultural competence to ensure positive patient interactions.\n",
    "\n",
    "5. Quality Improvement Initiatives: Continuously monitor and assess the quality of care through patient satisfaction surveys, feedback mechanisms, and performance evaluations. Use data to identify areas for improvement.\n",
    "\n",
    "6. Patient Advocacy Programs: Establish patient advocacy programs to assist patients in navigating the healthcare system, addressing concerns, and ensuring their needs are met.\n",
    "\n",
    "7. Transparency: Be transparent about healthcare costs, treatment options, and potential risks. Patients appreciate transparency in billing and treatment decisions.\n",
    "\n",
    "8. Complaint Resolution: Develop clear and efficient mechanisms for addressing patient complaints and grievances. Ensure that patients know how to voice their concerns and that their feedback is taken seriously.\n",
    "\n",
    "9. Staff Well-Being: Recognize that healthcare staff well-being is closely tied to patient satisfaction. Support and engage healthcare providers to prevent burnout and maintain a positive work environment.\n",
    "\n",
    "10. Technology Integration: Leverage technology to improve patient experiences, such as online appointment scheduling, telehealth options, and electronic health records for easy access to medical information.\n",
    "\n",
    "11. Cultural Competency: Train healthcare providers to be culturally competent and sensitive to the diverse needs and backgrounds of patients.\n",
    "\n",
    "12. Patient Education: Empower patients with information about their health conditions and treatment plans. Ensure they understand their role in managing their health.\n",
    "\n",
    "13. Continuous Feedback Loop: Establish a continuous feedback loop with patients to gather input and make improvements based on their suggestions and concerns.\n",
    "\n",
    "Addressing patient discontent is an ongoing process that requires a commitment to patient-centered care, quality improvement, and a culture of empathy and responsiveness within the healthcare sector. By taking proactive steps to enhance patient satisfaction and address patient concerns, healthcare providers and institutions can improve patient outcomes and maintain their reputation.\n",
    "<pre>\n",
    "\n",
    "\n",
    "</pre>"
   ]
  },
  {
   "cell_type": "markdown",
   "id": "1116673e",
   "metadata": {},
   "source": [
    " "
   ]
  },
  {
   "cell_type": "markdown",
   "id": "e6cb8c0b",
   "metadata": {},
   "source": [
    "##### Alchohol Intake Factors (Alcohol vs Diagnosis)"
   ]
  },
  {
   "cell_type": "code",
   "execution_count": 52,
   "id": "372591da",
   "metadata": {},
   "outputs": [
    {
     "name": "stderr",
     "output_type": "stream",
     "text": [
      "C:\\Users\\DELL\\AppData\\Roaming\\Python\\Python39\\site-packages\\seaborn\\_oldcore.py:1498: FutureWarning: is_categorical_dtype is deprecated and will be removed in a future version. Use isinstance(dtype, CategoricalDtype) instead\n",
      "  if pd.api.types.is_categorical_dtype(vector):\n",
      "C:\\Users\\DELL\\AppData\\Roaming\\Python\\Python39\\site-packages\\seaborn\\_oldcore.py:1498: FutureWarning: is_categorical_dtype is deprecated and will be removed in a future version. Use isinstance(dtype, CategoricalDtype) instead\n",
      "  if pd.api.types.is_categorical_dtype(vector):\n",
      "C:\\Users\\DELL\\AppData\\Roaming\\Python\\Python39\\site-packages\\seaborn\\_oldcore.py:1498: FutureWarning: is_categorical_dtype is deprecated and will be removed in a future version. Use isinstance(dtype, CategoricalDtype) instead\n",
      "  if pd.api.types.is_categorical_dtype(vector):\n",
      "C:\\Users\\DELL\\AppData\\Roaming\\Python\\Python39\\site-packages\\seaborn\\_oldcore.py:1498: FutureWarning: is_categorical_dtype is deprecated and will be removed in a future version. Use isinstance(dtype, CategoricalDtype) instead\n",
      "  if pd.api.types.is_categorical_dtype(vector):\n"
     ]
    },
    {
     "data": {
      "image/png": "[encoded data removed]",
      "text/plain": [
       "<Figure size 1008x432 with 1 Axes>"
      ]
     },
     "metadata": {
      "needs_background": "light"
     },
     "output_type": "display_data"
    }
   ],
   "source": [
    "plt.figure(figsize=(14, 6))\n",
    "\n",
    "sns.countplot(data=decoded_data_filtered, x = 'diagnosis', hue = 'alcohol')\n",
    "\n",
    "plt.title('Top 10 Diagnosis Count by alcohol', pad = 20, fontsize = 18, weight = 'bold')\n",
    "plt.xlabel('Diagnosis', labelpad = 10, fontsize = 14)\n",
    "plt.ylabel('Count', labelpad = 10, fontsize = 14)\n",
    "\n",
    "plt.xticks(rotation = 90);"
   ]
  },
  {
   "cell_type": "markdown",
   "id": "eb3640f2",
   "metadata": {},
   "source": [
    "- ##### Insights on falls based on alchohol intake\n",
    "The visualization shows that most falls aren't caused by alcohol intake."
   ]
  },
  {
   "cell_type": "markdown",
   "id": "c78057a9",
   "metadata": {},
   "source": [
    " "
   ]
  },
  {
   "cell_type": "markdown",
   "id": "d491e5ab",
   "metadata": {},
   "source": [
    "##### Drug Intake Factors (Drugs vs Diagnosis)"
   ]
  },
  {
   "cell_type": "code",
   "execution_count": 53,
   "id": "9c147a35",
   "metadata": {},
   "outputs": [
    {
     "name": "stderr",
     "output_type": "stream",
     "text": [
      "C:\\Users\\DELL\\AppData\\Roaming\\Python\\Python39\\site-packages\\seaborn\\_oldcore.py:1498: FutureWarning: is_categorical_dtype is deprecated and will be removed in a future version. Use isinstance(dtype, CategoricalDtype) instead\n",
      "  if pd.api.types.is_categorical_dtype(vector):\n",
      "C:\\Users\\DELL\\AppData\\Roaming\\Python\\Python39\\site-packages\\seaborn\\_oldcore.py:1498: FutureWarning: is_categorical_dtype is deprecated and will be removed in a future version. Use isinstance(dtype, CategoricalDtype) instead\n",
      "  if pd.api.types.is_categorical_dtype(vector):\n",
      "C:\\Users\\DELL\\AppData\\Roaming\\Python\\Python39\\site-packages\\seaborn\\_oldcore.py:1498: FutureWarning: is_categorical_dtype is deprecated and will be removed in a future version. Use isinstance(dtype, CategoricalDtype) instead\n",
      "  if pd.api.types.is_categorical_dtype(vector):\n",
      "C:\\Users\\DELL\\AppData\\Roaming\\Python\\Python39\\site-packages\\seaborn\\_oldcore.py:1498: FutureWarning: is_categorical_dtype is deprecated and will be removed in a future version. Use isinstance(dtype, CategoricalDtype) instead\n",
      "  if pd.api.types.is_categorical_dtype(vector):\n"
     ]
    },
    {
     "data": {
      "image/png": "[encoded data removed]",
      "text/plain": [
       "<Figure size 1008x432 with 1 Axes>"
      ]
     },
     "metadata": {
      "needs_background": "light"
     },
     "output_type": "display_data"
    }
   ],
   "source": [
    "plt.figure(figsize=(14, 6))\n",
    "\n",
    "sns.countplot(data=decoded_data_filtered, x='diagnosis', hue='drug')\n",
    "\n",
    "plt.title('Top 10 Diagnosis Count by drug', pad = 20, fontsize = 18, weight = 'bold')\n",
    "plt.xlabel('Diagnosis', labelpad = 10, fontsize = 14)\n",
    "plt.ylabel('Count', labelpad = 10, fontsize = 14)\n",
    "\n",
    "plt.xticks(rotation=90);"
   ]
  },
  {
   "cell_type": "markdown",
   "id": "c346b931",
   "metadata": {},
   "source": [
    "- ##### Insights on falls based on drug intake\n",
    "This visualization shows that most of the falls are not caused by drugs as well"
   ]
  },
  {
   "cell_type": "markdown",
   "id": "d43e83cd",
   "metadata": {},
   "source": [
    " "
   ]
  },
  {
   "cell_type": "markdown",
   "id": "f7b0ef4e",
   "metadata": {},
   "source": [
    "#### After checking out the factors relating to each patient, it's imperative to analyze the body parts most affected and also identify the common circumstances or activities during which falls occur among older adults \n",
    "\n",
    "##### Body Parts Most Affected (Body Part vs Diagnosis)"
   ]
  },
  {
   "cell_type": "code",
   "execution_count": 54,
   "id": "2d46cb9b",
   "metadata": {},
   "outputs": [],
   "source": [
    "# First, calculate the count of diagnoses for each body part\n",
    "body_part_counts = decoded_data_filtered['body_part'].value_counts()\n",
    "\n",
    "# Select the top 10 body parts\n",
    "top_10_body_parts = body_part_counts.head(10).index\n",
    "\n",
    "# Filter the DataFrame to include only the top 10 body parts\n",
    "filtered_data = decoded_data_filtered[decoded_data_filtered['body_part'].isin(top_10_body_parts)]\n",
    "\n",
    "# Calculate the count of diagnoses for each combination of body part and diagnosis in the filtered data\n",
    "heatmap_data = filtered_data.groupby(['body_part', 'diagnosis']).size().reset_index(name='count')\n",
    "\n",
    "# Pivot the data to create a matrix suitable for a heatmap\n",
    "heatmap_matrix = heatmap_data.pivot(index='body_part', columns='diagnosis', values='count')\n",
    "\n",
    "# Replace non-finite values (NaN or inf) with 0\n",
    "heatmap_matrix = heatmap_matrix.fillna(0)\n",
    "heatmap_matrix = heatmap_matrix.replace([np.inf, -np.inf], 0)\n",
    "\n",
    "# Convert the counts to integers after handling non-finite values\n",
    "heatmap_matrix = heatmap_matrix.astype(int)"
   ]
  },
  {
   "cell_type": "code",
   "execution_count": 55,
   "id": "41cf492f",
   "metadata": {},
   "outputs": [
    {
     "data": {
      "image/png": "[encoded data removed]",
      "text/plain": [
       "<Figure size 1008x432 with 2 Axes>"
      ]
     },
     "metadata": {
      "needs_background": "light"
     },
     "output_type": "display_data"
    }
   ],
   "source": [
    "# Create a heatmap\n",
    "plt.figure(figsize=(14, 6))\n",
    "sns.heatmap(heatmap_matrix, cmap='YlGnBu', annot=True, fmt='d', linewidths=0.5, cbar=True)\n",
    "\n",
    "plt.title('Diagnosis Count Heatmap for Top 10 Body Parts', pad = 20, fontsize = 18, weight = 'bold')\n",
    "plt.xlabel('Diagnosis', labelpad = 10, fontsize = 14)\n",
    "plt.ylabel('Body Part', labelpad = 10, fontsize = 14)\n",
    "\n",
    "plt.xticks(rotation=90)\n",
    "plt.tight_layout();"
   ]
  },
  {
   "cell_type": "markdown",
   "id": "dfdba573",
   "metadata": {},
   "source": [
    "### The observation that older adults who fall and hit their head are more likely to have internal injuries, while those who hit their lower trunk are more likely to have fractures, indicates valuable insights that can inform both preventive measures and response strategies. Here are some insights and potential solutions derived from this observation:\n",
    "\n",
    "**Insights:**\n",
    "\n",
    "1. **High-Risk Areas:** The observation highlights specific body parts (head and lower trunk) as high-risk areas for older adults during falls. Understanding these high-risk areas is crucial for injury prevention.\n",
    "\n",
    "2. **Common Injuries:** It identifies the most common types of injuries associated with falls in older adults, which are internal injuries and fractures.\n",
    "\n",
    "3. **Correlation:** The strong correlation between the location of impact and the type of injury suggests a predictive relationship that can be valuable for early intervention and risk assessment.\n",
    "\n",
    "**Solutions:**\n",
    "\n",
    "1. **Fall Prevention Strategies:** Implement targeted fall prevention strategies that focus on reducing the risk of falls in older adults. These strategies may include:\n",
    "   - **Home Safety:** Evaluate and improve home safety, removing hazards that could lead to falls.\n",
    "   - **Exercise Programs:** Encourage older adults to participate in balance and strength training exercises to improve stability and reduce the risk of falling.\n",
    "   - **Medication Management:** Review and adjust medications that may cause dizziness or unsteadiness.\n",
    "   - **Vision Checks:** Ensure regular vision checks to correct any visual impairments that may contribute to falls.\n",
    "   - **Footwear:** Promote appropriate footwear with good traction to prevent slipping.\n",
    "\n",
    "2. **Education and Awareness:** Increase awareness among older adults and their caregivers about the risks associated with falls. Provide information about what to do in case of a fall and the importance of seeking medical attention, especially when head or trunk injuries occur.\n",
    "\n",
    "3. **Early Assessment:** Encourage healthcare professionals to conduct thorough assessments after a fall, particularly focusing on head and lower trunk injuries. Rapid assessment can lead to early diagnosis and treatment, potentially reducing the severity of injuries.\n",
    "\n",
    "4. **Fall Detection Devices:** Consider using fall detection devices or systems that can automatically detect falls and alert caregivers or emergency services. These devices can be especially helpful for individuals at high risk of falls.\n",
    "\n",
    "5. **Medical Protocols:** Develop or update medical protocols for healthcare providers to ensure a comprehensive evaluation of older adults who have fallen, including imaging and diagnostic tests for head and trunk injuries.\n",
    "\n",
    "6. **Supportive Care:** For older adults with a history of falls, offer supportive care and services that can help them maintain independence while minimizing risks. This may include home healthcare, rehabilitation, or assisted living options.\n",
    "\n",
    "\n",
    "\n",
    "Remember that addressing fall-related risks and injuries in older adults is a multidisciplinary effort involving healthcare providers, caregivers, community organizations, and policymakers. These insights and solutions aim to enhance the safety and well-being of older adults and reduce the impact of falls on their health and quality of life."
   ]
  },
  {
   "cell_type": "markdown",
   "id": "f2946c4a",
   "metadata": {},
   "source": [
    "#### Common circumstances surrounding falls among older adults \n",
    "\n",
    "A biagram is used here to analyze the 15 most common bigrams in the narrative column"
   ]
  },
  {
   "cell_type": "code",
   "execution_count": 56,
   "id": "4b387aee",
   "metadata": {},
   "outputs": [],
   "source": [
    "#Import required modules\n",
    "from nltk.tokenize import word_tokenize\n",
    "from nltk import bigrams\n",
    "\n",
    "from collections import Counter"
   ]
  },
  {
   "cell_type": "markdown",
   "id": "5a79de19",
   "metadata": {},
   "source": [
    "Grab the 15 most common bigrams"
   ]
  },
  {
   "cell_type": "code",
   "execution_count": 57,
   "id": "edb04a47",
   "metadata": {},
   "outputs": [],
   "source": [
    "#Initialize a list to store all tokens which will be need for future references\n",
    "#narrative_tokens = []\n",
    "\n",
    "# Initialize a list to store preprocessed bigrams\n",
    "preprocessed_bigrams = []\n",
    "\n",
    "#Extract biagrams from each narrative\n",
    "for sentence in decoded_data['narrative']:\n",
    "    # Tokenize the sentence\n",
    "    tokens = word_tokenize(sentence)\n",
    "    #narrative_tokens.append(tokens)\n",
    "    \n",
    "    # Create bigrams from the tokens\n",
    "    bigrams_list = list(bigrams(tokens))\n",
    "    \n",
    "    # Append the preprocessed bigrams to the list\n",
    "    preprocessed_bigrams.extend(bigrams_list)\n",
    "\n",
    "# Count the frequency of each bigram\n",
    "bigram_counts = Counter(preprocessed_bigrams)\n",
    "\n",
    "# Get the top 15 most common bigrams and their counts\n",
    "top_15_bigrams = bigram_counts.most_common(15)\n",
    "bigram_labels, bigram_counts = zip(*top_15_bigrams)"
   ]
  },
  {
   "cell_type": "markdown",
   "id": "5cb495e5",
   "metadata": {},
   "source": [
    "Visualize the bigrams"
   ]
  },
  {
   "cell_type": "code",
   "execution_count": 58,
   "id": "c8177a1a",
   "metadata": {},
   "outputs": [
    {
     "data": {
      "image/png": "[encoded data removed]",
      "text/plain": [
       "<Figure size 720x576 with 1 Axes>"
      ]
     },
     "metadata": {
      "needs_background": "light"
     },
     "output_type": "display_data"
    }
   ],
   "source": [
    "# Create a bar chart to visualize bigram frequencies\n",
    "plt.figure(figsize=(10, 8))\n",
    "\n",
    "plt.barh(range(len(bigram_labels)), bigram_counts)\n",
    "plt.yticks(range(len(bigram_labels)), bigram_labels)\n",
    "\n",
    "plt.xlabel('Frequency', labelpad = 20, fontsize = 14)\n",
    "plt.ylabel('Bigrams', labelpad = 20, fontsize = 14)\n",
    "plt.title('Top 15 Most Common Bigrams', pad = 20, fontsize = 18, weight = 'bold')\n",
    "\n",
    "plt.gca().invert_yaxis()  # Invert the y-axis to display the most common at the top"
   ]
  },
  {
   "cell_type": "markdown",
   "id": "0e994d74",
   "metadata": {},
   "source": [
    "- ##### Insights on common circumstances surrounding older adult falls\n",
    "The bigrams provide insights into the reasons older adults fall while also noting the body part affected and also place of fall in some scenarios. Let's analyze each bigram and suggest potential solutions for fall prevention:\n",
    "\n",
    "1. **Head Injury**: The presence of \"head injury\" indicates that head injuries are a significant outcome of falls among older adults. It's essential to focus on strategies to prevent head injuries, such as using protective headgear and implementing fall prevention programs.\n",
    "\n",
    "2. **Hit Head**: Falls that lead to \"hit head\" indicate a potential problem with balance or coordination. Solutions may involve balance exercises, regular vision check-ups, and environmental modifications to reduce hazards.\n",
    "\n",
    "3. **Close Head**: \"Close head\" could refer to injuries where the skull is not fractured but may still result in concussions or other head injuries. Preventive measures may include education on recognizing the signs of head injuries and seeking medical attention.\n",
    "\n",
    "4. **Fell Floor**: \"Fell floor\" suggests that falls often result in individuals landing on the floor. This emphasizes the importance of strategies to minimize the impact of falls, including improving flooring materials to reduce injury risk.\n",
    "\n",
    "5. **Strike Head**: Similar to \"hit head,\" this bigram points to falls leading to head injuries. Strategies to reduce head injuries are relevant here.\n",
    "\n",
    "6. **Fell Hit**: \"Fell hit\" represents falls that result in the older adults having their body part(s) hit an object. Fall prevention strategies should be implemented broadly, including home safety measures and regular exercise.\n",
    "\n",
    "7. **Nurse Home**: The mention of \"nurse home\" suggests that falls occur in care facilities. Solutions may involve improved staff training, fall risk assessments, and environmental modifications in nursing homes.\n",
    "\n",
    "8. **Fell Onto**: \"Fell onto\" highlights the presence of objects in the path of the older adults. Solutions may involve regular vision check-ups, and environmental modifications to reduce hazards.\n",
    "\n",
    "9. **Trip Fell**: \"Trip fell\" highlights the role of tripping hazards in falls. Reducing tripping hazards, such as clutter and loose rugs, can help prevent falls.\n",
    "\n",
    "10-15 which includes unique words such as dx, close, floor, home, head, fall, and contusion further highlight the listed bigrams insight above. An addition is that the presence of dx showcases diagnoses made by the abstractors, the term \"home\" showcases that some falls do occur at home and \"contusions\" highlight the fact that some falls do lead to contusions.\n",
    "\n",
    "<pre>\n",
    "\n",
    "</pre>\n",
    "Based on these insights, here are some potential solutions for fall prevention among older adults:\n",
    "\n",
    "1. **Fall Risk Assessments**: Conduct regular fall risk assessments for older adults, taking into account their health conditions, mobility, and living environment.\n",
    "\n",
    "2. **Home Safety Modifications**: Promote home safety assessments and modifications, such as installing handrails, improving lighting, and removing tripping hazards.\n",
    "\n",
    "3. **Balance and Strength Training**: Encourage older adults to engage in balance and strength training exercises to improve their physical stability and reduce the risk of falling.\n",
    "\n",
    "4. **Medication Management**: Review and manage medications that may cause dizziness or affect balance, consulting with healthcare professionals as needed.\n",
    "\n",
    "5. **Use of Mobility Aids**: Provide and educate older adults on the appropriate use of mobility aids such as walkers or canes.\n",
    "\n",
    "6. **Regular Health Checkups**: Encourage older adults to have regular checkups with healthcare providers to address any underlying health issues that may contribute to falls.\n",
    "\n",
    "7. **Educational Programs**: Offer educational programs to raise awareness about fall prevention, including information on recognizing fall risks and taking preventive measures.\n",
    "\n",
    "8. **Environmental Modifications in Nursing Homes**: Improve the safety of nursing homes by implementing environmental modifications and staff training programs.\n",
    "\n",
    "9. **Protective Headgear**: For older adults at risk of head injuries due to falls, consider the use of protective headgear, such as helmets or head protection.\n",
    "\n",
    "10. **Regular Vision Exams**: Encourage older adults to have regular vision exams to ensure proper vision, which is crucial for balance and coordination.\n",
    "\n",
    "Implementing a combination of these solutions tailored to individual needs and circumstances can significantly reduce the risk of falls among older adults and enhance their overall safety and well-being. Additionally, fostering a supportive and vigilant community or caregiver network can further contribute to fall prevention."
   ]
  },
  {
   "cell_type": "markdown",
   "id": "1c34eea8",
   "metadata": {},
   "source": [
    " "
   ]
  },
  {
   "cell_type": "markdown",
   "id": "7b785b55",
   "metadata": {},
   "source": [
    "---"
   ]
  },
  {
   "cell_type": "markdown",
   "id": "60e5fe00",
   "metadata": {},
   "source": [
    " "
   ]
  },
  {
   "cell_type": "markdown",
   "id": "d79b126d",
   "metadata": {},
   "source": [
    "## 5. Model Building"
   ]
  },
  {
   "cell_type": "markdown",
   "id": "4bd1025c",
   "metadata": {},
   "source": [
    "#### 5.1 Starting with a variation of the traditional Latent Dirichlet Allocation (LDA) topic modelling algorithm -> NeuralLDA\n",
    "\n",
    "The approach here is to train a NeuralLDA model on the narratives, use OCTIS hyparameter optimization to optimize the topic models, and derive the optimum number of topics that distinctly explain the narratives. This is then used to build a model whose efficiency is tested, and then used to print out the top 10 words per suggested number of topics.\n",
    "\n",
    "<pre>\n",
    "\n",
    "\n",
    "</pre>\n",
    "Import required modules"
   ]
  },
  {
   "cell_type": "code",
   "execution_count": 59,
   "id": "3f4c9fcd",
   "metadata": {},
   "outputs": [],
   "source": [
    "from octis.dataset.dataset import Dataset\n",
    "from octis.preprocessing.preprocessing import Preprocessing\n",
    "from octis.models.NeuralLDA import NeuralLDA\n",
    "\n",
    "from octis.optimization.optimizer import Optimizer\n",
    "from octis.evaluation_metrics.coherence_metrics import Coherence\n",
    "from octis.evaluation_metrics.diversity_metrics import TopicDiversity\n",
    "from skopt.space.space import Integer"
   ]
  },
  {
   "cell_type": "code",
   "execution_count": 6,
   "id": "9d83e50b",
   "metadata": {},
   "outputs": [],
   "source": [
    "from octis.dataset.dataset import Dataset"
   ]
  },
  {
   "cell_type": "markdown",
   "id": "9a28ada3",
   "metadata": {},
   "source": [
    "The OCTIS library requires a custom preprocessed Dataset, thus, the narratives will be saved as a text file to follow the convention"
   ]
  },
  {
   "cell_type": "code",
   "execution_count": 60,
   "id": "dd2926ae",
   "metadata": {},
   "outputs": [],
   "source": [
    "decoded_data['narrative'].to_csv('data/narrative_corpus.txt', index = False, header = False)"
   ]
  },
  {
   "cell_type": "code",
   "execution_count": 62,
   "id": "b85171e3",
   "metadata": {},
   "outputs": [
    {
     "name": "stderr",
     "output_type": "stream",
     "text": [
      "100%|█████████████████████████████████████████████████████████████████████████| 115128/115128 [11:59<00:00, 159.93it/s]\n"
     ]
    },
    {
     "name": "stdout",
     "output_type": "stream",
     "text": [
      "created vocab\n",
      "11766\n"
     ]
    }
   ],
   "source": [
    "preprocessor = Preprocessing(stopword_list = 'english')\n",
    "dataset = preprocessor.preprocess_dataset(documents_path = 'data/narrative_corpus.txt')\n",
    "\n",
    "#Now save the custom preprocessed Dataset\n",
    "dataset.save('data/narrative_dataset')"
   ]
  },
  {
   "cell_type": "markdown",
   "id": "90c485fc",
   "metadata": {},
   "source": [
    " "
   ]
  },
  {
   "cell_type": "markdown",
   "id": "d9df55f9",
   "metadata": {},
   "source": [
    "Now build the model and run hyperparameter tuning"
   ]
  },
  {
   "cell_type": "code",
   "execution_count": 63,
   "id": "4ea68f7e",
   "metadata": {
    "scrolled": true
   },
   "outputs": [],
   "source": [
    "#Load the dataset\n",
    "dataset = Dataset()\n",
    "dataset.load_custom_dataset_from_folder('data/narrative_dataset')\n",
    "\n",
    "#Load the model\n",
    "model = NeuralLDA()\n",
    "\n",
    "#Set the hyperparameters range\n",
    "search_space = {'num_topics': Integer(low = 3, high = 10)}   #Set the number of topics parameter to between 1 and 10\n",
    "coherence = Coherence(texts = dataset.get_corpus(), measure = 'c_v')   #This is used to assess the quality of the words in each topic.\n",
    "optimization_runs = 1\n",
    "model_runs = 1"
   ]
  },
  {
   "cell_type": "code",
   "execution_count": 7,
   "id": "cf4b1d48",
   "metadata": {},
   "outputs": [],
   "source": [
    "#Load the dataset\n",
    "dataset = Dataset()\n",
    "dataset.load_custom_dataset_from_folder('data/narrative_dataset')"
   ]
  },
  {
   "cell_type": "code",
   "execution_count": 58,
   "id": "cf28bcad",
   "metadata": {
    "scrolled": true
   },
   "outputs": [
    {
     "name": "stdout",
     "output_type": "stream",
     "text": [
      "Current call:  0\n",
      "Epoch: [1/100]\tSamples: [80508/8050800]\tTrain Loss: 71.86227426847817\tTime: 0:02:25.719557\n",
      "Epoch: [1/100]\tSamples: [17252/1725200]\tValidation Loss: 68.22063518394154\tTime: 0:00:15.153082\n",
      "Epoch: [2/100]\tSamples: [161016/8050800]\tTrain Loss: 70.22019249421447\tTime: 0:02:13.410165\n",
      "Epoch: [2/100]\tSamples: [17252/1725200]\tValidation Loss: 68.60074511288546\tTime: 0:00:14.761426\n",
      "Epoch: [3/100]\tSamples: [241524/8050800]\tTrain Loss: 70.18164196839814\tTime: 0:02:10.858986\n",
      "Epoch: [3/100]\tSamples: [17252/1725200]\tValidation Loss: 68.49555804727804\tTime: 0:00:12.626587\n",
      "Epoch: [4/100]\tSamples: [322032/8050800]\tTrain Loss: 70.16951802162227\tTime: 0:02:27.735134\n",
      "Epoch: [4/100]\tSamples: [17252/1725200]\tValidation Loss: 68.44413852492646\tTime: 0:00:11.106701\n",
      "Epoch: [5/100]\tSamples: [402540/8050800]\tTrain Loss: 70.16356141552897\tTime: 0:01:52.484555\n",
      "Epoch: [5/100]\tSamples: [17252/1725200]\tValidation Loss: 68.46475509123489\tTime: 0:00:10.702955\n",
      "Epoch: [6/100]\tSamples: [483048/8050800]\tTrain Loss: 70.07218900885141\tTime: 0:01:28.328948\n",
      "Epoch: [6/100]\tSamples: [17252/1725200]\tValidation Loss: 68.44624882995903\tTime: 0:00:07.593681\n",
      "Early stopping\n"
     ]
    }
   ],
   "source": [
    "#Run the optimizer\n",
    "optimizer = Optimizer()\n",
    "\n",
    "optimization_result = optimizer.optimize(model, dataset, coherence, search_space, number_of_call = optimization_runs, model_runs = model_runs, \n",
    "                                        save_models = True, extra_metrics = None, save_path = 'results/neuralLDA//')"
   ]
  },
  {
   "cell_type": "markdown",
   "id": "80e46669",
   "metadata": {},
   "source": [
    "Save the optimizer's result for easier future reference"
   ]
  },
  {
   "cell_type": "code",
   "execution_count": 59,
   "id": "fcb31ede",
   "metadata": {},
   "outputs": [],
   "source": [
    "optimization_result.save_to_csv('results/neuralLDA_results.csv')"
   ]
  },
  {
   "cell_type": "markdown",
   "id": "ebd3ad65",
   "metadata": {},
   "source": [
    "Checking out the best number of topics from hyperparameter tuning"
   ]
  },
  {
   "cell_type": "code",
   "execution_count": 64,
   "id": "53af362d",
   "metadata": {},
   "outputs": [
    {
     "data": {
      "text/plain": [
       "{'num_topics': [6]}"
      ]
     },
     "execution_count": 64,
     "metadata": {},
     "output_type": "execute_result"
    }
   ],
   "source": [
    "optimization_result.x_iters"
   ]
  },
  {
   "cell_type": "markdown",
   "id": "36b0b675",
   "metadata": {},
   "source": [
    "The result from above shows that the suggested number of topics distinctly explaining the narratives is 6\n",
    "\n",
    "We can now use the hyperparameter tuning result to build our model, test the efficiency of the model using Coherence and TopicDiversity values and then print out the top 10 words per topic, and correlate the results to the efficiency tests"
   ]
  },
  {
   "cell_type": "code",
   "execution_count": 74,
   "id": "fc228d75",
   "metadata": {},
   "outputs": [
    {
     "name": "stdout",
     "output_type": "stream",
     "text": [
      "Epoch: [1/100]\tSamples: [80508/8050800]\tTrain Loss: 72.04183123142168\tTime: 0:01:41.074213\n",
      "Epoch: [1/100]\tSamples: [17252/1725200]\tValidation Loss: 68.61144047327393\tTime: 0:00:08.090366\n",
      "Epoch: [2/100]\tSamples: [161016/8050800]\tTrain Loss: 70.3700271828576\tTime: 0:01:22.068280\n",
      "Epoch: [2/100]\tSamples: [17252/1725200]\tValidation Loss: 68.29451257293086\tTime: 0:00:06.911953\n",
      "Epoch: [3/100]\tSamples: [241524/8050800]\tTrain Loss: 70.16162155469021\tTime: 0:01:28.871884\n",
      "Epoch: [3/100]\tSamples: [17252/1725200]\tValidation Loss: 68.75120389121551\tTime: 0:00:07.196902\n",
      "Epoch: [4/100]\tSamples: [322032/8050800]\tTrain Loss: 70.06892538835912\tTime: 0:01:22.684268\n",
      "Epoch: [4/100]\tSamples: [17252/1725200]\tValidation Loss: 68.4571455511725\tTime: 0:00:07.358258\n",
      "Epoch: [5/100]\tSamples: [402540/8050800]\tTrain Loss: 69.996349538463\tTime: 0:01:20.437016\n",
      "Epoch: [5/100]\tSamples: [17252/1725200]\tValidation Loss: 68.35278815612864\tTime: 0:00:06.976774\n",
      "Epoch: [6/100]\tSamples: [483048/8050800]\tTrain Loss: 69.95314628512753\tTime: 0:01:20.241487\n",
      "Epoch: [6/100]\tSamples: [17252/1725200]\tValidation Loss: 68.51776512211447\tTime: 0:00:06.724010\n",
      "Epoch: [7/100]\tSamples: [563556/8050800]\tTrain Loss: 69.97585616673479\tTime: 0:01:21.603381\n",
      "Epoch: [7/100]\tSamples: [17252/1725200]\tValidation Loss: 68.20810997173788\tTime: 0:00:07.375650\n",
      "Epoch: [8/100]\tSamples: [644064/8050800]\tTrain Loss: 70.13232759392409\tTime: 0:01:19.552049\n",
      "Epoch: [8/100]\tSamples: [17252/1725200]\tValidation Loss: 68.57239487009205\tTime: 0:00:06.801736\n",
      "Epoch: [9/100]\tSamples: [724572/8050800]\tTrain Loss: 70.01015569869124\tTime: 0:01:23.490750\n",
      "Epoch: [9/100]\tSamples: [17252/1725200]\tValidation Loss: 68.37878504292527\tTime: 0:00:07.438131\n",
      "Epoch: [10/100]\tSamples: [805080/8050800]\tTrain Loss: 70.0203260898519\tTime: 0:01:19.519687\n",
      "Epoch: [10/100]\tSamples: [17252/1725200]\tValidation Loss: 68.26444161421955\tTime: 0:00:07.004361\n",
      "Epoch: [11/100]\tSamples: [885588/8050800]\tTrain Loss: 70.02970370629413\tTime: 0:01:19.537763\n",
      "Epoch: [11/100]\tSamples: [17252/1725200]\tValidation Loss: 68.57917254611785\tTime: 0:00:07.160240\n",
      "Epoch: [12/100]\tSamples: [966096/8050800]\tTrain Loss: 69.9461052352959\tTime: 0:01:21.149142\n",
      "Epoch: [12/100]\tSamples: [17252/1725200]\tValidation Loss: 68.29950583741197\tTime: 0:00:06.867178\n",
      "Early stopping\n"
     ]
    }
   ],
   "source": [
    "#Load the model\n",
    "model = NeuralLDA(num_topics = 6)\n",
    "\n",
    "trained_nlda_model = model.train_model(dataset)"
   ]
  },
  {
   "cell_type": "markdown",
   "id": "4104e475",
   "metadata": {},
   "source": [
    "Testing the efficiency of the model"
   ]
  },
  {
   "cell_type": "code",
   "execution_count": 75,
   "id": "6162ff78",
   "metadata": {},
   "outputs": [
    {
     "name": "stdout",
     "output_type": "stream",
     "text": [
      "Coherence Score: 0.3304099927569614\n",
      "Diversity Score: 1.0\n"
     ]
    }
   ],
   "source": [
    "#Number of words per topic is set to 10, since that's our current focus\n",
    "cv = Coherence(texts = dataset.get_corpus(), topk = 10, measure = 'c_v')\n",
    "cv_score = cv.score(trained_nlda_model)\n",
    "\n",
    "diversity = TopicDiversity(topk = 10)\n",
    "diversity_score = diversity.score(trained_nlda_model)\n",
    "\n",
    "print(f'Coherence Score: {cv_score}')\n",
    "print(f'Diversity Score: {diversity_score}')"
   ]
  },
  {
   "cell_type": "markdown",
   "id": "42b56f8d",
   "metadata": {},
   "source": [
    "The Coherence score is used to access the quality of the topics, and a high coherence score implies there's meaningful connections and correlations between the words in a specific topic, and vice versa for a low coherence.   \n",
    "We having a coherence score of 0.33 implies that there might not be that meaningful connections between the words in each topic, but regardless it's still a considerable score.\n",
    "<pre>\n",
    "</pre>\n",
    "The Diversity score also accesses the quality of the topics, by checking how uniquely words differ per topic.   \n",
    "We having a diversity score of 1 implies that each topic is unique and the words in each topic are correlated, but differ against words in other topics. This is a relatively high score showing the meaningfulness of each topic\n",
    "<pre>\n",
    "\n",
    "</pre>\n",
    "Accessing the words in each topic"
   ]
  },
  {
   "cell_type": "code",
   "execution_count": 142,
   "id": "284723d0",
   "metadata": {},
   "outputs": [],
   "source": [
    "topics = np.array(trained_nlda_model['topics']).T\n",
    "\n",
    "headers = [f'Topic {i}' for i in range(1, 7)]\n",
    "\n",
    "nlda_topics = pd.DataFrame(topics, columns = headers, index = range(1, 11))"
   ]
  },
  {
   "cell_type": "code",
   "execution_count": 143,
   "id": "432146ed",
   "metadata": {},
   "outputs": [
    {
     "data": {
      "text/html": [
       "<div>\n",
       "<style scoped>\n",
       "    .dataframe tbody tr th:only-of-type {\n",
       "        vertical-align: middle;\n",
       "    }\n",
       "\n",
       "    .dataframe tbody tr th {\n",
       "        vertical-align: top;\n",
       "    }\n",
       "\n",
       "    .dataframe thead th {\n",
       "        text-align: right;\n",
       "    }\n",
       "</style>\n",
       "<table border=\"1\" class=\"dataframe\">\n",
       "  <thead>\n",
       "    <tr style=\"text-align: right;\">\n",
       "      <th></th>\n",
       "      <th>Topic 1</th>\n",
       "      <th>Topic 2</th>\n",
       "      <th>Topic 3</th>\n",
       "      <th>Topic 4</th>\n",
       "      <th>Topic 5</th>\n",
       "      <th>Topic 6</th>\n",
       "    </tr>\n",
       "  </thead>\n",
       "  <tbody>\n",
       "    <tr>\n",
       "      <th>1</th>\n",
       "      <td>ecf</td>\n",
       "      <td>backward</td>\n",
       "      <td>hardwood</td>\n",
       "      <td>deck</td>\n",
       "      <td>wood</td>\n",
       "      <td>home</td>\n",
       "    </tr>\n",
       "    <tr>\n",
       "      <th>2</th>\n",
       "      <td>hour</td>\n",
       "      <td>cement</td>\n",
       "      <td>bedroom</td>\n",
       "      <td>cord</td>\n",
       "      <td>cat</td>\n",
       "      <td>floor</td>\n",
       "    </tr>\n",
       "    <tr>\n",
       "      <th>3</th>\n",
       "      <td>recliner</td>\n",
       "      <td>min</td>\n",
       "      <td>dizziness</td>\n",
       "      <td>commode</td>\n",
       "      <td>seizure</td>\n",
       "      <td>head</td>\n",
       "    </tr>\n",
       "    <tr>\n",
       "      <th>4</th>\n",
       "      <td>store</td>\n",
       "      <td>unsure</td>\n",
       "      <td>end</td>\n",
       "      <td>slipper</td>\n",
       "      <td>bedside</td>\n",
       "      <td>hit</td>\n",
       "    </tr>\n",
       "    <tr>\n",
       "      <th>5</th>\n",
       "      <td>ecchymosis</td>\n",
       "      <td>inr</td>\n",
       "      <td>center</td>\n",
       "      <td>trash</td>\n",
       "      <td>restroom</td>\n",
       "      <td>fall</td>\n",
       "    </tr>\n",
       "    <tr>\n",
       "      <th>6</th>\n",
       "      <td>afib</td>\n",
       "      <td>ear</td>\n",
       "      <td>refrigerator</td>\n",
       "      <td>frame</td>\n",
       "      <td>sidewalk</td>\n",
       "      <td>nurse</td>\n",
       "    </tr>\n",
       "    <tr>\n",
       "      <th>7</th>\n",
       "      <td>hear</td>\n",
       "      <td>shin</td>\n",
       "      <td>flight</td>\n",
       "      <td>change</td>\n",
       "      <td>church</td>\n",
       "      <td>bed</td>\n",
       "    </tr>\n",
       "    <tr>\n",
       "      <th>8</th>\n",
       "      <td>coffee</td>\n",
       "      <td>x</td>\n",
       "      <td>nh</td>\n",
       "      <td>endorse</td>\n",
       "      <td>increase</td>\n",
       "      <td>trip</td>\n",
       "    </tr>\n",
       "    <tr>\n",
       "      <th>9</th>\n",
       "      <td>etoh</td>\n",
       "      <td>ct</td>\n",
       "      <td>rehab</td>\n",
       "      <td>flank</td>\n",
       "      <td>mild</td>\n",
       "      <td>strike</td>\n",
       "    </tr>\n",
       "    <tr>\n",
       "      <th>10</th>\n",
       "      <td>able</td>\n",
       "      <td>vomit</td>\n",
       "      <td>ramp</td>\n",
       "      <td>tonight</td>\n",
       "      <td>chi</td>\n",
       "      <td>hip</td>\n",
       "    </tr>\n",
       "  </tbody>\n",
       "</table>\n",
       "</div>"
      ],
      "text/plain": [
       "       Topic 1   Topic 2       Topic 3  Topic 4   Topic 5 Topic 6\n",
       "1          ecf  backward      hardwood     deck      wood    home\n",
       "2         hour    cement       bedroom     cord       cat   floor\n",
       "3     recliner       min     dizziness  commode   seizure    head\n",
       "4        store    unsure           end  slipper   bedside     hit\n",
       "5   ecchymosis       inr        center    trash  restroom    fall\n",
       "6         afib       ear  refrigerator    frame  sidewalk   nurse\n",
       "7         hear      shin        flight   change    church     bed\n",
       "8       coffee         x            nh  endorse  increase    trip\n",
       "9         etoh        ct         rehab    flank      mild  strike\n",
       "10        able     vomit          ramp  tonight       chi     hip"
      ]
     },
     "execution_count": 143,
     "metadata": {},
     "output_type": "execute_result"
    }
   ],
   "source": [
    "#Overview of the dataframe\n",
    "nlda_topics"
   ]
  },
  {
   "cell_type": "markdown",
   "id": "e5b178f0",
   "metadata": {},
   "source": [
    "***insights from these topics***\n",
    "\n",
    "#### Topic 1: Factors Contributing to Falls in Older Adults\n",
    "\n",
    "Topic 1 revolves around factors that could contribute to falls in older adults. It suggests that cognitive impairments, heart conditions like atrial fibrillation, issues with furniture like recliners, and alcohol consumption may be relevant factors. \n",
    "\n",
    "#### Topic 2: Medical Context and Conditions\n",
    "\n",
    "Topic 2 seems to be associated with medical themes, encompassing terms connected to time, medical procedures, anatomical components, and diagnostic methodologies.\n",
    "\n",
    "\n",
    "#### Topic 3: Living Conditions, Health, and Environment\n",
    "\n",
    "Topic 3 appears to address elements related to living conditions, health, and environmental factors that could potentially be linked to falls or related concerns within a particular context.\n",
    "\n",
    "\n",
    "#### Topic 4: Household or Environmental Elements\n",
    "\n",
    "Topic 4 seems to include items typically found in households or environments, and it might be associated with factors that could potentially contribute to safety concerns or falls in a particular context.\n",
    "\n",
    "\n",
    "#### Topic 5: Varied Terms with Possible Medical and Environmental Connections\n",
    "\n",
    "Topic 5 appears to contain a mix of terms with potential connections to healthcare, environmental factors, and safety concerns, but the specific relationship to falls in older adults is not immediately evident\n",
    "\n",
    "\n",
    "#### Topic 6: Falls and Healthcare-Related Elements\n",
    "\n",
    "Topic 6 is closely associated with falls and healthcare-related aspects, underscoring the importance of factors such as the home environment, flooring, and healthcare personnel in comprehending and mitigating falls among older adults."
   ]
  },
  {
   "cell_type": "code",
   "execution_count": null,
   "id": "7b5c94f6",
   "metadata": {},
   "outputs": [],
   "source": []
  },
  {
   "cell_type": "markdown",
   "id": "001186c8",
   "metadata": {},
   "source": [
    "#### 5.2 FLSAW\n",
    "\n",
    "\n",
    "\n",
    "\n",
    "\n",
    "Import required modules\n"
   ]
  },
  {
   "cell_type": "code",
   "execution_count": 2,
   "id": "1f410142",
   "metadata": {},
   "outputs": [],
   "source": [
    "from FuzzyTM import FLSA_W"
   ]
  },
  {
   "cell_type": "code",
   "execution_count": 3,
   "id": "eff38b0b",
   "metadata": {},
   "outputs": [
    {
     "ename": "NameError",
     "evalue": "name 'dataset' is not defined",
     "output_type": "error",
     "traceback": [
      "\u001b[1;31m---------------------------------------------------------------------------\u001b[0m",
      "\u001b[1;31mNameError\u001b[0m                                 Traceback (most recent call last)",
      "Input \u001b[1;32mIn [3]\u001b[0m, in \u001b[0;36m<cell line: 1>\u001b[1;34m()\u001b[0m\n\u001b[1;32m----> 1\u001b[0m flsaw_model \u001b[38;5;241m=\u001b[39m FLSA_W(input_file \u001b[38;5;241m=\u001b[39m \u001b[43mdataset\u001b[49m\u001b[38;5;241m.\u001b[39m_Dataset__corpus, num_topics \u001b[38;5;241m=\u001b[39m \u001b[38;5;241m6\u001b[39m, num_words\u001b[38;5;241m=\u001b[39m\u001b[38;5;241m10\u001b[39m)\n",
      "\u001b[1;31mNameError\u001b[0m: name 'dataset' is not defined"
     ]
    }
   ],
   "source": [
    "flsaw_model = FLSA_W(input_file = dataset._Dataset__corpus, num_topics = 6, num_words=10)\n",
    "\n"
   ]
  },
  {
   "cell_type": "markdown",
   "id": "19d1b148",
   "metadata": {},
   "source": []
  },
  {
   "cell_type": "code",
   "execution_count": 1,
   "id": "a55e7d43",
   "metadata": {},
   "outputs": [
    {
     "ename": "NameError",
     "evalue": "name 'flsaw_model' is not defined",
     "output_type": "error",
     "traceback": [
      "\u001b[1;31m---------------------------------------------------------------------------\u001b[0m",
      "\u001b[1;31mNameError\u001b[0m                                 Traceback (most recent call last)",
      "Input \u001b[1;32mIn [1]\u001b[0m, in \u001b[0;36m<cell line: 1>\u001b[1;34m()\u001b[0m\n\u001b[1;32m----> 1\u001b[0m pwgt, ptgd \u001b[38;5;241m=\u001b[39m \u001b[43mflsaw_model\u001b[49m\u001b[38;5;241m.\u001b[39mget_matrices()\n",
      "\u001b[1;31mNameError\u001b[0m: name 'flsaw_model' is not defined"
     ]
    }
   ],
   "source": [
    "pwgt, ptgd = flsaw_model.get_matrices()"
   ]
  },
  {
   "cell_type": "code",
   "execution_count": null,
   "id": "edd39a62",
   "metadata": {},
   "outputs": [],
   "source": [
    "flsaw_topics = flsaw_model.show_topics(representation='words',prob_word_given_topic=pwgt)"
   ]
  },
  {
   "cell_type": "code",
   "execution_count": null,
   "id": "c62a2deb",
   "metadata": {},
   "outputs": [],
   "source": []
  }
 ],
 "metadata": {
  "kernelspec": {
   "display_name": "Python 3 (ipykernel)",
   "language": "python",
   "name": "python3"
  },
  "language_info": {
   "codemirror_mode": {
    "name": "ipython",
    "version": 3
   },
   "file_extension": ".py",
   "mimetype": "text/x-python",
   "name": "python",
   "nbconvert_exporter": "python",
   "pygments_lexer": "ipython3",
   "version": "3.9.12"
  }
 },
 "nbformat": 4,
 "nbformat_minor": 5
}
